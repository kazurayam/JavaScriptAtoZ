{
 "cells": [
  {
   "cell_type": "code",
   "execution_count": 25,
   "id": "e1162730-5cb3-48f7-960e-a92390e145fc",
   "metadata": {},
   "outputs": [
    {
     "name": "stdout",
     "output_type": "stream",
     "text": [
      "こんにちは　 JavaScript on Deno\n"
     ]
    }
   ],
   "source": [
    "let msg = 'こんにちは　 JavaScript on Deno';\n",
    "console.log(msg);"
   ]
  },
  {
   "cell_type": "code",
   "execution_count": 26,
   "id": "a2bf3506",
   "metadata": {},
   "outputs": [
    {
     "name": "stdout",
     "output_type": "stream",
     "text": [
      "110\n"
     ]
    }
   ],
   "source": [
    "const TAX = 1.1;\n",
    "let price = 100;\n",
    "console.log(Math.floor(price * TAX));"
   ]
  },
  {
   "cell_type": "code",
   "execution_count": 27,
   "id": "ef5627df",
   "metadata": {},
   "outputs": [
    {
     "name": "stdout",
     "output_type": "stream",
     "text": [
      "JavaScript\n",
      "Python\n",
      "PHP\n",
      "Ruby\n",
      "Perl\n"
     ]
    }
   ],
   "source": [
    "let data = ['JavaScript', 'Python', 'PHP', 'Ruby', 'Perl',];\n",
    "console.log(data[0]);\n",
    "for (let i = 1; i < data.length; i++) {\n",
    "  console.log(data[i]);\n",
    "}"
   ]
  },
  {
   "cell_type": "code",
   "execution_count": 28,
   "id": "f559a3e4",
   "metadata": {},
   "outputs": [
    {
     "name": "stdout",
     "output_type": "stream",
     "text": [
      "true\n"
     ]
    }
   ],
   "source": [
    "let list1 = [undefined];\n",
    "console.log(0 in list1);"
   ]
  },
  {
   "cell_type": "code",
   "execution_count": 29,
   "id": "647d7c1c",
   "metadata": {},
   "outputs": [
    {
     "name": "stdout",
     "output_type": "stream",
     "text": [
      "false\n"
     ]
    }
   ],
   "source": [
    "let list2 = [];\n",
    "list2[1] = 15;\n",
    "console.log(0 in list2);"
   ]
  },
  {
   "cell_type": "code",
   "execution_count": 30,
   "id": "a809b0f4",
   "metadata": {},
   "outputs": [
    {
     "name": "stdout",
     "output_type": "stream",
     "text": [
      "JavaScript js\n",
      "Python py\n",
      "PHP php\n",
      "Ruby rb\n",
      "Perl perl\n"
     ]
    }
   ],
   "source": [
    "let data = [\n",
    "  ['JavaScript', 'js'],\n",
    "  ['Python', 'py'],\n",
    "  ['PHP', 'php'],\n",
    "  ['Ruby', 'rb'],\n",
    "  ['Perl', 'perl']\n",
    "];\n",
    "for (let i = 0; i < data.length; i++) {\n",
    "  console.log(data[i][0] + \" \" + data[i][1]);\n",
    "}"
   ]
  },
  {
   "cell_type": "code",
   "execution_count": 2,
   "id": "4554a52e",
   "metadata": {},
   "outputs": [
    {
     "name": "stdout",
     "output_type": "stream",
     "text": [
      "JavaScript本格入門\n",
      "\u001b[33m2980\u001b[39m\n",
      "技術評論社\n"
     ]
    }
   ],
   "source": [
    "let book = {\n",
    "  title: \"JavaScript本格入門\",\n",
    "  price: 2980,\n",
    "  publisher: \"技術評論社\",\n",
    "};\n",
    "console.log(book.title);\n",
    "console.log(book.price);\n",
    "console.log(book.publisher);"
   ]
  },
  {
   "cell_type": "code",
   "execution_count": 6,
   "id": "7677d407",
   "metadata": {},
   "outputs": [
    {
     "ename": "ReferenceError",
     "evalue": "assertEquals is not defined",
     "output_type": "error",
     "traceback": [
      "Stack trace:",
      "ReferenceError: assertEquals is not defined",
      "    at <anonymous>:6:1"
     ]
    }
   ],
   "source": [
    "// https://docs.deno.com/runtime/manual/basics/testing/assertions\n",
    "import { assert } from \"https://deno.land/std@0.208.0/assert/mod.ts\";\n",
    "\n",
    "let x = 1;\n",
    "let y = x;\n",
    "x = 2;\n",
    "assertEquals(y, 1);"
   ]
  },
  {
   "cell_type": "code",
   "execution_count": null,
   "id": "60e426e8",
   "metadata": {},
   "outputs": [],
   "source": []
  }
 ],
 "metadata": {
  "kernelspec": {
   "display_name": "Deno",
   "language": "typescript",
   "name": "deno"
  },
  "language_info": {
   "file_extension": ".ts",
   "mimetype": "text/x.typescript",
   "name": "typescript",
   "nb_converter": "script",
   "pygments_lexer": "typescript",
   "version": "5.2.2"
  }
 },
 "nbformat": 4,
 "nbformat_minor": 5
}
