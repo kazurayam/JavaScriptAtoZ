{
 "cells": [
  {
   "cell_type": "code",
   "execution_count": 9,
   "metadata": {},
   "outputs": [
    {
     "name": "stdout",
     "output_type": "stream",
     "text": [
      "<html>\n",
      "  <head>\n",
      "    <meta charset=\"UTF-8\" />\n",
      "    <title>JavaScript本格入門</title>\n",
      "  </head>\n",
      "  <body>\n",
      "    <form>\n",
      "      <input id=\"btn\" type=\"button\" value=\"Click\" />\n",
      "    </form>\n",
      "    <script type=\"text/javascript\" src=\"./js/fetch_book.js\"></script>\n",
      "    <script type=\"text/javascript\" src=\"./js/fetch_basic.js\"></script>\n",
      "  </body>\n",
      "</html>\n"
     ]
    }
   ],
   "source": [
    "const response = await fetch(\"http://localhost:3000/\");\n",
    "const text = await response.text();\n",
    "console.log(text);"
   ]
  },
  {
   "cell_type": "code",
   "execution_count": 10,
   "metadata": {},
   "outputs": [
    {
     "name": "stdout",
     "output_type": "stream",
     "text": [
      "Hello from /run-query\n"
     ]
    }
   ],
   "source": [
    "const response = await fetch(\"http://localhost:3000/run-query\");\n",
    "const text = await response.text();\n",
    "console.log(text);"
   ]
  },
  {
   "cell_type": "code",
   "execution_count": 11,
   "metadata": {},
   "outputs": [
    {
     "name": "stdout",
     "output_type": "stream",
     "text": [
      "Hello from /run-post\n"
     ]
    }
   ],
   "source": [
    "const response = await fetch(\"http://localhost:3000/run-post\", { method: 'POST' });\n",
    "const text = await response.text();\n",
    "console.log(text);"
   ]
  },
  {
   "cell_type": "code",
   "execution_count": 12,
   "metadata": {},
   "outputs": [
    {
     "name": "stdout",
     "output_type": "stream",
     "text": [
      "let btn = document.querySelector('#btn');\n",
      "btn.addEventListener('click', function() {\n",
      "  fetchBook();\n",
      "}, false);\n"
     ]
    }
   ],
   "source": [
    "const response = await fetch(\"http://localhost:3000/js/fetch_basic.js\");\n",
    "const text = await response.text();\n",
    "console.log(text);"
   ]
  },
  {
   "cell_type": "code",
   "execution_count": 13,
   "metadata": {},
   "outputs": [
    {
     "name": "stdout",
     "output_type": "stream",
     "text": [
      "{\n",
      "  \"title\": \"JavaScript本格入門\",\n",
      "  \"price\": 3200,\n",
      "  \"publisher\": \"技術評論社\"\n",
      "}\n"
     ]
    }
   ],
   "source": [
    "const response = await fetch(\"http://localhost:3000/book.json\");\n",
    "const text = await response.text();\n",
    "console.log(text);"
   ]
  },
  {
   "cell_type": "code",
   "execution_count": 14,
   "metadata": {},
   "outputs": [
    {
     "name": "stdout",
     "output_type": "stream",
     "text": [
      "<html>\n",
      "  <head>\n",
      "    <meta charset=\"UTF-8\" />\n",
      "    <title>JavaScript本格入門</title>\n",
      "  </head>\n",
      "  <body>\n",
      "    <input id='btn' type=\"button\" value=\"do something\"/>\n",
      "    <div id=\"result\"></div>\n",
      "    <script type=\"text/javascript\" src=\"./js/fetch_book.js\"></script>\n",
      "    <script type=\"text/javascript\" src=\"./js/fetch_basic.js\"></script>\n",
      "  </body>\n",
      "</html>\n"
     ]
    }
   ],
   "source": [
    "const response = await fetch(\"http://localhost:3000/fetch_basic.html\");\n",
    "const text = await response.text();\n",
    "console.log(text);"
   ]
  }
 ],
 "metadata": {
  "kernelspec": {
   "display_name": "Deno",
   "language": "typescript",
   "name": "deno"
  },
  "language_info": {
   "file_extension": ".ts",
   "mimetype": "text/x.typescript",
   "name": "typescript",
   "nb_converter": "script",
   "pygments_lexer": "typescript",
   "version": "5.3.3"
  }
 },
 "nbformat": 4,
 "nbformat_minor": 2
}
