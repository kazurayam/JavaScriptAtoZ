{
 "cells": [
  {
   "cell_type": "code",
   "execution_count": 2,
   "metadata": {},
   "outputs": [
    {
     "data": {
      "text/plain": [
       "Promise { \u001b[36m<pending>\u001b[39m }"
      ]
     },
     "execution_count": 2,
     "metadata": {},
     "output_type": "execute_result"
    }
   ],
   "source": [
    "function asyncProcess(value) {\n",
    "  return new Promise((resolve, reject) => {\n",
    "    setTimeout(() => {\n",
    "      if (value) {\n",
    "        resolve(`input: ${value}`);\n",
    "      } else {\n",
    "        reject('empty input')\n",
    "      }\n",
    "    }, 500);\n",
    "  });\n",
    "}\n",
    "\n",
    "asyncProcess('ぱんだ')\n",
    "  .then(response => console.log(response))\n",
    "  .catch(error => console.log(`error: ${error}`))\n",
    "  .finally(() => console.log('finished'));"
   ]
  },
  {
   "cell_type": "code",
   "execution_count": 3,
   "metadata": {},
   "outputs": [
    {
     "data": {
      "text/plain": [
       "Promise { \u001b[36m<pending>\u001b[39m }"
      ]
     },
     "execution_count": 3,
     "metadata": {},
     "output_type": "execute_result"
    }
   ],
   "source": [
    "asyncProcess('トクジロウ')\n",
    "  .then(\n",
    "    response => {\n",
    "      console.log(response);\n",
    "      return asyncProcess('');\n",
    "    },\n",
    "  )\n",
    "  .then(response => console.log(response))\n",
    "  .catch(error => console.log(`ERROR: ${error}`));"
   ]
  },
  {
   "cell_type": "code",
   "execution_count": 6,
   "metadata": {},
   "outputs": [
    {
     "name": "stdout",
     "output_type": "stream",
     "text": [
      "[ \"input: トクジロウ\", \"input: ニンザブロウ\", \"input: リンリン\" ]\n"
     ]
    },
    {
     "data": {
      "text/plain": [
       "Promise { \u001b[36m<pending>\u001b[39m }"
      ]
     },
     "execution_count": 6,
     "metadata": {},
     "output_type": "execute_result"
    },
    {
     "name": "stdout",
     "output_type": "stream",
     "text": [
      "[ \"input: トクジロウ\", \"input: ニンザブロウ\", \"input: リンリン\" ]\n"
     ]
    }
   ],
   "source": [
    "Promise.all([\n",
    "  asyncProcess('トクジロウ'),\n",
    "  asyncProcess('ニンザブロウ'),\n",
    "  asyncProcess('リンリン'),\n",
    "  //asyncProcess('')\n",
    "]).then(response => console.log(response)).catch(error => console.log(`エラー: ${error}`));\n"
   ]
  },
  {
   "cell_type": "code",
   "execution_count": 8,
   "metadata": {},
   "outputs": [
    {
     "name": "stdout",
     "output_type": "stream",
     "text": [
      "[\n",
      "  { status: \"fulfilled\", value: \"input: トクジロウ\" },\n",
      "  { status: \"fulfilled\", value: \"input: ニンザブロウ\" },\n",
      "  { status: \"fulfilled\", value: \"input: リンリン\" }\n",
      "]\n"
     ]
    },
    {
     "data": {
      "text/plain": [
       "Promise { \u001b[36m<pending>\u001b[39m }"
      ]
     },
     "execution_count": 8,
     "metadata": {},
     "output_type": "execute_result"
    },
    {
     "name": "stdout",
     "output_type": "stream",
     "text": [
      "[\n",
      "  { status: \"fulfilled\", value: \"input: トクジロウ\" },\n",
      "  { status: \"fulfilled\", value: \"input: ニンザブロウ\" },\n",
      "  { status: \"fulfilled\", value: \"input: リンリン\" }\n",
      "]\n"
     ]
    }
   ],
   "source": [
    "Promise.allSettled([\n",
    "  asyncProcess('トクジロウ'),\n",
    "  asyncProcess('ニンザブロウ'),\n",
    "  asyncProcess('リンリン'),\n",
    "  //asyncProcess('')\n",
    "]).then(response => console.log(response)).catch(error => console.log(`エラー: ${error}`));\n"
   ]
  },
  {
   "cell_type": "code",
   "execution_count": 10,
   "metadata": {},
   "outputs": [
    {
     "name": "stdout",
     "output_type": "stream",
     "text": [
      "input: トクジロウ\n"
     ]
    },
    {
     "data": {
      "text/plain": [
       "Promise { \u001b[36m<pending>\u001b[39m }"
      ]
     },
     "execution_count": 10,
     "metadata": {},
     "output_type": "execute_result"
    },
    {
     "name": "stdout",
     "output_type": "stream",
     "text": [
      "input: トクジロウ\n"
     ]
    }
   ],
   "source": [
    "Promise.race([\n",
    "  asyncProcess('トクジロウ'),\n",
    "  asyncProcess('ニンザブロウ'),\n",
    "  asyncProcess('リンリン'),\n",
    "  //asyncProcess('')\n",
    "]).then(response => console.log(response)).catch(error => console.log(`エラー: ${error}`));\n"
   ]
  },
  {
   "cell_type": "code",
   "execution_count": 14,
   "metadata": {},
   "outputs": [
    {
     "name": "stdout",
     "output_type": "stream",
     "text": [
      "input: ニンザブロウ\n"
     ]
    },
    {
     "data": {
      "text/plain": [
       "Promise { \u001b[36m<pending>\u001b[39m }"
      ]
     },
     "execution_count": 14,
     "metadata": {},
     "output_type": "execute_result"
    },
    {
     "name": "stdout",
     "output_type": "stream",
     "text": [
      "input: ニンザブロウ\n"
     ]
    }
   ],
   "source": [
    "Promise.any([\n",
    "  asyncProcess(),\n",
    "  asyncProcess('ニンザブロウ'),\n",
    "  asyncProcess('リンリン'),\n",
    "  //asyncProcess('')\n",
    "]).then(response => console.log(response)).catch(error => console.log(`エラー: ${error}`));\n"
   ]
  },
  {
   "cell_type": "markdown",
   "metadata": {},
   "source": [
    "### 10.5.4 async / await"
   ]
  },
  {
   "cell_type": "code",
   "execution_count": 4,
   "metadata": {},
   "outputs": [
    {
     "name": "stdout",
     "output_type": "stream",
     "text": [
      "256\n"
     ]
    },
    {
     "data": {
      "text/plain": [
       "Promise { \u001b[36m<pending>\u001b[39m }"
      ]
     },
     "execution_count": 4,
     "metadata": {},
     "output_type": "execute_result"
    }
   ],
   "source": [
    "function asyncProcess(value) {\n",
    "  return new Promise((resolve, reject) => {\n",
    "    setTimeout(() => {\n",
    "      if (typeof value === 'number') {\n",
    "        resolve(value ** 2);\n",
    "      } else {\n",
    "        reject('argument value must be a number');\n",
    "      }\n",
    "    }, 500);\n",
    "  });\n",
    "}\n",
    "\n",
    "async function main() {\n",
    "  let result1 = await asyncProcess(2);\n",
    "  let result2 = await asyncProcess(result1);\n",
    "  let result3 = await asyncProcess(result2);\n",
    "  return result3;\n",
    "}\n",
    "\n",
    "main()\n",
    "  .then(response => console.log(response))\n",
    "  .catch(error => console.log(`エラー: ${error}`));"
   ]
  },
  {
   "cell_type": "markdown",
   "metadata": {},
   "source": [
    "### 10.5.5 Async Iterator"
   ]
  },
  {
   "cell_type": "code",
   "execution_count": 6,
   "metadata": {},
   "outputs": [
    {
     "data": {
      "text/plain": [
       "Promise {\n",
       "  \u001b[36m<rejected>\u001b[39m TypeError: Invalid URL: 'book1.json'\n",
       "    at getSerialization (ext:deno_url/00_url.js:90:11)\n",
       "    at new URL (ext:deno_url/00_url.js:381:27)\n",
       "    at new Request (ext:deno_fetch/23_request.js:305:25)\n",
       "    at ext:deno_fetch/26_fetch.js:313:27\n",
       "    at new Promise (<anonymous>)\n",
       "    at fetch (ext:deno_fetch/26_fetch.js:309:18)\n",
       "    at getContents (<anonymous>:3:24)\n",
       "    at getContents.next (<anonymous>)\n",
       "    at main (<anonymous>:8:18)\n",
       "    at <anonymous>:13:1\n",
       "}"
      ]
     },
     "execution_count": 6,
     "metadata": {},
     "output_type": "execute_result"
    }
   ],
   "source": [
    "async function* getContents(...list) {\n",
    "  for (let name of list) {\n",
    "    let result = await fetch(name);\n",
    "    yield result.json();\n",
    "  }\n",
    "}\n",
    "\n",
    "async function main() {\n",
    "  for await (let data of getContents('book1.json', 'book2.json', 'book3.json')) {\n",
    "    console.log(data.title);\n",
    "  }\n",
    "}\n",
    "\n",
    "//console.log(`Current Working Directory is ${process.cwd()}`)\n",
    "\n",
    "main();"
   ]
  }
 ],
 "metadata": {
  "kernelspec": {
   "display_name": "Deno",
   "language": "typescript",
   "name": "deno"
  },
  "language_info": {
   "file_extension": ".ts",
   "mimetype": "text/x.typescript",
   "name": "typescript",
   "nb_converter": "script",
   "pygments_lexer": "typescript",
   "version": "5.3.3"
  }
 },
 "nbformat": 4,
 "nbformat_minor": 2
}
