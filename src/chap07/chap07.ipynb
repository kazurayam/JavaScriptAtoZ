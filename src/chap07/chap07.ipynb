{
 "cells": [
  {
   "cell_type": "markdown",
   "metadata": {},
   "source": [
    "# 7 Object"
   ]
  },
  {
   "cell_type": "code",
   "execution_count": 2,
   "metadata": {},
   "outputs": [
    {
     "name": "stdout",
     "output_type": "stream",
     "text": [
      "わたしは 大谷翔平 、27 歳です\n"
     ]
    },
    {
     "ename": "",
     "evalue": "",
     "output_type": "error",
     "traceback": [
      "\u001b[1;31mThe Kernel crashed while executing code in the the current cell or a previous cell. Please review the code in the cell(s) to identify a possible cause of the failure. Click <a href='https://aka.ms/vscodeJupyterKernelCrash'>here</a> for more info. View Jupyter <a href='command:jupyter.viewOutput'>log</a> for further details."
     ]
    }
   ],
   "source": [
    "let member = {\n",
    "  name: '大谷翔平',\n",
    "  age: '27',\n",
    "  show() {\n",
    "    console.log(`わたしは ${this.name} 、${this.age} 歳です`)\n",
    "  }\n",
    "};\n",
    "\n",
    "member.show();"
   ]
  },
  {
   "cell_type": "code",
   "execution_count": 1,
   "metadata": {},
   "outputs": [
    {
     "name": "stdout",
     "output_type": "stream",
     "text": [
      "{ name: \"大谷翔平\", birth: 1993-06-24T15:00:00.000Z }\n"
     ]
    }
   ],
   "source": [
    "let name = '大谷翔平';\n",
    "let birth = new Date(1993, 5, 25);\n",
    "let member = {name,birth}\n",
    "\n",
    "console.log(member);"
   ]
  },
  {
   "cell_type": "code",
   "execution_count": 6,
   "metadata": {},
   "outputs": [
    {
     "name": "stdout",
     "output_type": "stream",
     "text": [
      "{\n",
      "  name: \"ヤマダタロウ\",\n",
      "  borth: 1993-06-22T15:00:00.000Z,\n",
      "  memo1: \"正規会員\",\n",
      "  memo2: \"支部会長\",\n",
      "  memo3: \"関東\"\n",
      "}\n"
     ]
    }
   ],
   "source": [
    "let i = 0;\n",
    "let member = {\n",
    "  name: 'ヤマダタロウ',\n",
    "  borth: new Date(1993, 5, 23),\n",
    "  [`memo${++i}`] : '正規会員',\n",
    "  [`memo${++i}`] : '支部会長',\n",
    "  [`memo${++i}`] : '関東',\n",
    "}\n",
    "console.log(member);"
   ]
  }
 ],
 "metadata": {
  "kernelspec": {
   "display_name": "Deno",
   "language": "typescript",
   "name": "deno"
  },
  "language_info": {
   "file_extension": ".ts",
   "mimetype": "text/x.typescript",
   "name": "typescript",
   "nb_converter": "script",
   "pygments_lexer": "typescript",
   "version": "5.3.3"
  }
 },
 "nbformat": 4,
 "nbformat_minor": 2
}
