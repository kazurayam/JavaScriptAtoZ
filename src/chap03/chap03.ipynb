{
 "cells": [
  {
   "cell_type": "code",
   "execution_count": 5,
   "metadata": {},
   "outputs": [
    {
     "name": "stdout",
     "output_type": "stream",
     "text": [
      "JavaScript\n",
      "101\n",
      "56\n",
      "1234Tue Dec 12 2023 16:20:39 GMT+0900 (日本標準時)\n"
     ]
    }
   ],
   "source": [
    "console.log('Java' + 'Script');\n",
    "console.log(10 + '1');\n",
    "console.log(5 + '6');\n",
    "let today = new Date();\n",
    "console.log(1234 + today);"
   ]
  },
  {
   "cell_type": "code",
   "execution_count": 8,
   "metadata": {},
   "outputs": [
    {
     "name": "stdout",
     "output_type": "stream",
     "text": [
      "123\n",
      "42\n"
     ]
    }
   ],
   "source": [
    "console.log(1 + '2' + 3);\n",
    "console.log(1 + 3 + '2');"
   ]
  },
  {
   "cell_type": "code",
   "execution_count": 11,
   "metadata": {},
   "outputs": [
    {
     "name": "stdout",
     "output_type": "stream",
     "text": [
      "4\n",
      "4\n"
     ]
    }
   ],
   "source": [
    "let i = 3;\n",
    "let j = ++i;\n",
    "console.log(i);\n",
    "console.log(j);"
   ]
  },
  {
   "cell_type": "code",
   "execution_count": 13,
   "metadata": {},
   "outputs": [
    {
     "name": "stdout",
     "output_type": "stream",
     "text": [
      "0.6000000000000001\n"
     ]
    }
   ],
   "source": [
    "console.log(0.2 * 3);"
   ]
  },
  {
   "cell_type": "code",
   "execution_count": 3,
   "metadata": {},
   "outputs": [
    {
     "name": "stdout",
     "output_type": "stream",
     "text": [
      "0.42\n"
     ]
    }
   ],
   "source": [
    "let x = 0.14 * 100;\n",
    "let y = 0.28 * 100;\n",
    "console.log(Math.floor(x + y ) / 100);"
   ]
  },
  {
   "cell_type": "code",
   "execution_count": 2,
   "metadata": {},
   "outputs": [
    {
     "ename": "ReferenceError",
     "evalue": "Decimal is not defined",
     "output_type": "error",
     "traceback": [
      "Stack trace:",
      "ReferenceError: Decimal is not defined",
      "    at <anonymous>:2:10"
     ]
    }
   ],
   "source": [
    "//import { Decimal } from \"https://cdnjs.cloudflare.com/ajax/libs/decimal.js/9.0.0/decimal.min.js\";\n",
    "let d1 = new Decimal('0.14');\n",
    "let d2 = new Decimal('0.28');\n",
    "console.log(d1.add(d2).toString());"
   ]
  },
  {
   "cell_type": "code",
   "execution_count": 1,
   "metadata": {},
   "outputs": [],
   "source": [
    "// https://docs.deno.com/runtime/manual/basics/testing/assertions\n"
   ]
  },
  {
   "cell_type": "code",
   "execution_count": 10,
   "metadata": {},
   "outputs": [],
   "source": [
    "import { assertStringIncludes } from \"https://deno.land/std@0.208.0/assert/mod.ts\";\n",
    "\n",
    "assertStringIncludes(\"Jurasic Park\", \"Park\");"
   ]
  },
  {
   "cell_type": "code",
   "execution_count": 8,
   "metadata": {},
   "outputs": [],
   "source": [
    "// https://docs.deno.com/runtime/manual/basics/testing/assertions\n",
    "import { assert } from \"https://deno.land/std@0.208.0/assert/mod.ts\";\n",
    "import { assertEquals } from \"https://deno.land/std@0.208.0/assert/mod.ts\";\n",
    "import { assertNotEquals } from \"https://deno.land/std@0.208.0/assert/mod.ts\";\n",
    "\n",
    "let x = 1;\n",
    "let y = x;\n",
    "x = 2;\n",
    "assert(y === 1)\n",
    "assertEquals(y, 1);\n",
    "assertNotEquals(y, 2);"
   ]
  },
  {
   "cell_type": "code",
   "execution_count": 11,
   "metadata": {},
   "outputs": [
    {
     "ename": "AssertionError",
     "evalue": "Expected actual: \"[\n  \"Triceratops\",\n  \"Apatosaurus\",\n  \"Stegosaurus\",\n  \"T-Rex\",\n]\" to include: \"\"T-Rex\"\".\nmissing: [\n  \"T\",\n  \"-\",\n  \"R\",\n  \"e\",\n  \"x\",\n]",
     "output_type": "error",
     "traceback": [
      "Stack trace:",
      "AssertionError: Expected actual: \"[",
      "  \"Triceratops\",",
      "  \"Apatosaurus\",",
      "  \"Stegosaurus\",",
      "  \"T-Rex\",",
      "]\" to include: \"\"T-Rex\"\".",
      "missing: [",
      "  \"T\",",
      "  \"-\",",
      "  \"R\",",
      "  \"e\",",
      "  \"x\",",
      "]",
      "    at assertArrayIncludes (https://deno.land/std@0.208.0/assert/assert_array_includes.ts:45:9)",
      "    at <anonymous>:8:1"
     ]
    }
   ],
   "source": [
    "import { assertArrayIncludes } from \"https://deno.land/std@0.208.0/assert/mod.ts\";\n",
    "\n",
    "let dinos = [\"Triceratops\", \"Apatosaurus\", \"Stegosaurus\", \"T-Rex\"];\n",
    "assertArrayIncludes(dinos, \"T-Rex\");"
   ]
  },
  {
   "cell_type": "code",
   "execution_count": 3,
   "metadata": {},
   "outputs": [],
   "source": [
    "import { assertEquals } from \"https://deno.land/std@0.208.0/assert/mod.ts\";\n",
    "\n",
    "let data1 = [0, 1, 2];\n",
    "let data2 = data1;\n",
    "data1[0] = 5;\n",
    "assertEquals(data2[0], 5)"
   ]
  },
  {
   "cell_type": "code",
   "execution_count": 6,
   "metadata": {},
   "outputs": [],
   "source": [
    "import { assertEquals } from \"https://deno.land/std@0.208.0/assert/assert_equals.ts\";\n",
    "\n",
    "let data1 = [0, 1, 2];\n",
    "let data2 = data1;\n",
    "data1 = [10, 20, 30];\n",
    "assertEquals(data2[0], 0);\n",
    "assertEquals(data2[1], 1);\n",
    "assertEquals(data2[2], 2);"
   ]
  },
  {
   "cell_type": "code",
   "execution_count": 7,
   "metadata": {},
   "outputs": [
    {
     "name": "stdout",
     "output_type": "stream",
     "text": [
      "[\n",
      "  56, 40, 26, 82,\n",
      "  19, 17, 73, 99\n",
      "]\n",
      "56\n",
      "40\n",
      "26\n",
      "82\n",
      "19\n",
      "17\n",
      "73\n",
      "99\n"
     ]
    }
   ],
   "source": [
    "let data = [56, 40, 26, 82, 19, 17, 73, 99];\n",
    "let [x0, x1, x2, x3, x4, x5, x6, x7] = data;\n",
    "console.log(data);\n",
    "console.log(x0);\n",
    "console.log(x1);\n",
    "console.log(x2);\n",
    "console.log(x3);\n",
    "console.log(x4);\n",
    "console.log(x5);\n",
    "console.log(x6);\n",
    "console.log(x7);\n"
   ]
  },
  {
   "cell_type": "code",
   "execution_count": 8,
   "metadata": {},
   "outputs": [
    {
     "name": "stdout",
     "output_type": "stream",
     "text": [
      "[\n",
      "  56, 40, 26, 82,\n",
      "  19, 17, 73, 99\n",
      "]\n",
      "56\n",
      "40\n",
      "26\n",
      "82\n",
      "19\n",
      "17\n",
      "73\n",
      "99\n"
     ]
    }
   ],
   "source": [
    "let data = [56, 40, 26, 82, 19, 17, 73, 99];\n",
    "let [x0, x1, x2, x3,] = data;\n",
    "console.log(data);\n",
    "console.log(x0);\n",
    "console.log(x1);\n",
    "console.log(x2);\n",
    "console.log(x3);"
   ]
  },
  {
   "cell_type": "code",
   "execution_count": 9,
   "metadata": {},
   "outputs": [
    {
     "name": "stdout",
     "output_type": "stream",
     "text": [
      "[\n",
      "  56, 40, 26, 82,\n",
      "  19, 17, 73, 99\n",
      "]\n",
      "56\n",
      "40\n",
      "26\n",
      "82\n",
      "19\n",
      "17\n",
      "73\n",
      "99\n",
      "undefined\n",
      "undefined\n"
     ]
    }
   ],
   "source": [
    "let data = [56, 40, 26, 82, 19, 17, 73, 99];\n",
    "let [x0, x1, x2, x3, x4, x5, x6, x7, x8, x9] = data;\n",
    "console.log(data);\n",
    "console.log(x0);\n",
    "console.log(x1);\n",
    "console.log(x2);\n",
    "console.log(x3);\n",
    "console.log(x4);\n",
    "console.log(x5);\n",
    "console.log(x6);\n",
    "console.log(x7);\n",
    "console.log(x8);\n",
    "console.log(x9);\n"
   ]
  },
  {
   "cell_type": "code",
   "execution_count": 11,
   "metadata": {},
   "outputs": [
    {
     "name": "stdout",
     "output_type": "stream",
     "text": [
      "[\n",
      "  56, 40, 26, 82,\n",
      "  19, 17, 73, 99\n",
      "]\n",
      "73\n",
      "99\n"
     ]
    }
   ],
   "source": [
    "let data = [56, 40, 26, 82, 19, 17, 73, 99];\n",
    "let [,,,,,, x6, x7, ] = data;\n",
    "console.log(data);\n",
    "console.log(x6);\n",
    "console.log(x7);"
   ]
  },
  {
   "cell_type": "code",
   "execution_count": 12,
   "metadata": {},
   "outputs": [
    {
     "name": "stdout",
     "output_type": "stream",
     "text": [
      "[\n",
      "  56, 40, 26, 82,\n",
      "  19, 17, 73, 99\n",
      "]\n",
      "56\n",
      "40\n",
      "26\n",
      "[ 82, 19, 17, 73, 99 ]\n"
     ]
    }
   ],
   "source": [
    "let data = [56, 40, 26, 82, 19, 17, 73, 99];\n",
    "let [x0, x1, x2, ...rest] = data;\n",
    "console.log(data);\n",
    "console.log(x0);\n",
    "console.log(x1);\n",
    "console.log(x2);\n",
    "console.log(rest);\n"
   ]
  },
  {
   "cell_type": "code",
   "execution_count": 1,
   "metadata": {},
   "outputs": [
    {
     "ename": "",
     "evalue": "",
     "output_type": "error",
     "traceback": [
      "\u001b[1;31mThe Kernel crashed while executing code in the the current cell or a previous cell. Please review the code in the cell(s) to identify a possible cause of the failure. Click <a href='https://aka.ms/vscodeJupyterKernelCrash'>here</a> for more info. View Jupyter <a href='command:jupyter.viewOutput'>log</a> for further details."
     ]
    }
   ],
   "source": [
    "import { assertEquals } from \"https://deno.land/std@0.208.0/assert/assert_equals.ts\";\n",
    "\n",
    "let x = 1;\n",
    "let y = 2;\n",
    "[x, y] = [y, x];\n",
    "assertEquals(x, 2);\n",
    "assertEquals(y, 1);"
   ]
  },
  {
   "cell_type": "code",
   "execution_count": 1,
   "metadata": {},
   "outputs": [
    {
     "name": "stdout",
     "output_type": "stream",
     "text": [
      "Javaポケットレファレンス\n",
      "2680\n",
      "X\n"
     ]
    },
    {
     "ename": "",
     "evalue": "",
     "output_type": "error",
     "traceback": [
      "\u001b[1;31mThe Kernel crashed while executing code in the the current cell or a previous cell. Please review the code in the cell(s) to identify a possible cause of the failure. Click <a href='https://aka.ms/vscodeJupyterKernelCrash'>here</a> for more info. View Jupyter <a href='command:jupyter.viewOutput'>log</a> for further details."
     ]
    }
   ],
   "source": [
    "let book = {\n",
    "  title: \"Javaポケットレファレンス\",\n",
    "  publisher: \"技術評論社\",\n",
    "  price: 2680,\n",
    "};\n",
    "let { price, title, memo = \"X\" } = book;\n",
    "console.log(title);\n",
    "console.log(price);\n",
    "console.log(memo);"
   ]
  },
  {
   "cell_type": "code",
   "execution_count": 1,
   "metadata": {},
   "outputs": [
    {
     "name": "stdout",
     "output_type": "stream",
     "text": [
      "Javaポケットレファレンス\n",
      "{ keyword: \"Java SE 18\", logo: \"logo.jpg\" }\n",
      "Java SE 18\n"
     ]
    }
   ],
   "source": [
    "let book = {\n",
    "  title: \"Javaポケットレファレンス\",\n",
    "  publisher: \"技術評論社\",\n",
    "  price: 2680,\n",
    "  other: { keyword: 'Java SE 18', logo: 'logo.jpg'},\n",
    "};\n",
    "let { title, other, other: {keyword} } = book;\n",
    "console.log(title);\n",
    "console.log(other);\n",
    "console.log(keyword);"
   ]
  },
  {
   "cell_type": "code",
   "execution_count": 2,
   "metadata": {},
   "outputs": [
    {
     "name": "stdout",
     "output_type": "stream",
     "text": [
      "Javaポケットレファレンス\n",
      "技術評論社\n"
     ]
    }
   ],
   "source": [
    "let book = {\n",
    "  title: \"Javaポケットレファレンス\",\n",
    "  publisher: \"技術評論社\",\n",
    "  price: 2680,\n",
    "};\n",
    "let { title: subject, publisher: company } = book;\n",
    "console.log(subject);\n",
    "console.log(company);"
   ]
  },
  {
   "cell_type": "code",
   "execution_count": 3,
   "metadata": {},
   "outputs": [
    {
     "name": "stdout",
     "output_type": "stream",
     "text": [
      "Javaポケットレファレンス\n",
      "{ publisher: \"技術評論社\", price: 2680 }\n"
     ]
    }
   ],
   "source": [
    "let book = {\n",
    "  title: \"Javaポケットレファレンス\",\n",
    "  publisher: \"技術評論社\",\n",
    "  price: 2680,\n",
    "};\n",
    "let { title, ...rest } = book;\n",
    "console.log(title);\n",
    "console.log(rest);"
   ]
  },
  {
   "cell_type": "code",
   "execution_count": 10,
   "metadata": {},
   "outputs": [
    {
     "ename": "AssertionError",
     "evalue": "data1 is not equal to data2",
     "output_type": "error",
     "traceback": [
      "Stack trace:",
      "AssertionError: data1 is not equal to data2",
      "    at assert (https://deno.land/std@0.208.0/assert/assert.ts:7:11)",
      "    at <anonymous>:12:1"
     ]
    }
   ],
   "source": [
    "import { assert } from \"https://deno.land/std@0.208.0/assert/mod.ts\";\n",
    "\n",
    "let data1 = ['JavaScript', 'TypeScript', 'Deno'];\n",
    "let data2 = ['JavaScript', 'TypeScript', 'Deno'];\n",
    "assert(data1 == data2, \"data1 is not equal to data2\");"
   ]
  },
  {
   "cell_type": "code",
   "execution_count": 11,
   "metadata": {},
   "outputs": [],
   "source": [
    "import { assert } from \"https://deno.land/std@0.208.0/assert/assert.ts\";\n",
    "\n",
    "const EPSILON = 0.0001;\n",
    "let x = 0.98765;\n",
    "let y = 0.98764;\n",
    "assert(Math.abs(x - y) < EPSILON);"
   ]
  },
  {
   "cell_type": "code",
   "execution_count": 12,
   "metadata": {},
   "outputs": [
    {
     "name": "stdout",
     "output_type": "stream",
     "text": [
      "合格\n"
     ]
    }
   ],
   "source": [
    "let score = 80;\n",
    "console.log(score >= 70 ? \"合格\" : \"不合格\");"
   ]
  },
  {
   "cell_type": "code",
   "execution_count": 13,
   "metadata": {},
   "outputs": [
    {
     "name": "stdout",
     "output_type": "stream",
     "text": [
      "default\n"
     ]
    }
   ],
   "source": [
    "let value = '';\n",
    "value ||= 'default';\n",
    "console.log(value);"
   ]
  },
  {
   "cell_type": "code",
   "execution_count": 14,
   "metadata": {},
   "outputs": [
    {
     "name": "stdout",
     "output_type": "stream",
     "text": [
      "default\n"
     ]
    }
   ],
   "source": [
    "let value = null;\n",
    "value ??= 'default';\n",
    "console.log(value);"
   ]
  },
  {
   "cell_type": "code",
   "execution_count": 15,
   "metadata": {},
   "outputs": [
    {
     "name": "stdout",
     "output_type": "stream",
     "text": [
      "JavaScript\n",
      "TypeScript\n",
      "Deno\n"
     ]
    }
   ],
   "source": [
    "let languages = ['JavaScript', 'TypeScript', 'Deno',];\n",
    "languages.forEach(element => {\n",
    "  console.log(element);\n",
    "});"
   ]
  },
  {
   "cell_type": "code",
   "execution_count": 19,
   "metadata": {},
   "outputs": [
    {
     "name": "stdout",
     "output_type": "stream",
     "text": [
      "true\n",
      "[ <1 empty item>, \"TypeScript\", \"Deno\" ]\n",
      "3\n"
     ]
    }
   ],
   "source": [
    "let data = ['JavaScript', 'TypeScript', 'Deno',];\n",
    "console.log(delete data[0]);\n",
    "console.log(data);\n",
    "console.log(data.length)"
   ]
  },
  {
   "cell_type": "code",
   "execution_count": 23,
   "metadata": {},
   "outputs": [
    {
     "name": "stdout",
     "output_type": "stream",
     "text": [
      "true\n",
      "{ primary: \"Japanese\" }\n",
      "true\n"
     ]
    }
   ],
   "source": [
    "let tongues = {primary: 'Japanese', secondary: 'English'};\n",
    "console.log(delete tongues.secondary);\n",
    "console.log(tongues);\n",
    "console.log(delete tongues.hoge);"
   ]
  },
  {
   "cell_type": "code",
   "execution_count": 34,
   "metadata": {},
   "outputs": [
    {
     "name": "stdout",
     "output_type": "stream",
     "text": [
      "number\n",
      "true\n",
      "object\n",
      "object\n",
      "true\n"
     ]
    }
   ],
   "source": [
    "import { assertEquals } from \"https://deno.land/std@0.208.0/assert/assert_equals.ts\";\n",
    "\n",
    "let num = 1;\n",
    "console.log(typeof num);\n",
    "assertEquals('number', typeof num);\n",
    "\n",
    "let str = 'Bonjour';\n",
    "assertEquals('string', typeof str);\n",
    "\n",
    "let flag = true;\n",
    "assertEquals('boolean', typeof flag);\n",
    "\n",
    "let ary = [ 'JavaScript', 'TypeScript', 'Deno']\n",
    "assertEquals('object', typeof ary);\n",
    "console.log(ary instanceof Array);\n",
    "\n",
    "let map = { x:1, y:2 };\n",
    "console.log(typeof map);\n",
    "\n"
   ]
  },
  {
   "cell_type": "code",
   "execution_count": 35,
   "metadata": {},
   "outputs": [
    {
     "name": "stdout",
     "output_type": "stream",
     "text": [
      "object\n",
      "true\n"
     ]
    }
   ],
   "source": [
    "let dat = new Date();\n",
    "console.log(typeof dat);\n",
    "console.log(dat instanceof Date);"
   ]
  },
  {
   "cell_type": "code",
   "execution_count": 42,
   "metadata": {},
   "outputs": [],
   "source": [
    "import { assert } from \"https://deno.land/std@0.208.0/assert/mod.ts\";\n",
    "\n",
    "assert(Boolean('WINGS'));\n",
    "assert(String('WINGS') === 'WINGS');\n",
    "assert(Number.isNaN(Number('WINGS')));"
   ]
  }
 ],
 "metadata": {
  "kernelspec": {
   "display_name": "Deno",
   "language": "typescript",
   "name": "deno"
  },
  "language_info": {
   "file_extension": ".ts",
   "mimetype": "text/x.typescript",
   "name": "typescript",
   "nb_converter": "script",
   "pygments_lexer": "typescript",
   "version": "5.2.2"
  }
 },
 "nbformat": 4,
 "nbformat_minor": 4
}
