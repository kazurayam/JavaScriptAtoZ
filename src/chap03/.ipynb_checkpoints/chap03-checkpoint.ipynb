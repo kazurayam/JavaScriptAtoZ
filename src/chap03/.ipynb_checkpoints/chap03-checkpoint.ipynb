{
 "cells": [
  {
   "cell_type": "code",
   "execution_count": 5,
   "metadata": {},
   "outputs": [
    {
     "name": "stdout",
     "output_type": "stream",
     "text": [
      "JavaScript\n",
      "101\n",
      "56\n",
      "1234Tue Dec 12 2023 16:20:39 GMT+0900 (日本標準時)\n"
     ]
    }
   ],
   "source": [
    "console.log('Java' + 'Script');\n",
    "console.log(10 + '1');\n",
    "console.log(5 + '6');\n",
    "let today = new Date();\n",
    "console.log(1234 + today);"
   ]
  },
  {
   "cell_type": "code",
   "execution_count": 8,
   "metadata": {},
   "outputs": [
    {
     "name": "stdout",
     "output_type": "stream",
     "text": [
      "123\n",
      "42\n"
     ]
    }
   ],
   "source": [
    "console.log(1 + '2' + 3);\n",
    "console.log(1 + 3 + '2');"
   ]
  },
  {
   "cell_type": "code",
   "execution_count": 11,
   "metadata": {},
   "outputs": [
    {
     "name": "stdout",
     "output_type": "stream",
     "text": [
      "4\n",
      "4\n"
     ]
    }
   ],
   "source": [
    "let i = 3;\n",
    "let j = ++i;\n",
    "console.log(i);\n",
    "console.log(j);"
   ]
  },
  {
   "cell_type": "code",
   "execution_count": 13,
   "metadata": {},
   "outputs": [
    {
     "name": "stdout",
     "output_type": "stream",
     "text": [
      "0.6000000000000001\n"
     ]
    }
   ],
   "source": [
    "console.log(0.2 * 3);"
   ]
  },
  {
   "cell_type": "code",
   "execution_count": 3,
   "metadata": {},
   "outputs": [
    {
     "name": "stdout",
     "output_type": "stream",
     "text": [
      "0.42\n"
     ]
    }
   ],
   "source": [
    "let x = 0.14 * 100;\n",
    "let y = 0.28 * 100;\n",
    "console.log(Math.floor(x + y ) / 100);"
   ]
  },
  {
   "cell_type": "code",
   "execution_count": 2,
   "metadata": {},
   "outputs": [
    {
     "ename": "TypeError",
     "evalue": "Decimal is not a constructor",
     "output_type": "error",
     "traceback": [
      "Stack trace:",
      "TypeError: Decimal is not a constructor",
      "    at <anonymous>:2:10"
     ]
    }
   ],
   "source": [
    "//import { Decimal } from \"https://cdnjs.cloudflare.com/ajax/libs/decimal.js/9.0.0/decimal.min.js\";\n",
    "let d1 = new Decimal('0.14');\n",
    "let d2 = new Decimal('0.28');\n",
    "console.log(d1.add(d2).toString());"
   ]
  },
  {
   "cell_type": "code",
   "execution_count": 4,
   "metadata": {},
   "outputs": [
    {
     "ename": "",
     "evalue": "",
     "output_type": "error",
     "traceback": [
      "\u001b[1;31mThe Kernel crashed while executing code in the the current cell or a previous cell. Please review the code in the cell(s) to identify a possible cause of the failure. Click <a href='https://aka.ms/vscodeJupyterKernelCrash'>here</a> for more info. View Jupyter <a href='command:jupyter.viewOutput'>log</a> for further details."
     ]
    }
   ],
   "source": [
    "import { assert } from \"https://deno.land/std@0.208.0/assert/mod.ts\";\n",
    "\n",
    "Deno.test(\"Hello Test\", () => {\n",
    "  assert(\"Hello\");\n",
    "});\n",
    "// https://docs.deno.com/runtime/manual/basics/testing/assertions"
   ]
  },
  {
   "cell_type": "markdown",
   "metadata": {},
   "source": []
  }
 ],
 "metadata": {
  "kernelspec": {
   "display_name": "Deno",
   "language": "typescript",
   "name": "deno"
  },
  "language_info": {
   "file_extension": ".ts",
   "mimetype": "text/x.typescript",
   "name": "typescript",
   "nb_converter": "script",
   "pygments_lexer": "typescript",
   "version": "5.2.2"
  }
 },
 "nbformat": 4,
 "nbformat_minor": 2
}
