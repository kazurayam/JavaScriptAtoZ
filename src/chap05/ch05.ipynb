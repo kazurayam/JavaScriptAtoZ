{
 "cells": [
  {
   "cell_type": "code",
   "execution_count": 1,
   "metadata": {},
   "outputs": [
    {
     "data": {
      "text/plain": [
       "\u001b[33m2022\u001b[39m"
      ]
     },
     "execution_count": 1,
     "metadata": {},
     "output_type": "execute_result"
    }
   ],
   "source": [
    "let dat = new Date(2022, 11, 4, 11, 36, 54);\n",
    "\n",
    "dat.getFullYear();"
   ]
  },
  {
   "cell_type": "code",
   "execution_count": 3,
   "metadata": {},
   "outputs": [
    {
     "name": "stdout",
     "output_type": "stream",
     "text": [
      "4\n"
     ]
    }
   ],
   "source": [
    "//let str = null;\n",
    "let str = \"Deno\";\n",
    "\n",
    "if (str !== null && str !== undefined) {\n",
    "  console.log(str.length);\n",
    "}"
   ]
  },
  {
   "cell_type": "code",
   "execution_count": 4,
   "metadata": {},
   "outputs": [
    {
     "name": "stdout",
     "output_type": "stream",
     "text": [
      "undefined\n"
     ]
    }
   ],
   "source": [
    "let data = null;\n",
    "console.log(data?.length);"
   ]
  },
  {
   "cell_type": "code",
   "execution_count": 5,
   "metadata": {},
   "outputs": [
    {
     "name": "stdout",
     "output_type": "stream",
     "text": [
      "3.141592653589793\n"
     ]
    },
    {
     "ename": "",
     "evalue": "",
     "output_type": "error",
     "traceback": [
      "\u001b[1;31mThe Kernel crashed while executing code in the the current cell or a previous cell. Please review the code in the cell(s) to identify a possible cause of the failure. Click <a href='https://aka.ms/vscodeJupyterKernelCrash'>here</a> for more info. View Jupyter <a href='command:jupyter.viewOutput'>log</a> for further details."
     ]
    }
   ],
   "source": [
    "console.log(Math.PI);"
   ]
  },
  {
   "cell_type": "code",
   "execution_count": 1,
   "metadata": {},
   "outputs": [
    {
     "name": "stdout",
     "output_type": "stream",
     "text": [
      "8\n",
      "2\n"
     ]
    }
   ],
   "source": [
    "let str1 = 'Denoメンバー';\n",
    "console.log(str1.length);\n",
    "\n",
    "let str2 = '叱る';\n",
    "console.log(str2.length);"
   ]
  },
  {
   "cell_type": "code",
   "execution_count": 3,
   "metadata": {},
   "outputs": [
    {
     "name": "stdout",
     "output_type": "stream",
     "text": [
      "wings\n",
      "WINGS\n",
      "ｗｉｎｇｓ\n"
     ]
    }
   ],
   "source": [
    "let str1 = 'Wings';\n",
    "let str2 = 'Ｗｉｎｇｓ';\n",
    "console.log(str1.toLowerCase());\n",
    "console.log(str1.toUpperCase());\n",
    "console.log(str2.toLowerCase());\n"
   ]
  },
  {
   "cell_type": "code",
   "execution_count": 4,
   "metadata": {},
   "outputs": [
    {
     "name": "stdout",
     "output_type": "stream",
     "text": [
      "Hello\n"
     ]
    },
    {
     "ename": "",
     "evalue": "",
     "output_type": "error",
     "traceback": [
      "\u001b[1;31mThe Kernel crashed while executing code in the the current cell or a previous cell. Please review the code in the cell(s) to identify a possible cause of the failure. Click <a href='https://aka.ms/vscodeJupyterKernelCrash'>here</a> for more info. View Jupyter <a href='command:jupyter.viewOutput'>log</a> for further details."
     ]
    }
   ],
   "source": [
    "let msg = 'hELLo';\n",
    "console.log(msg.substring(0,1).toUpperCase() + msg.substring(1).toLowerCase());"
   ]
  },
  {
   "cell_type": "code",
   "execution_count": 7,
   "metadata": {},
   "outputs": [
    {
     "name": "stdout",
     "output_type": "stream",
     "text": [
      "プ\n",
      "プロジェクト\n",
      "プロジ\n",
      "プロジェクト\n",
      "プロジ\n",
      "---------------\n",
      "プロジ\n",
      "\n",
      "Harry\n",
      "プロジェ\n"
     ]
    },
    {
     "ename": "",
     "evalue": "",
     "output_type": "error",
     "traceback": [
      "\u001b[1;31mThe Kernel crashed while executing code in the the current cell or a previous cell. Please review the code in the cell(s) to identify a possible cause of the failure. Click <a href='https://aka.ms/vscodeJupyterKernelCrash'>here</a> for more info. View Jupyter <a href='command:jupyter.viewOutput'>log</a> for further details."
     ]
    }
   ],
   "source": [
    "let str = 'Harryプロジェクト';\n",
    "console.log(str.charAt(5));\n",
    "console.log(str.substring(5));\n",
    "console.log(str.substring(5,8));\n",
    "console.log(str.slice(5));\n",
    "console.log(str.slice(5,8));\n",
    "console.log(\"---------------\");\n",
    "console.log(str.substring(8,5));\n",
    "console.log(str.slice(8,5));\n",
    "console.log(str.substring(5,-2));\n",
    "console.log(str.slice(5,-2));\n",
    "\n"
   ]
  },
  {
   "cell_type": "code",
   "execution_count": null,
   "metadata": {},
   "outputs": [],
   "source": [
    "import { assertStrictEquals } from \"https://deno.land/std@0.208.0/assert/assert_strict_equals.ts\";\n",
    "\n",
    "let str = 'にわにはにわにわとりがいる';\n",
    "assertStrictEquals(0, str.indexOf('にわ'));\n",
    "assertStrictEquals(6, str.lastIndexOf('にわ'));\n",
    "assertStrictEquals(-1, str.indexOf('にど'));\n",
    "assertStrictEquals(6 ,str.indexOf('にわ',5));\n"
   ]
  },
  {
   "cell_type": "code",
   "execution_count": 2,
   "metadata": {},
   "outputs": [
    {
     "name": "stdout",
     "output_type": "stream",
     "text": [
      "count=3\n"
     ]
    },
    {
     "ename": "",
     "evalue": "",
     "output_type": "error",
     "traceback": [
      "\u001b[1;31mThe Kernel crashed while executing code in the the current cell or a previous cell. Please review the code in the cell(s) to identify a possible cause of the failure. Click <a href='https://aka.ms/vscodeJupyterKernelCrash'>here</a> for more info. View Jupyter <a href='command:jupyter.viewOutput'>log</a> for further details."
     ]
    }
   ],
   "source": [
    "let str = 'にわにはにわにわとりがいる';\n",
    "let count = 0;\n",
    "let keywd = 'にわ';\n",
    "let pos = str.indexOf(keywd);\n",
    "\n",
    "while (pos !== -1) {\n",
    "  count += 1;\n",
    "  pos = str.indexOf(keywd, pos + keywd.length);\n",
    "}\n",
    "console.log(`count=${count}`);"
   ]
  },
  {
   "cell_type": "code",
   "execution_count": null,
   "metadata": {},
   "outputs": [],
   "source": [
    "import { assert } from \"https://deno.land/std@0.208.0/assert/assert.ts\";\n",
    "\n",
    "let str = 'うりうりがうりうりにきてうりうりのこし';\n",
    "\n",
    "assert(str.includes('うり'));\n",
    "assert(str.startsWith('うり'));\n",
    "assert(!str.endsWith('うり'));\n"
   ]
  },
  {
   "cell_type": "code",
   "execution_count": 2,
   "metadata": {},
   "outputs": [],
   "source": [
    "import { assertStrictEquals } from \"https://deno.land/std@0.208.0/assert/assert_strict_equals.ts\";\n",
    "\n",
    "let str = '　 Harryプロジェクト \\n\\t\\n';\n",
    "\n",
    "assertStrictEquals('Harryプロジェクト', str.trim());\n",
    "assertStrictEquals('Harryプロジェクト', str.trimStart().trimEnd());"
   ]
  },
  {
   "cell_type": "code",
   "execution_count": 3,
   "metadata": {},
   "outputs": [
    {
     "ename": "",
     "evalue": "",
     "output_type": "error",
     "traceback": [
      "\u001b[1;31mThe Kernel crashed while executing code in the the current cell or a previous cell. Please review the code in the cell(s) to identify a possible cause of the failure. Click <a href='https://aka.ms/vscodeJupyterKernelCrash'>here</a> for more info. View Jupyter <a href='command:jupyter.viewOutput'>log</a> for further details."
     ]
    }
   ],
   "source": [
    "import { assertStrictEquals } from \"https://deno.land/std@0.208.0/assert/assert_strict_equals.ts\";\n",
    "\n",
    "let str = 'aaa\\tbbb\\tccc\\n';\n",
    "\n",
    "assertStrictEquals('aaa,bbb,ccc', str.replaceAll('\\t',',').trim());"
   ]
  },
  {
   "cell_type": "code",
   "execution_count": 3,
   "metadata": {},
   "outputs": [
    {
     "name": "stdout",
     "output_type": "stream",
     "text": [
      "[ \"みかん\", \"りんご\", \"ぶどう\", \"バナナ\" ]\n",
      "[ \"叱\", \"ら\", \"れ\", \"て\" ]\n"
     ]
    }
   ],
   "source": [
    "let str = 'みかん\\tりんご\\tぶどう\\tバナナ';\n",
    "let str2 = '叱られて';\n",
    "\n",
    "console.log(str.split('\\t'));\n",
    "console.log(str2.split(''));"
   ]
  },
  {
   "cell_type": "code",
   "execution_count": 6,
   "metadata": {},
   "outputs": [
    {
     "name": "stdout",
     "output_type": "stream",
     "text": [
      "    123.45\n",
      "0000123.45\n",
      "abcd123.45\n"
     ]
    }
   ],
   "source": [
    "let str = '123.45';\n",
    "\n",
    "console.log(str.padStart(10));\n",
    "console.log(str.padStart(10, '0'));\n",
    "console.log(str.padStart(10, 'abcdefg'));"
   ]
  },
  {
   "cell_type": "code",
   "execution_count": 7,
   "metadata": {},
   "outputs": [
    {
     "name": "stdout",
     "output_type": "stream",
     "text": [
      "ハムハムハム\n"
     ]
    },
    {
     "ename": "",
     "evalue": "",
     "output_type": "error",
     "traceback": [
      "\u001b[1;31mThe Kernel crashed while executing code in the the current cell or a previous cell. Please review the code in the cell(s) to identify a possible cause of the failure. Click <a href='https://aka.ms/vscodeJupyterKernelCrash'>here</a> for more info. View Jupyter <a href='command:jupyter.viewOutput'>log</a> for further details."
     ]
    }
   ],
   "source": [
    "let str = 'ハム';\n",
    "\n",
    "console.log(str.repeat(3));"
   ]
  },
  {
   "cell_type": "code",
   "execution_count": 1,
   "metadata": {},
   "outputs": [
    {
     "name": "stdout",
     "output_type": "stream",
     "text": [
      "■NFD\n",
      "ギガ => ギガ\n",
      "キ゛カ゛ => キ゛カ゛\n",
      "ｷﾞｶﾞ => ｷﾞｶﾞ\n",
      "㌐ => ㌐\n",
      "■NFC\n",
      "ギガ => ギガ\n",
      "キ゛カ゛ => キ゛カ゛\n",
      "ｷﾞｶﾞ => ｷﾞｶﾞ\n",
      "㌐ => ㌐\n",
      "■NFKD\n",
      "ギガ => ギガ\n",
      "キ゛カ゛ => キ ゙カ ゙\n",
      "ｷﾞｶﾞ => ギガ\n",
      "㌐ => ギガ\n",
      "■NFKC\n",
      "ギガ => ギガ\n",
      "キ゛カ゛ => キ ゙カ ゙\n",
      "ｷﾞｶﾞ => ギガ\n",
      "㌐ => ギガ\n"
     ]
    }
   ],
   "source": [
    "let type = ['NFD', 'NFC', 'NFKD', 'NFKC'];\n",
    "let list = ['ギガ', 'キ゛カ゛', 'ｷﾞｶﾞ', '㌐'];\n",
    "\n",
    "for (let t of type) {\n",
    "  console.log(\"■\" + t);\n",
    "  for (let l of list) {\n",
    "    console.log(`${l} => ${l.normalize(t)}`)\n",
    "  }\n",
    "}"
   ]
  }
 ],
 "metadata": {
  "kernelspec": {
   "display_name": "Deno",
   "language": "typescript",
   "name": "deno"
  },
  "language_info": {
   "file_extension": ".ts",
   "mimetype": "text/x.typescript",
   "name": "typescript",
   "nb_converter": "script",
   "pygments_lexer": "typescript",
   "version": "5.2.2"
  }
 },
 "nbformat": 4,
 "nbformat_minor": 2
}
