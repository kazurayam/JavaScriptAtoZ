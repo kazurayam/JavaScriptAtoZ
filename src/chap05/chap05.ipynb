{
 "cells": [
  {
   "cell_type": "code",
   "execution_count": 1,
   "metadata": {},
   "outputs": [
    {
     "data": {
      "text/plain": [
       "\u001b[33m2022\u001b[39m"
      ]
     },
     "execution_count": 1,
     "metadata": {},
     "output_type": "execute_result"
    }
   ],
   "source": [
    "let dat = new Date(2022, 11, 4, 11, 36, 54);\n",
    "\n",
    "dat.getFullYear();"
   ]
  },
  {
   "cell_type": "code",
   "execution_count": 1,
   "metadata": {},
   "outputs": [
    {
     "name": "stdout",
     "output_type": "stream",
     "text": [
      "4\n"
     ]
    }
   ],
   "source": [
    "//let str = null;\n",
    "let str = \"Deno\";\n",
    "\n",
    "if (str !== null && str !== undefined) {\n",
    "  console.log(str.length);\n",
    "}"
   ]
  },
  {
   "cell_type": "code",
   "execution_count": 2,
   "metadata": {},
   "outputs": [
    {
     "name": "stdout",
     "output_type": "stream",
     "text": [
      "undefined\n"
     ]
    }
   ],
   "source": [
    "let data = null;\n",
    "console.log(data?.length);"
   ]
  },
  {
   "cell_type": "code",
   "execution_count": 3,
   "metadata": {},
   "outputs": [
    {
     "name": "stdout",
     "output_type": "stream",
     "text": [
      "3.141592653589793\n"
     ]
    }
   ],
   "source": [
    "console.log(Math.PI);"
   ]
  },
  {
   "cell_type": "code",
   "execution_count": 4,
   "metadata": {},
   "outputs": [
    {
     "name": "stdout",
     "output_type": "stream",
     "text": [
      "8\n",
      "2\n"
     ]
    }
   ],
   "source": [
    "let str1 = 'Denoメンバー';\n",
    "console.log(str1.length);\n",
    "\n",
    "let str2 = '叱る';\n",
    "console.log(str2.length);"
   ]
  },
  {
   "cell_type": "code",
   "execution_count": 5,
   "metadata": {},
   "outputs": [
    {
     "name": "stdout",
     "output_type": "stream",
     "text": [
      "wings\n",
      "WINGS\n",
      "ｗｉｎｇｓ\n"
     ]
    }
   ],
   "source": [
    "let str1 = 'Wings';\n",
    "let str2 = 'Ｗｉｎｇｓ';\n",
    "console.log(str1.toLowerCase());\n",
    "console.log(str1.toUpperCase());\n",
    "console.log(str2.toLowerCase());\n"
   ]
  },
  {
   "cell_type": "code",
   "execution_count": 6,
   "metadata": {},
   "outputs": [
    {
     "name": "stdout",
     "output_type": "stream",
     "text": [
      "Hello\n"
     ]
    }
   ],
   "source": [
    "let msg = 'hELLo';\n",
    "console.log(msg.substring(0,1).toUpperCase() + msg.substring(1).toLowerCase());"
   ]
  },
  {
   "cell_type": "code",
   "execution_count": 7,
   "metadata": {},
   "outputs": [
    {
     "name": "stdout",
     "output_type": "stream",
     "text": [
      "プ\n",
      "プロジェクト\n",
      "プロジ\n",
      "プロジェクト\n",
      "プロジ\n",
      "---------------\n",
      "プロジ\n",
      "\n",
      "Harry\n",
      "プロジェ\n"
     ]
    }
   ],
   "source": [
    "let str = 'Harryプロジェクト';\n",
    "console.log(str.charAt(5));\n",
    "console.log(str.substring(5));\n",
    "console.log(str.substring(5,8));\n",
    "console.log(str.slice(5));\n",
    "console.log(str.slice(5,8));\n",
    "console.log(\"---------------\");\n",
    "console.log(str.substring(8,5));\n",
    "console.log(str.slice(8,5));\n",
    "console.log(str.substring(5,-2));\n",
    "console.log(str.slice(5,-2));\n",
    "\n"
   ]
  },
  {
   "cell_type": "code",
   "execution_count": 8,
   "metadata": {},
   "outputs": [],
   "source": [
    "import { assertStrictEquals } from \"https://deno.land/std@0.208.0/assert/assert_strict_equals.ts\";\n",
    "\n",
    "let str = 'にわにはにわにわとりがいる';\n",
    "assertStrictEquals(0, str.indexOf('にわ'));\n",
    "assertStrictEquals(6, str.lastIndexOf('にわ'));\n",
    "assertStrictEquals(-1, str.indexOf('にど'));\n",
    "assertStrictEquals(6 ,str.indexOf('にわ',5));\n"
   ]
  },
  {
   "cell_type": "code",
   "execution_count": 9,
   "metadata": {},
   "outputs": [
    {
     "name": "stdout",
     "output_type": "stream",
     "text": [
      "count=3\n"
     ]
    }
   ],
   "source": [
    "let str = 'にわにはにわにわとりがいる';\n",
    "let count = 0;\n",
    "let keywd = 'にわ';\n",
    "let pos = str.indexOf(keywd);\n",
    "\n",
    "while (pos !== -1) {\n",
    "  count += 1;\n",
    "  pos = str.indexOf(keywd, pos + keywd.length);\n",
    "}\n",
    "console.log(`count=${count}`);"
   ]
  },
  {
   "cell_type": "code",
   "execution_count": 10,
   "metadata": {},
   "outputs": [],
   "source": [
    "import { assert } from \"https://deno.land/std@0.208.0/assert/assert.ts\";\n",
    "\n",
    "let str = 'うりうりがうりうりにきてうりうりのこし';\n",
    "\n",
    "assert(str.includes('うり'));\n",
    "assert(str.startsWith('うり'));\n",
    "assert(!str.endsWith('うり'));\n"
   ]
  },
  {
   "cell_type": "code",
   "execution_count": 11,
   "metadata": {},
   "outputs": [],
   "source": [
    "import { assertStrictEquals } from \"https://deno.land/std@0.208.0/assert/assert_strict_equals.ts\";\n",
    "\n",
    "let str = '　 Harryプロジェクト \\n\\t\\n';\n",
    "\n",
    "assertStrictEquals('Harryプロジェクト', str.trim());\n",
    "assertStrictEquals('Harryプロジェクト', str.trimStart().trimEnd());"
   ]
  },
  {
   "cell_type": "code",
   "execution_count": 12,
   "metadata": {},
   "outputs": [],
   "source": [
    "import { assertStrictEquals } from \"https://deno.land/std@0.208.0/assert/assert_strict_equals.ts\";\n",
    "\n",
    "let str = 'aaa\\tbbb\\tccc\\n';\n",
    "\n",
    "assertStrictEquals('aaa,bbb,ccc', str.replaceAll('\\t',',').trim());"
   ]
  },
  {
   "cell_type": "code",
   "execution_count": 13,
   "metadata": {},
   "outputs": [
    {
     "name": "stdout",
     "output_type": "stream",
     "text": [
      "[ \"みかん\", \"りんご\", \"ぶどう\", \"バナナ\" ]\n",
      "[ \"叱\", \"ら\", \"れ\", \"て\" ]\n"
     ]
    }
   ],
   "source": [
    "let str = 'みかん\\tりんご\\tぶどう\\tバナナ';\n",
    "let str2 = '叱られて';\n",
    "\n",
    "console.log(str.split('\\t'));\n",
    "console.log(str2.split(''));"
   ]
  },
  {
   "cell_type": "code",
   "execution_count": 14,
   "metadata": {},
   "outputs": [
    {
     "name": "stdout",
     "output_type": "stream",
     "text": [
      "    123.45\n",
      "0000123.45\n",
      "abcd123.45\n"
     ]
    }
   ],
   "source": [
    "let str = '123.45';\n",
    "\n",
    "console.log(str.padStart(10));\n",
    "console.log(str.padStart(10, '0'));\n",
    "console.log(str.padStart(10, 'abcdefg'));"
   ]
  },
  {
   "cell_type": "code",
   "execution_count": 15,
   "metadata": {},
   "outputs": [
    {
     "name": "stdout",
     "output_type": "stream",
     "text": [
      "ハムハムハム\n"
     ]
    }
   ],
   "source": [
    "let str = 'ハム';\n",
    "\n",
    "console.log(str.repeat(3));"
   ]
  },
  {
   "cell_type": "code",
   "execution_count": 16,
   "metadata": {},
   "outputs": [
    {
     "name": "stdout",
     "output_type": "stream",
     "text": [
      "■NFD\n",
      "ギガ => ギガ\n",
      "キ゛カ゛ => キ゛カ゛\n",
      "ｷﾞｶﾞ => ｷﾞｶﾞ\n",
      "㌐ => ㌐\n",
      "■NFC\n",
      "ギガ => ギガ\n",
      "キ゛カ゛ => キ゛カ゛\n",
      "ｷﾞｶﾞ => ｷﾞｶﾞ\n",
      "㌐ => ㌐\n",
      "■NFKD\n",
      "ギガ => ギガ\n",
      "キ゛カ゛ => キ ゙カ ゙\n",
      "ｷﾞｶﾞ => ギガ\n",
      "㌐ => ギガ\n",
      "■NFKC\n",
      "ギガ => ギガ\n",
      "キ゛カ゛ => キ ゙カ ゙\n",
      "ｷﾞｶﾞ => ギガ\n",
      "㌐ => ギガ\n"
     ]
    }
   ],
   "source": [
    "let type = ['NFD', 'NFC', 'NFKD', 'NFKC'];\n",
    "let list = ['ギガ', 'キ゛カ゛', 'ｷﾞｶﾞ', '㌐'];\n",
    "\n",
    "for (let t of type) {\n",
    "  console.log(\"■\" + t);\n",
    "  for (let l of list) {\n",
    "    console.log(`${l} => ${l.normalize(t)}`)\n",
    "  }\n",
    "}"
   ]
  },
  {
   "cell_type": "code",
   "execution_count": 17,
   "metadata": {},
   "outputs": [
    {
     "name": "stdout",
     "output_type": "stream",
     "text": [
      "9007199254740993n\n"
     ]
    }
   ],
   "source": [
    "console.log(BigInt(Number.MAX_SAFE_INTEGER) + 2n);"
   ]
  },
  {
   "cell_type": "code",
   "execution_count": 28,
   "metadata": {},
   "outputs": [
    {
     "name": "stdout",
     "output_type": "stream",
     "text": [
      "ff\n",
      "377\n",
      "1.23e+2\n",
      "1.2346e+2\n",
      "123.46\n"
     ]
    }
   ],
   "source": [
    "let num1 = 255;\n",
    "console.log(num1.toString(16));\n",
    "console.log(num1.toString(8));\n",
    "\n",
    "let num2 = 123.45678;\n",
    "console.log(num2.toExponential(2));\n",
    "console.log(num2.toExponential(4));\n",
    "console.log(num2.toFixed(2));\n",
    "assertStrictEquals('123.46', num2.toFixed(2));\n",
    "assertStrictEquals('123.4567800', num2.toFixed(7));\n",
    "assertStrictEquals('123.4567800', num2.toPrecision(10));\n",
    "assertStrictEquals('123.457', num2.toPrecision(6));"
   ]
  },
  {
   "cell_type": "code",
   "execution_count": 1,
   "metadata": {},
   "outputs": [
    {
     "ename": "ReferenceError",
     "evalue": "assertStrictEquals is not defined",
     "output_type": "error",
     "traceback": [
      "Stack trace:",
      "ReferenceError: assertStrictEquals is not defined",
      "    at <anonymous>:8:1"
     ]
    },
    {
     "name": "stdout",
     "output_type": "stream",
     "text": [
      "￥1,235\n"
     ]
    }
   ],
   "source": [
    "let num = 1234.567;\n",
    "let fmt = new Intl.NumberFormat('ja-JP', {\n",
    "  style: 'currency',\n",
    "  currency: 'JPY',\n",
    "  currencyDisplay: 'symbol',\n",
    "});\n",
    "console.log(fmt.format(num));\n",
    "assertStrictEquals('￥1,234', fmt.format(num));"
   ]
  },
  {
   "cell_type": "markdown",
   "metadata": {},
   "source": [
    "### 5.3.3 Parsing a string into a number"
   ]
  },
  {
   "cell_type": "code",
   "execution_count": 19,
   "metadata": {},
   "outputs": [],
   "source": [
    "import { assert } from \"https://deno.land/std@0.208.0/assert/assert.ts\";\n",
    "import { assertStrictEquals } from \"https://deno.land/std@0.208.0/assert/assert_strict_equals.ts\";\n",
    "\n",
    "let n = '123xxx';\n",
    "assert(Number.isNaN(Number(n)));\n",
    "assertStrictEquals(123, Number.parseInt(n));\n",
    "assertStrictEquals(123, Number.parseFloat(n));"
   ]
  },
  {
   "cell_type": "code",
   "execution_count": 18,
   "metadata": {},
   "outputs": [],
   "source": [
    "let d = new Date();\n",
    "assert(Number.isInteger(Number(d)));\n",
    "assert(Number.isNaN(Number.parseInt(d)));\n",
    "assert(Number.isNaN(Number.parseFloat(d)));"
   ]
  },
  {
   "cell_type": "code",
   "execution_count": 21,
   "metadata": {},
   "outputs": [],
   "source": [
    "let h = '0x10';\n",
    "assert(Number.isInteger(Number(h)));\n",
    "assert(Number.isInteger(Number.parseInt(h)));\n",
    "assert(Number.isInteger(Number.parseFloat(h)));"
   ]
  },
  {
   "cell_type": "code",
   "execution_count": 22,
   "metadata": {},
   "outputs": [],
   "source": [
    "let b = '0b11';\n",
    "assert(Number.isInteger(Number(b)));\n",
    "assert(Number.isInteger(Number.parseInt(b)));\n",
    "assert(Number.isInteger(Number.parseFloat(b)));"
   ]
  },
  {
   "cell_type": "code",
   "execution_count": 24,
   "metadata": {},
   "outputs": [],
   "source": [
    "let b = '1.01e+2';\n",
    "assert(Number.isInteger(Number(b)));\n",
    "assert(Number.isInteger(Number.parseInt(b)));\n",
    "assert(Number.isInteger(Number.parseFloat(b)));"
   ]
  },
  {
   "cell_type": "markdown",
   "metadata": {},
   "source": [
    "### 5.3.4 Basic Math operations"
   ]
  },
  {
   "cell_type": "code",
   "execution_count": 25,
   "metadata": {},
   "outputs": [
    {
     "name": "stdout",
     "output_type": "stream",
     "text": [
      "100\n"
     ]
    }
   ],
   "source": [
    "console.log(Math.abs(-100));"
   ]
  },
  {
   "cell_type": "code",
   "execution_count": 27,
   "metadata": {},
   "outputs": [
    {
     "name": "stdout",
     "output_type": "stream",
     "text": [
      "31\n"
     ]
    }
   ],
   "source": [
    "console.log(Math.clz32(1)); // 32ビットバイナリにおいて前にある０ビットの個数"
   ]
  },
  {
   "cell_type": "code",
   "execution_count": 28,
   "metadata": {},
   "outputs": [
    {
     "name": "stdout",
     "output_type": "stream",
     "text": [
      "20\n"
     ]
    }
   ],
   "source": [
    "console.log(Math.min(20, 40, 60));"
   ]
  },
  {
   "cell_type": "code",
   "execution_count": 29,
   "metadata": {},
   "outputs": [
    {
     "name": "stdout",
     "output_type": "stream",
     "text": [
      "60\n"
     ]
    }
   ],
   "source": [
    "console.log(Math.max(20, 40, 60));"
   ]
  },
  {
   "cell_type": "code",
   "execution_count": 30,
   "metadata": {},
   "outputs": [
    {
     "name": "stdout",
     "output_type": "stream",
     "text": [
      "125\n"
     ]
    }
   ],
   "source": [
    "console.log(Math.pow(5, 3))"
   ]
  },
  {
   "cell_type": "code",
   "execution_count": 34,
   "metadata": {},
   "outputs": [
    {
     "name": "stdout",
     "output_type": "stream",
     "text": [
      "0.5504319772290605\n"
     ]
    }
   ],
   "source": [
    "console.log(Math.random());"
   ]
  },
  {
   "cell_type": "code",
   "execution_count": 39,
   "metadata": {},
   "outputs": [
    {
     "name": "stdout",
     "output_type": "stream",
     "text": [
      "-1\n"
     ]
    }
   ],
   "source": [
    "console.log(Math.sign(-60))   // 符号"
   ]
  },
  {
   "cell_type": "code",
   "execution_count": 40,
   "metadata": {},
   "outputs": [
    {
     "name": "stdout",
     "output_type": "stream",
     "text": [
      "1235\n"
     ]
    }
   ],
   "source": [
    "console.log(Math.ceil(1234.56));"
   ]
  },
  {
   "cell_type": "code",
   "execution_count": 41,
   "metadata": {},
   "outputs": [
    {
     "name": "stdout",
     "output_type": "stream",
     "text": [
      "-1234\n"
     ]
    }
   ],
   "source": [
    "console.log(Math.ceil(-1234.56));"
   ]
  },
  {
   "cell_type": "code",
   "execution_count": 42,
   "metadata": {},
   "outputs": [
    {
     "name": "stdout",
     "output_type": "stream",
     "text": [
      "1234\n"
     ]
    }
   ],
   "source": [
    "console.log(Math.floor(1234.56));"
   ]
  },
  {
   "cell_type": "code",
   "execution_count": 43,
   "metadata": {},
   "outputs": [
    {
     "name": "stdout",
     "output_type": "stream",
     "text": [
      "-1235\n"
     ]
    }
   ],
   "source": [
    "console.log(Math.floor(-1234.56));"
   ]
  },
  {
   "cell_type": "code",
   "execution_count": 44,
   "metadata": {},
   "outputs": [
    {
     "name": "stdout",
     "output_type": "stream",
     "text": [
      "1235\n"
     ]
    }
   ],
   "source": [
    "console.log(Math.round(1234.56))"
   ]
  },
  {
   "cell_type": "code",
   "execution_count": 45,
   "metadata": {},
   "outputs": [
    {
     "name": "stdout",
     "output_type": "stream",
     "text": [
      "-1235\n"
     ]
    }
   ],
   "source": [
    "console.log(Math.round(-1234.56));"
   ]
  },
  {
   "cell_type": "code",
   "execution_count": 46,
   "metadata": {},
   "outputs": [
    {
     "name": "stdout",
     "output_type": "stream",
     "text": [
      "1234\n"
     ]
    }
   ],
   "source": [
    "console.log(Math.trunc(1234.56));"
   ]
  },
  {
   "cell_type": "code",
   "execution_count": 47,
   "metadata": {},
   "outputs": [
    {
     "name": "stdout",
     "output_type": "stream",
     "text": [
      "-1234\n"
     ]
    }
   ],
   "source": [
    "console.log(Math.trunc(-1234.56));"
   ]
  },
  {
   "cell_type": "code",
   "execution_count": 48,
   "metadata": {},
   "outputs": [
    {
     "name": "stdout",
     "output_type": "stream",
     "text": [
      "9\n"
     ]
    }
   ],
   "source": [
    "console.log(Math.sqrt(81));"
   ]
  },
  {
   "cell_type": "code",
   "execution_count": 50,
   "metadata": {},
   "outputs": [
    {
     "name": "stdout",
     "output_type": "stream",
     "text": [
      "4.326748710922225\n",
      "81\n"
     ]
    },
    {
     "ename": "",
     "evalue": "",
     "output_type": "error",
     "traceback": [
      "\u001b[1;31mThe Kernel crashed while executing code in the the current cell or a previous cell. Please review the code in the cell(s) to identify a possible cause of the failure. Click <a href='https://aka.ms/vscodeJupyterKernelCrash'>here</a> for more info. View Jupyter <a href='command:jupyter.viewOutput'>log</a> for further details."
     ]
    }
   ],
   "source": [
    "let r = Math.cbrt(81);\n",
    "console.log(r);\n",
    "console.log(Math.trunc(r * r * r));\n"
   ]
  },
  {
   "cell_type": "code",
   "execution_count": 2,
   "metadata": {},
   "outputs": [
    {
     "name": "stdout",
     "output_type": "stream",
     "text": [
      "5\n"
     ]
    }
   ],
   "source": [
    "let r = Math.hypot(3, 4); //引数の二乗を加算した結果の平方根\n",
    "console.log(r);"
   ]
  },
  {
   "cell_type": "code",
   "execution_count": 3,
   "metadata": {},
   "outputs": [
    {
     "name": "stdout",
     "output_type": "stream",
     "text": [
      "0.5403023058681398\n"
     ]
    }
   ],
   "source": [
    "console.log(Math.cos(1));"
   ]
  },
  {
   "cell_type": "code",
   "execution_count": 5,
   "metadata": {},
   "outputs": [
    {
     "name": "stdout",
     "output_type": "stream",
     "text": [
      "0.8414709848078965\n"
     ]
    }
   ],
   "source": [
    "console.log(Math.sin(1));"
   ]
  },
  {
   "cell_type": "code",
   "execution_count": 6,
   "metadata": {},
   "outputs": [
    {
     "name": "stdout",
     "output_type": "stream",
     "text": [
      "1.5574077246549023\n",
      "1.557407724654902\n"
     ]
    }
   ],
   "source": [
    "console.log(Math.tan(1));\n",
    "console.log(Math.sin(1) / Math.cos(1));"
   ]
  },
  {
   "cell_type": "code",
   "execution_count": 7,
   "metadata": {},
   "outputs": [
    {
     "name": "stdout",
     "output_type": "stream",
     "text": [
      "0.3217505543966422\n"
     ]
    }
   ],
   "source": [
    "console.log(Math.atan2(1, 3))"
   ]
  },
  {
   "cell_type": "code",
   "execution_count": 8,
   "metadata": {},
   "outputs": [
    {
     "name": "stdout",
     "output_type": "stream",
     "text": [
      "2.302585092994046\n"
     ]
    }
   ],
   "source": [
    "console.log(Math.log(10));  // eをn乗したら10になる、そのn"
   ]
  },
  {
   "cell_type": "code",
   "execution_count": 9,
   "metadata": {},
   "outputs": [
    {
     "name": "stdout",
     "output_type": "stream",
     "text": [
      "20.085536923187668\n"
     ]
    }
   ],
   "source": [
    "console.log(Math.exp(3));  // eを３乗した値"
   ]
  },
  {
   "cell_type": "code",
   "execution_count": 18,
   "metadata": {},
   "outputs": [
    {
     "name": "stdout",
     "output_type": "stream",
     "text": [
      "96\n"
     ]
    },
    {
     "ename": "",
     "evalue": "",
     "output_type": "error",
     "traceback": [
      "\u001b[1;31mThe Kernel crashed while executing code in the the current cell or a previous cell. Please review the code in the cell(s) to identify a possible cause of the failure. Click <a href='https://aka.ms/vscodeJupyterKernelCrash'>here</a> for more info. View Jupyter <a href='command:jupyter.viewOutput'>log</a> for further details."
     ]
    }
   ],
   "source": [
    "let min = 50;\n",
    "let max = 100;\n",
    "console.log(Math.floor(Math.random() * (max - min + 1)) + min);"
   ]
  },
  {
   "cell_type": "code",
   "execution_count": 11,
   "metadata": {},
   "outputs": [
    {
     "name": "stdout",
     "output_type": "stream",
     "text": [
      "ぶどう\n"
     ]
    }
   ],
   "source": [
    "let list = ['みかん', 'りんご', 'ぶどう', 'すいか', 'なし'];\n",
    "console.log(list[Math.floor(Math.random() * list.length)]);"
   ]
  }
 ],
 "metadata": {
  "kernelspec": {
   "display_name": "Deno",
   "language": "typescript",
   "name": "deno"
  },
  "language_info": {
   "file_extension": ".ts",
   "mimetype": "text/x.typescript",
   "name": "typescript",
   "nb_converter": "script",
   "pygments_lexer": "typescript",
   "version": "5.2.2"
  }
 },
 "nbformat": 4,
 "nbformat_minor": 2
}
