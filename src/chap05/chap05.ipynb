{
 "cells": [
  {
   "cell_type": "code",
   "execution_count": 1,
   "metadata": {},
   "outputs": [
    {
     "data": {
      "text/plain": [
       "\u001b[33m2022\u001b[39m"
      ]
     },
     "execution_count": 1,
     "metadata": {},
     "output_type": "execute_result"
    }
   ],
   "source": [
    "let dat = new Date(2022, 11, 4, 11, 36, 54);\n",
    "\n",
    "dat.getFullYear();"
   ]
  },
  {
   "cell_type": "code",
   "execution_count": 2,
   "metadata": {},
   "outputs": [
    {
     "name": "stdout",
     "output_type": "stream",
     "text": [
      "4\n"
     ]
    }
   ],
   "source": [
    "//let str = null;\n",
    "let str = \"Deno\";\n",
    "\n",
    "if (str !== null && str !== undefined) {\n",
    "  console.log(str.length);\n",
    "}"
   ]
  },
  {
   "cell_type": "code",
   "execution_count": 3,
   "metadata": {},
   "outputs": [
    {
     "name": "stdout",
     "output_type": "stream",
     "text": [
      "undefined\n"
     ]
    }
   ],
   "source": [
    "let data = null;\n",
    "console.log(data?.length);"
   ]
  },
  {
   "cell_type": "code",
   "execution_count": 4,
   "metadata": {},
   "outputs": [
    {
     "name": "stdout",
     "output_type": "stream",
     "text": [
      "3.141592653589793\n"
     ]
    }
   ],
   "source": [
    "console.log(Math.PI);"
   ]
  },
  {
   "cell_type": "code",
   "execution_count": 5,
   "metadata": {},
   "outputs": [
    {
     "name": "stdout",
     "output_type": "stream",
     "text": [
      "8\n",
      "2\n"
     ]
    }
   ],
   "source": [
    "let str1 = 'Denoメンバー';\n",
    "console.log(str1.length);\n",
    "\n",
    "let str2 = '叱る';\n",
    "console.log(str2.length);"
   ]
  },
  {
   "cell_type": "code",
   "execution_count": 6,
   "metadata": {},
   "outputs": [
    {
     "name": "stdout",
     "output_type": "stream",
     "text": [
      "wings\n",
      "WINGS\n",
      "ｗｉｎｇｓ\n"
     ]
    }
   ],
   "source": [
    "let str1 = 'Wings';\n",
    "let str2 = 'Ｗｉｎｇｓ';\n",
    "console.log(str1.toLowerCase());\n",
    "console.log(str1.toUpperCase());\n",
    "console.log(str2.toLowerCase());\n"
   ]
  },
  {
   "cell_type": "code",
   "execution_count": 7,
   "metadata": {},
   "outputs": [
    {
     "name": "stdout",
     "output_type": "stream",
     "text": [
      "Hello\n"
     ]
    }
   ],
   "source": [
    "let msg = 'hELLo';\n",
    "console.log(msg.substring(0,1).toUpperCase() + msg.substring(1).toLowerCase());"
   ]
  },
  {
   "cell_type": "code",
   "execution_count": 8,
   "metadata": {},
   "outputs": [
    {
     "name": "stdout",
     "output_type": "stream",
     "text": [
      "プ\n",
      "プロジェクト\n",
      "プロジ\n",
      "プロジェクト\n",
      "プロジ\n",
      "---------------\n",
      "プロジ\n",
      "\n",
      "Harry\n",
      "プロジェ\n"
     ]
    }
   ],
   "source": [
    "let str = 'Harryプロジェクト';\n",
    "console.log(str.charAt(5));\n",
    "console.log(str.substring(5));\n",
    "console.log(str.substring(5,8));\n",
    "console.log(str.slice(5));\n",
    "console.log(str.slice(5,8));\n",
    "console.log(\"---------------\");\n",
    "console.log(str.substring(8,5));\n",
    "console.log(str.slice(8,5));\n",
    "console.log(str.substring(5,-2));\n",
    "console.log(str.slice(5,-2));\n",
    "\n"
   ]
  },
  {
   "cell_type": "code",
   "execution_count": 9,
   "metadata": {},
   "outputs": [],
   "source": [
    "import { assertStrictEquals } from \"https://deno.land/std@0.208.0/assert/assert_strict_equals.ts\";\n",
    "\n",
    "let str = 'にわにはにわにわとりがいる';\n",
    "assertStrictEquals(0, str.indexOf('にわ'));\n",
    "assertStrictEquals(6, str.lastIndexOf('にわ'));\n",
    "assertStrictEquals(-1, str.indexOf('にど'));\n",
    "assertStrictEquals(6 ,str.indexOf('にわ',5));\n"
   ]
  },
  {
   "cell_type": "code",
   "execution_count": 10,
   "metadata": {},
   "outputs": [
    {
     "name": "stdout",
     "output_type": "stream",
     "text": [
      "count=3\n"
     ]
    }
   ],
   "source": [
    "let str = 'にわにはにわにわとりがいる';\n",
    "let count = 0;\n",
    "let keywd = 'にわ';\n",
    "let pos = str.indexOf(keywd);\n",
    "\n",
    "while (pos !== -1) {\n",
    "  count += 1;\n",
    "  pos = str.indexOf(keywd, pos + keywd.length);\n",
    "}\n",
    "console.log(`count=${count}`);"
   ]
  },
  {
   "cell_type": "code",
   "execution_count": 11,
   "metadata": {},
   "outputs": [],
   "source": [
    "import { assert } from \"https://deno.land/std@0.208.0/assert/assert.ts\";\n",
    "\n",
    "let str = 'うりうりがうりうりにきてうりうりのこし';\n",
    "\n",
    "assert(str.includes('うり'));\n",
    "assert(str.startsWith('うり'));\n",
    "assert(!str.endsWith('うり'));\n"
   ]
  },
  {
   "cell_type": "code",
   "execution_count": 12,
   "metadata": {},
   "outputs": [],
   "source": [
    "import { assertStrictEquals } from \"https://deno.land/std@0.208.0/assert/assert_strict_equals.ts\";\n",
    "\n",
    "let str = '　 Harryプロジェクト \\n\\t\\n';\n",
    "\n",
    "assertStrictEquals('Harryプロジェクト', str.trim());\n",
    "assertStrictEquals('Harryプロジェクト', str.trimStart().trimEnd());"
   ]
  },
  {
   "cell_type": "code",
   "execution_count": 13,
   "metadata": {},
   "outputs": [],
   "source": [
    "import { assertStrictEquals } from \"https://deno.land/std@0.208.0/assert/assert_strict_equals.ts\";\n",
    "\n",
    "let str = 'aaa\\tbbb\\tccc\\n';\n",
    "\n",
    "assertStrictEquals('aaa,bbb,ccc', str.replaceAll('\\t',',').trim());"
   ]
  },
  {
   "cell_type": "code",
   "execution_count": 14,
   "metadata": {},
   "outputs": [
    {
     "name": "stdout",
     "output_type": "stream",
     "text": [
      "[ \"みかん\", \"りんご\", \"ぶどう\", \"バナナ\" ]\n",
      "[ \"叱\", \"ら\", \"れ\", \"て\" ]\n"
     ]
    }
   ],
   "source": [
    "let str = 'みかん\\tりんご\\tぶどう\\tバナナ';\n",
    "let str2 = '叱られて';\n",
    "\n",
    "console.log(str.split('\\t'));\n",
    "console.log(str2.split(''));"
   ]
  },
  {
   "cell_type": "code",
   "execution_count": 15,
   "metadata": {},
   "outputs": [
    {
     "name": "stdout",
     "output_type": "stream",
     "text": [
      "    123.45\n",
      "0000123.45\n",
      "abcd123.45\n"
     ]
    }
   ],
   "source": [
    "let str = '123.45';\n",
    "\n",
    "console.log(str.padStart(10));\n",
    "console.log(str.padStart(10, '0'));\n",
    "console.log(str.padStart(10, 'abcdefg'));"
   ]
  },
  {
   "cell_type": "code",
   "execution_count": 16,
   "metadata": {},
   "outputs": [
    {
     "name": "stdout",
     "output_type": "stream",
     "text": [
      "ハムハムハム\n"
     ]
    }
   ],
   "source": [
    "let str = 'ハム';\n",
    "\n",
    "console.log(str.repeat(3));"
   ]
  },
  {
   "cell_type": "code",
   "execution_count": 17,
   "metadata": {},
   "outputs": [
    {
     "name": "stdout",
     "output_type": "stream",
     "text": [
      "■NFD\n",
      "ギガ => ギガ\n",
      "キ゛カ゛ => キ゛カ゛\n",
      "ｷﾞｶﾞ => ｷﾞｶﾞ\n",
      "㌐ => ㌐\n",
      "■NFC\n",
      "ギガ => ギガ\n",
      "キ゛カ゛ => キ゛カ゛\n",
      "ｷﾞｶﾞ => ｷﾞｶﾞ\n",
      "㌐ => ㌐\n",
      "■NFKD\n",
      "ギガ => ギガ\n",
      "キ゛カ゛ => キ ゙カ ゙\n",
      "ｷﾞｶﾞ => ギガ\n",
      "㌐ => ギガ\n",
      "■NFKC\n",
      "ギガ => ギガ\n",
      "キ゛カ゛ => キ ゙カ ゙\n",
      "ｷﾞｶﾞ => ギガ\n",
      "㌐ => ギガ\n"
     ]
    }
   ],
   "source": [
    "let type = ['NFD', 'NFC', 'NFKD', 'NFKC'];\n",
    "let list = ['ギガ', 'キ゛カ゛', 'ｷﾞｶﾞ', '㌐'];\n",
    "\n",
    "for (let t of type) {\n",
    "  console.log(\"■\" + t);\n",
    "  for (let l of list) {\n",
    "    console.log(`${l} => ${l.normalize(t)}`)\n",
    "  }\n",
    "}"
   ]
  },
  {
   "cell_type": "code",
   "execution_count": 18,
   "metadata": {},
   "outputs": [
    {
     "name": "stdout",
     "output_type": "stream",
     "text": [
      "9007199254740993n\n"
     ]
    }
   ],
   "source": [
    "console.log(BigInt(Number.MAX_SAFE_INTEGER) + 2n);"
   ]
  },
  {
   "cell_type": "code",
   "execution_count": 19,
   "metadata": {},
   "outputs": [
    {
     "name": "stdout",
     "output_type": "stream",
     "text": [
      "ff\n",
      "377\n",
      "1.23e+2\n",
      "1.2346e+2\n",
      "123.46\n"
     ]
    }
   ],
   "source": [
    "let num1 = 255;\n",
    "console.log(num1.toString(16));\n",
    "console.log(num1.toString(8));\n",
    "\n",
    "let num2 = 123.45678;\n",
    "console.log(num2.toExponential(2));\n",
    "console.log(num2.toExponential(4));\n",
    "console.log(num2.toFixed(2));\n",
    "assertStrictEquals('123.46', num2.toFixed(2));\n",
    "assertStrictEquals('123.4567800', num2.toFixed(7));\n",
    "assertStrictEquals('123.4567800', num2.toPrecision(10));\n",
    "assertStrictEquals('123.457', num2.toPrecision(6));"
   ]
  },
  {
   "cell_type": "code",
   "execution_count": 20,
   "metadata": {},
   "outputs": [
    {
     "name": "stdout",
     "output_type": "stream",
     "text": [
      "￥1,235\n"
     ]
    },
    {
     "ename": "AssertionError",
     "evalue": "Values are not strictly equal.\n\n\n    \u001b[90m\u001b[1m[Diff]\u001b[22m\u001b[39m \u001b[31m\u001b[1mActual\u001b[22m\u001b[39m / \u001b[32m\u001b[1mExpected\u001b[22m\u001b[39m\n\n\n\u001b[31m\u001b[1m-   ￥1,\u001b[31m\u001b[1m234\u001b[1m\u001b[31m\n\u001b[22m\u001b[39m\u001b[32m\u001b[1m+   ￥1,\u001b[32m\u001b[1m235\u001b[1m\u001b[32m\n\u001b[22m\u001b[39m\n",
     "output_type": "error",
     "traceback": [
      "Stack trace:",
      "AssertionError: Values are not strictly equal.",
      "",
      "",
      "    \u001b[90m\u001b[1m[Diff]\u001b[22m\u001b[39m \u001b[31m\u001b[1mActual\u001b[22m\u001b[39m / \u001b[32m\u001b[1mExpected\u001b[22m\u001b[39m",
      "",
      "",
      "\u001b[31m\u001b[1m-   ￥1,\u001b[31m\u001b[1m234\u001b[1m\u001b[31m",
      "\u001b[22m\u001b[39m\u001b[32m\u001b[1m+   ￥1,\u001b[32m\u001b[1m235\u001b[1m\u001b[32m",
      "\u001b[22m\u001b[39m",
      "",
      "    at assertStrictEquals (https://deno.land/std@0.208.0/assert/assert_strict_equals.ts:68:9)",
      "    at <anonymous>:8:1"
     ]
    }
   ],
   "source": [
    "let num = 1234.567;\n",
    "let fmt = new Intl.NumberFormat('ja-JP', {\n",
    "  style: 'currency',\n",
    "  currency: 'JPY',\n",
    "  currencyDisplay: 'symbol',\n",
    "});\n",
    "console.log(fmt.format(num));\n",
    "assertStrictEquals('￥1,234', fmt.format(num));"
   ]
  },
  {
   "cell_type": "markdown",
   "metadata": {},
   "source": [
    "### 5.3.3 Parsing a string into a number"
   ]
  },
  {
   "cell_type": "code",
   "execution_count": null,
   "metadata": {},
   "outputs": [],
   "source": [
    "import { assert } from \"https://deno.land/std@0.208.0/assert/assert.ts\";\n",
    "import { assertStrictEquals } from \"https://deno.land/std@0.208.0/assert/assert_strict_equals.ts\";\n",
    "\n",
    "let n = '123xxx';\n",
    "assert(Number.isNaN(Number(n)));\n",
    "assertStrictEquals(123, Number.parseInt(n));\n",
    "assertStrictEquals(123, Number.parseFloat(n));"
   ]
  },
  {
   "cell_type": "code",
   "execution_count": null,
   "metadata": {},
   "outputs": [],
   "source": [
    "let d = new Date();\n",
    "assert(Number.isInteger(Number(d)));\n",
    "assert(Number.isNaN(Number.parseInt(d)));\n",
    "assert(Number.isNaN(Number.parseFloat(d)));"
   ]
  },
  {
   "cell_type": "code",
   "execution_count": null,
   "metadata": {},
   "outputs": [],
   "source": [
    "let h = '0x10';\n",
    "assert(Number.isInteger(Number(h)));\n",
    "assert(Number.isInteger(Number.parseInt(h)));\n",
    "assert(Number.isInteger(Number.parseFloat(h)));"
   ]
  },
  {
   "cell_type": "code",
   "execution_count": null,
   "metadata": {},
   "outputs": [],
   "source": [
    "let b = '0b11';\n",
    "assert(Number.isInteger(Number(b)));\n",
    "assert(Number.isInteger(Number.parseInt(b)));\n",
    "assert(Number.isInteger(Number.parseFloat(b)));"
   ]
  },
  {
   "cell_type": "code",
   "execution_count": null,
   "metadata": {},
   "outputs": [],
   "source": [
    "let b = '1.01e+2';\n",
    "assert(Number.isInteger(Number(b)));\n",
    "assert(Number.isInteger(Number.parseInt(b)));\n",
    "assert(Number.isInteger(Number.parseFloat(b)));"
   ]
  },
  {
   "cell_type": "markdown",
   "metadata": {},
   "source": [
    "### 5.3.4 Basic Math operations"
   ]
  },
  {
   "cell_type": "code",
   "execution_count": null,
   "metadata": {},
   "outputs": [
    {
     "name": "stdout",
     "output_type": "stream",
     "text": [
      "100\n"
     ]
    }
   ],
   "source": [
    "console.log(Math.abs(-100));"
   ]
  },
  {
   "cell_type": "code",
   "execution_count": null,
   "metadata": {},
   "outputs": [
    {
     "name": "stdout",
     "output_type": "stream",
     "text": [
      "31\n"
     ]
    }
   ],
   "source": [
    "console.log(Math.clz32(1)); // 32ビットバイナリにおいて前にある０ビットの個数"
   ]
  },
  {
   "cell_type": "code",
   "execution_count": null,
   "metadata": {},
   "outputs": [
    {
     "name": "stdout",
     "output_type": "stream",
     "text": [
      "20\n"
     ]
    }
   ],
   "source": [
    "console.log(Math.min(20, 40, 60));"
   ]
  },
  {
   "cell_type": "code",
   "execution_count": null,
   "metadata": {},
   "outputs": [
    {
     "name": "stdout",
     "output_type": "stream",
     "text": [
      "60\n"
     ]
    }
   ],
   "source": [
    "console.log(Math.max(20, 40, 60));"
   ]
  },
  {
   "cell_type": "code",
   "execution_count": null,
   "metadata": {},
   "outputs": [
    {
     "name": "stdout",
     "output_type": "stream",
     "text": [
      "125\n"
     ]
    }
   ],
   "source": [
    "console.log(Math.pow(5, 3))"
   ]
  },
  {
   "cell_type": "code",
   "execution_count": null,
   "metadata": {},
   "outputs": [
    {
     "name": "stdout",
     "output_type": "stream",
     "text": [
      "0.5504319772290605\n"
     ]
    }
   ],
   "source": [
    "console.log(Math.random());"
   ]
  },
  {
   "cell_type": "code",
   "execution_count": null,
   "metadata": {},
   "outputs": [
    {
     "name": "stdout",
     "output_type": "stream",
     "text": [
      "-1\n"
     ]
    }
   ],
   "source": [
    "console.log(Math.sign(-60))   // 符号"
   ]
  },
  {
   "cell_type": "code",
   "execution_count": null,
   "metadata": {},
   "outputs": [
    {
     "name": "stdout",
     "output_type": "stream",
     "text": [
      "1235\n"
     ]
    }
   ],
   "source": [
    "console.log(Math.ceil(1234.56));"
   ]
  },
  {
   "cell_type": "code",
   "execution_count": null,
   "metadata": {},
   "outputs": [
    {
     "name": "stdout",
     "output_type": "stream",
     "text": [
      "-1234\n"
     ]
    }
   ],
   "source": [
    "console.log(Math.ceil(-1234.56));"
   ]
  },
  {
   "cell_type": "code",
   "execution_count": null,
   "metadata": {},
   "outputs": [
    {
     "name": "stdout",
     "output_type": "stream",
     "text": [
      "1234\n"
     ]
    }
   ],
   "source": [
    "console.log(Math.floor(1234.56));"
   ]
  },
  {
   "cell_type": "code",
   "execution_count": null,
   "metadata": {},
   "outputs": [
    {
     "name": "stdout",
     "output_type": "stream",
     "text": [
      "-1235\n"
     ]
    }
   ],
   "source": [
    "console.log(Math.floor(-1234.56));"
   ]
  },
  {
   "cell_type": "code",
   "execution_count": null,
   "metadata": {},
   "outputs": [
    {
     "name": "stdout",
     "output_type": "stream",
     "text": [
      "1235\n"
     ]
    }
   ],
   "source": [
    "console.log(Math.round(1234.56))"
   ]
  },
  {
   "cell_type": "code",
   "execution_count": null,
   "metadata": {},
   "outputs": [
    {
     "name": "stdout",
     "output_type": "stream",
     "text": [
      "-1235\n"
     ]
    }
   ],
   "source": [
    "console.log(Math.round(-1234.56));"
   ]
  },
  {
   "cell_type": "code",
   "execution_count": null,
   "metadata": {},
   "outputs": [
    {
     "name": "stdout",
     "output_type": "stream",
     "text": [
      "1234\n"
     ]
    }
   ],
   "source": [
    "console.log(Math.trunc(1234.56));"
   ]
  },
  {
   "cell_type": "code",
   "execution_count": null,
   "metadata": {},
   "outputs": [
    {
     "name": "stdout",
     "output_type": "stream",
     "text": [
      "-1234\n"
     ]
    }
   ],
   "source": [
    "console.log(Math.trunc(-1234.56));"
   ]
  },
  {
   "cell_type": "code",
   "execution_count": null,
   "metadata": {},
   "outputs": [
    {
     "name": "stdout",
     "output_type": "stream",
     "text": [
      "9\n"
     ]
    }
   ],
   "source": [
    "console.log(Math.sqrt(81));"
   ]
  },
  {
   "cell_type": "code",
   "execution_count": null,
   "metadata": {},
   "outputs": [
    {
     "name": "stdout",
     "output_type": "stream",
     "text": [
      "4.326748710922225\n",
      "81\n"
     ]
    },
    {
     "ename": "",
     "evalue": "",
     "output_type": "error",
     "traceback": [
      "\u001b[1;31mThe Kernel crashed while executing code in the the current cell or a previous cell. Please review the code in the cell(s) to identify a possible cause of the failure. Click <a href='https://aka.ms/vscodeJupyterKernelCrash'>here</a> for more info. View Jupyter <a href='command:jupyter.viewOutput'>log</a> for further details."
     ]
    }
   ],
   "source": [
    "let r = Math.cbrt(81);\n",
    "console.log(r);\n",
    "console.log(Math.trunc(r * r * r));\n"
   ]
  },
  {
   "cell_type": "code",
   "execution_count": null,
   "metadata": {},
   "outputs": [
    {
     "name": "stdout",
     "output_type": "stream",
     "text": [
      "5\n"
     ]
    }
   ],
   "source": [
    "let r = Math.hypot(3, 4); //引数の二乗を加算した結果の平方根\n",
    "console.log(r);"
   ]
  },
  {
   "cell_type": "code",
   "execution_count": null,
   "metadata": {},
   "outputs": [
    {
     "name": "stdout",
     "output_type": "stream",
     "text": [
      "0.5403023058681398\n"
     ]
    }
   ],
   "source": [
    "console.log(Math.cos(1));"
   ]
  },
  {
   "cell_type": "code",
   "execution_count": null,
   "metadata": {},
   "outputs": [
    {
     "name": "stdout",
     "output_type": "stream",
     "text": [
      "0.8414709848078965\n"
     ]
    }
   ],
   "source": [
    "console.log(Math.sin(1));"
   ]
  },
  {
   "cell_type": "code",
   "execution_count": null,
   "metadata": {},
   "outputs": [
    {
     "name": "stdout",
     "output_type": "stream",
     "text": [
      "1.5574077246549023\n",
      "1.557407724654902\n"
     ]
    }
   ],
   "source": [
    "console.log(Math.tan(1));\n",
    "console.log(Math.sin(1) / Math.cos(1));"
   ]
  },
  {
   "cell_type": "code",
   "execution_count": null,
   "metadata": {},
   "outputs": [
    {
     "name": "stdout",
     "output_type": "stream",
     "text": [
      "0.3217505543966422\n"
     ]
    }
   ],
   "source": [
    "console.log(Math.atan2(1, 3))"
   ]
  },
  {
   "cell_type": "code",
   "execution_count": null,
   "metadata": {},
   "outputs": [
    {
     "name": "stdout",
     "output_type": "stream",
     "text": [
      "2.302585092994046\n"
     ]
    }
   ],
   "source": [
    "console.log(Math.log(10));  // eをn乗したら10になる、そのn"
   ]
  },
  {
   "cell_type": "code",
   "execution_count": null,
   "metadata": {},
   "outputs": [
    {
     "name": "stdout",
     "output_type": "stream",
     "text": [
      "20.085536923187668\n"
     ]
    }
   ],
   "source": [
    "console.log(Math.exp(3));  // eを３乗した値"
   ]
  },
  {
   "cell_type": "code",
   "execution_count": null,
   "metadata": {},
   "outputs": [
    {
     "name": "stdout",
     "output_type": "stream",
     "text": [
      "96\n"
     ]
    },
    {
     "ename": "",
     "evalue": "",
     "output_type": "error",
     "traceback": [
      "\u001b[1;31mThe Kernel crashed while executing code in the the current cell or a previous cell. Please review the code in the cell(s) to identify a possible cause of the failure. Click <a href='https://aka.ms/vscodeJupyterKernelCrash'>here</a> for more info. View Jupyter <a href='command:jupyter.viewOutput'>log</a> for further details."
     ]
    }
   ],
   "source": [
    "let min = 50;\n",
    "let max = 100;\n",
    "console.log(Math.floor(Math.random() * (max - min + 1)) + min);"
   ]
  },
  {
   "cell_type": "code",
   "execution_count": 21,
   "metadata": {},
   "outputs": [
    {
     "name": "stdout",
     "output_type": "stream",
     "text": [
      "ぶどう\n"
     ]
    }
   ],
   "source": [
    "let list = ['みかん', 'りんご', 'ぶどう', 'すいか', 'なし'];\n",
    "console.log(list[Math.floor(Math.random() * list.length)]);"
   ]
  },
  {
   "cell_type": "code",
   "execution_count": 22,
   "metadata": {},
   "outputs": [
    {
     "name": "stdout",
     "output_type": "stream",
     "text": [
      "2023-12-16T06:52:54.796Z\n"
     ]
    }
   ],
   "source": [
    "let d = new Date();\n",
    "console.log(d);"
   ]
  },
  {
   "cell_type": "code",
   "execution_count": 25,
   "metadata": {},
   "outputs": [
    {
     "name": "stdout",
     "output_type": "stream",
     "text": [
      "2022-12-04T11:07:15.368Z\n",
      "2023-01-01T11:07:15.368Z\n"
     ]
    }
   ],
   "source": [
    "let d = new Date(2022,11,4,20,7,15,368);\n",
    "console.log(d);\n",
    "let d2 = new Date(2022,11,32,20,7,15,368);\n",
    "console.log(d2);"
   ]
  },
  {
   "cell_type": "code",
   "execution_count": 26,
   "metadata": {},
   "outputs": [
    {
     "name": "stdout",
     "output_type": "stream",
     "text": [
      "2022-12-04T11:07:15.000Z\n"
     ]
    }
   ],
   "source": [
    "let d = new Date('2022-12-04T20:07:15');\n",
    "console.log(d);"
   ]
  },
  {
   "cell_type": "code",
   "execution_count": 27,
   "metadata": {},
   "outputs": [
    {
     "name": "stdout",
     "output_type": "stream",
     "text": [
      "2022-12-04T11:07:15.368Z\n",
      "2022-12-04T11:07:15.368Z\n"
     ]
    }
   ],
   "source": [
    "let d = new Date(2022,11,4,20,7,15,368);\n",
    "let d2 = new Date(d.getTime());\n",
    "console.log(d);\n",
    "console.log(d2);"
   ]
  },
  {
   "cell_type": "code",
   "execution_count": 30,
   "metadata": {},
   "outputs": [
    {
     "name": "stdout",
     "output_type": "stream",
     "text": [
      "1702710067926\n",
      "1702710067926\n",
      "1670184435000\n"
     ]
    }
   ],
   "source": [
    "let d = new Date();\n",
    "console.log(d.getTime());\n",
    "console.log(Date.now());\n",
    "console.log(Date.UTC(2022, 11, 4, 20, 7, 15));"
   ]
  },
  {
   "cell_type": "code",
   "execution_count": 34,
   "metadata": {},
   "outputs": [
    {
     "name": "stdout",
     "output_type": "stream",
     "text": [
      "2023\n",
      "11\n",
      "16\n",
      "6\n",
      "16\n",
      "10\n",
      "54\n",
      "407\n",
      "1702710654407\n",
      "-540\n"
     ]
    }
   ],
   "source": [
    "let d = new Date();\n",
    "console.log(d.getFullYear());\n",
    "console.log(d.getMonth()); // 11なら１２月\n",
    "console.log(d.getDate());\n",
    "console.log(d.getDay()); //月火水木金土日\n",
    "console.log(d.getHours());\n",
    "console.log(d.getMinutes());\n",
    "console.log(d.getSeconds());\n",
    "console.log(d.getMilliseconds());\n",
    "console.log(d.getTime());\n",
    "console.log(d.getTimezoneOffset());\n"
   ]
  },
  {
   "cell_type": "code",
   "execution_count": 39,
   "metadata": {},
   "outputs": [
    {
     "name": "stdout",
     "output_type": "stream",
     "text": [
      "2023\n",
      "11\n",
      "16\n",
      "6\n",
      "7\n",
      "14\n",
      "0\n",
      "890\n"
     ]
    }
   ],
   "source": [
    "let d = new Date();\n",
    "console.log(d.getUTCFullYear()); // Coordinated Universal Time\n",
    "console.log(d.getUTCMonth()); // 11なら１２月\n",
    "console.log(d.getUTCDate());\n",
    "console.log(d.getUTCDay()); //月火水木金土日\n",
    "console.log(d.getUTCHours());  // 日本時間マイナス９\n",
    "console.log(d.getUTCMinutes());\n",
    "console.log(d.getUTCSeconds());\n",
    "console.log(d.getUTCMilliseconds());"
   ]
  },
  {
   "cell_type": "code",
   "execution_count": 42,
   "metadata": {},
   "outputs": [
    {
     "name": "stdout",
     "output_type": "stream",
     "text": [
      "2022-12-15T11:40:00.000Z\n",
      "2023-03-15T11:40:00.000Z\n",
      "2023-02-23T11:40:00.000Z\n"
     ]
    }
   ],
   "source": [
    "let dt = new Date(2022, 11, 15, 20, 40);\n",
    "console.log(dt);\n",
    "dt.setMonth(dt.getMonth() + 3);\n",
    "console.log(dt);\n",
    "dt.setDate(dt.getDate() - 20);\n",
    "console.log(dt);"
   ]
  },
  {
   "cell_type": "code",
   "execution_count": 47,
   "metadata": {},
   "outputs": [
    {
     "name": "stdout",
     "output_type": "stream",
     "text": [
      "12/16/2023, 5:07:00 PM\n",
      "12/16/2023\n",
      "5:07:00 PM\n",
      "2023-12-16T08:07:00.208Z\n",
      "2023-12-16T08:07:00.208Z\n"
     ]
    }
   ],
   "source": [
    "let dt = new Date();\n",
    "console.log(dt.toLocaleString());\n",
    "console.log(dt.toLocaleDateString());\n",
    "console.log(dt.toLocaleTimeString());\n",
    "console.log(dt.toISOString());\n",
    "console.log(dt.toJSON());\n"
   ]
  },
  {
   "cell_type": "code",
   "execution_count": 52,
   "metadata": {},
   "outputs": [
    {
     "name": "stdout",
     "output_type": "stream",
     "text": [
      "2023年12月16日土曜日 夕方05:10:17\n"
     ]
    }
   ],
   "source": [
    "let fmt = new Intl.DateTimeFormat('ja-JP', {\n",
    "  year: 'numeric',\n",
    "  month: 'short',\n",
    "  day: '2-digit',\n",
    "  weekday: 'long',\n",
    "  hour12: true,\n",
    "  hour: '2-digit',\n",
    "  minute: '2-digit',\n",
    "  second: '2-digit',\n",
    "  dayPeriod: 'short'\n",
    "});\n",
    "console.log(fmt.format(new Date()));"
   ]
  },
  {
   "cell_type": "markdown",
   "metadata": {},
   "source": [
    "## 5.5 Array"
   ]
  },
  {
   "cell_type": "code",
   "execution_count": 56,
   "metadata": {},
   "outputs": [
    {
     "name": "stdout",
     "output_type": "stream",
     "text": [
      "[ \"桃\", \"杏\", \"松\", \"竹\", \"梅\", \"桜\" ]\n",
      "桜\n",
      "桃\n",
      "[ \"杏\", \"松\", \"竹\", \"梅\" ]\n"
     ]
    }
   ],
   "source": [
    "let list = ['松', '竹', '梅',];\n",
    "list.push('桜');\n",
    "list.unshift('桃', '杏');\n",
    "console.log(list);\n",
    "console.log(list.pop());\n",
    "console.log(list.shift());\n",
    "console.log(list);"
   ]
  },
  {
   "cell_type": "code",
   "execution_count": 57,
   "metadata": {},
   "outputs": [
    {
     "name": "stdout",
     "output_type": "stream",
     "text": [
      "[ \"杏\", \"松\", \"竹\", \"梅\", \"杉\", \"桐\" ]\n"
     ]
    }
   ],
   "source": [
    "list.push(...['杉', '桐']);\n",
    "console.log(list);"
   ]
  },
  {
   "cell_type": "code",
   "execution_count": 60,
   "metadata": {},
   "outputs": [
    {
     "name": "stdout",
     "output_type": "stream",
     "text": [
      "[\n",
      "  \"杏\", \"松\", \"竹\",\n",
      "  \"梅\", \"杉\", \"桐\",\n",
      "  \"楓\", \"楢\"\n",
      "]\n"
     ]
    }
   ],
   "source": [
    "let l2 = list.concat(['楓', '楢']);\n",
    "console.log(l2);\n"
   ]
  },
  {
   "cell_type": "code",
   "execution_count": 62,
   "metadata": {},
   "outputs": [],
   "source": [
    "// stack\n",
    "let data = [];\n",
    "data.push(1);\n",
    "data.push(2);\n",
    "data.push(3);\n",
    "assertStrictEquals(3, data.pop());\n",
    "assertStrictEquals(2, data.pop());\n",
    "assertStrictEquals(1, data.pop());"
   ]
  },
  {
   "cell_type": "code",
   "execution_count": 64,
   "metadata": {},
   "outputs": [
    {
     "ename": "",
     "evalue": "",
     "output_type": "error",
     "traceback": [
      "\u001b[1;31mThe Kernel crashed while executing code in the the current cell or a previous cell. Please review the code in the cell(s) to identify a possible cause of the failure. Click <a href='https://aka.ms/vscodeJupyterKernelCrash'>here</a> for more info. View Jupyter <a href='command:jupyter.viewOutput'>log</a> for further details."
     ]
    }
   ],
   "source": [
    "// queue\n",
    "let data = [];\n",
    "data.push(1);\n",
    "data.push(2);\n",
    "data.push(3);\n",
    "assertStrictEquals(1, data.shift());\n",
    "assertStrictEquals(2, data.shift());\n",
    "assertStrictEquals(3, data.shift());"
   ]
  },
  {
   "cell_type": "code",
   "execution_count": 2,
   "metadata": {},
   "outputs": [
    {
     "name": "stdout",
     "output_type": "stream",
     "text": [
      "[ \"に\", \"ほ\" ]\n",
      "[\n",
      "  \"い\", \"ろ\", \"は\",\n",
      "  \"X\",  \"Y\",  \"Z\",\n",
      "  \"へ\", \"と\"\n",
      "]\n"
     ]
    }
   ],
   "source": [
    "// remove and insert\n",
    "let list = ['い', 'ろ', 'は', 'に', 'ほ', 'へ', 'と'];\n",
    "console.log(list.splice(3,2,'X','Y','Z'));\n",
    "console.log(list);"
   ]
  },
  {
   "cell_type": "code",
   "execution_count": 5,
   "metadata": {},
   "outputs": [
    {
     "name": "stdout",
     "output_type": "stream",
     "text": [
      "[]\n",
      "[\n",
      "  \"い\", \"ろ\", \"は\",\n",
      "  \"X\",  \"Y\",  \"Z\",\n",
      "  \"に\", \"ほ\", \"へ\",\n",
      "  \"と\"\n",
      "]\n"
     ]
    }
   ],
   "source": [
    "// insert\n",
    "let list = ['い', 'ろ', 'は', 'に', 'ほ', 'へ', 'と'];\n",
    "console.log(list.splice(3, 0 , 'X', 'Y', 'Z'));\n",
    "console.log(list);"
   ]
  },
  {
   "cell_type": "code",
   "execution_count": 6,
   "metadata": {},
   "outputs": [
    {
     "name": "stdout",
     "output_type": "stream",
     "text": [
      "[ \"に\", \"ほ\" ]\n",
      "[ \"い\", \"ろ\", \"は\", \"へ\", \"と\" ]\n"
     ]
    }
   ],
   "source": [
    "// remove elements\n",
    "let list = ['い', 'ろ', 'は', 'に', 'ほ', 'へ', 'と'];\n",
    "console.log(list.splice(3, 2));\n",
    "console.log(list);"
   ]
  },
  {
   "cell_type": "code",
   "execution_count": 7,
   "metadata": {},
   "outputs": [
    {
     "name": "stdout",
     "output_type": "stream",
     "text": [
      "[ \"に\", \"ほ\", \"へ\", \"と\" ]\n",
      "[ \"い\", \"ろ\", \"は\" ]\n"
     ]
    },
    {
     "ename": "",
     "evalue": "",
     "output_type": "error",
     "traceback": [
      "\u001b[1;31mThe Kernel crashed while executing code in the the current cell or a previous cell. Please review the code in the cell(s) to identify a possible cause of the failure. Click <a href='https://aka.ms/vscodeJupyterKernelCrash'>here</a> for more info. View Jupyter <a href='command:jupyter.viewOutput'>log</a> for further details."
     ]
    }
   ],
   "source": [
    "// remove all elements after x\n",
    "let list = ['い', 'ろ', 'は', 'に', 'ほ', 'へ', 'と'];\n",
    "console.log(list.splice(3));\n",
    "console.log(list);"
   ]
  },
  {
   "cell_type": "code",
   "execution_count": 2,
   "metadata": {},
   "outputs": [
    {
     "name": "stdout",
     "output_type": "stream",
     "text": [
      "[ \"に\", \"ほ\", \"へ\" ]\n",
      "[\n",
      "  \"い\", \"ろ\",\n",
      "  \"は\", \"に\",\n",
      "  \"ほ\", \"へ\",\n",
      "  \"と\"\n",
      "]\n"
     ]
    }
   ],
   "source": [
    "// select elements by slice method\n",
    "let list = ['い', 'ろ', 'は', 'に', 'ほ', 'へ', 'と'];\n",
    "console.log(list.slice(3,6));\n",
    "console.log(list);"
   ]
  },
  {
   "cell_type": "code",
   "execution_count": 6,
   "metadata": {},
   "outputs": [
    {
     "ename": "",
     "evalue": "",
     "output_type": "error",
     "traceback": [
      "\u001b[1;31mThe Kernel crashed while executing code in the the current cell or a previous cell. Please review the code in the cell(s) to identify a possible cause of the failure. Click <a href='https://aka.ms/vscodeJupyterKernelCrash'>here</a> for more info. View Jupyter <a href='command:jupyter.viewOutput'>log</a> for further details."
     ]
    }
   ],
   "source": [
    "import { assertStrictEquals } from \"https://deno.land/std@0.209.0/assert/mod.ts\";\n",
    "let list = [10, 20, 30, 20, 50];\n",
    "\n",
    "assertStrictEquals(1, list.indexOf(20));\n",
    "assertStrictEquals(3, list.lastIndexOf(20));"
   ]
  },
  {
   "cell_type": "code",
   "execution_count": 3,
   "metadata": {},
   "outputs": [
    {
     "name": "stdout",
     "output_type": "stream",
     "text": [
      "[ 0, 4 ]\n"
     ]
    },
    {
     "ename": "",
     "evalue": "",
     "output_type": "error",
     "traceback": [
      "\u001b[1;31mThe Kernel crashed while executing code in the the current cell or a previous cell. Please review the code in the cell(s) to identify a possible cause of the failure. Click <a href='https://aka.ms/vscodeJupyterKernelCrash'>here</a> for more info. View Jupyter <a href='command:jupyter.viewOutput'>log</a> for further details."
     ]
    }
   ],
   "source": [
    "let list = ['い','ろ','は','に','い','へ','と'];\n",
    "let result = [];\n",
    "\n",
    "list.forEach(function(element, index) {\n",
    "  if (element === 'い') {\n",
    "    result.push(index);\n",
    "  }\n",
    "});\n",
    "console.log(result);"
   ]
  },
  {
   "cell_type": "code",
   "execution_count": 1,
   "metadata": {},
   "outputs": [
    {
     "name": "stdout",
     "output_type": "stream",
     "text": [
      "false\n"
     ]
    },
    {
     "ename": "",
     "evalue": "",
     "output_type": "error",
     "traceback": [
      "\u001b[1;31mThe Kernel crashed while executing code in the the current cell or a previous cell. Please review the code in the cell(s) to identify a possible cause of the failure. Click <a href='https://aka.ms/vscodeJupyterKernelCrash'>here</a> for more info. View Jupyter <a href='command:jupyter.viewOutput'>log</a> for further details."
     ]
    }
   ],
   "source": [
    "let list = ['い','ろ','は','に','い','へ','と'];\n",
    "console.log(list.includes(\"ほ\"));"
   ]
  },
  {
   "cell_type": "markdown",
   "metadata": {},
   "source": [
    "### 5.5.6 Array.flat()"
   ]
  },
  {
   "cell_type": "code",
   "execution_count": 3,
   "metadata": {},
   "outputs": [
    {
     "name": "stdout",
     "output_type": "stream",
     "text": [
      "[ \"ド\", \"レ\", \"ミ\", [ \"ファ\", \"ソ\", \"ラ\", \"シ\" ] ]\n",
      "[\n",
      "  \"ド\", \"レ\",\n",
      "  \"ミ\", \"ファ\",\n",
      "  \"ソ\", \"ラ\",\n",
      "  \"シ\"\n",
      "]\n",
      "[\n",
      "  \"ド\", \"レ\",\n",
      "  \"ミ\", \"ファ\",\n",
      "  \"ソ\", \"ラ\",\n",
      "  \"シ\"\n",
      "]\n"
     ]
    },
    {
     "ename": "",
     "evalue": "",
     "output_type": "error",
     "traceback": [
      "\u001b[1;31mThe Kernel crashed while executing code in the the current cell or a previous cell. Please review the code in the cell(s) to identify a possible cause of the failure. Click <a href='https://aka.ms/vscodeJupyterKernelCrash'>here</a> for more info. View Jupyter <a href='command:jupyter.viewOutput'>log</a> for further details."
     ]
    }
   ],
   "source": [
    "let list = ['ド',['レ','ミ',['ファ','ソ','ラ','シ']]];\n",
    "console.log(list.flat())\n",
    "console.log(list.flat(2))\n",
    "console.log(list.flat(Infinity))\n"
   ]
  },
  {
   "cell_type": "code",
   "execution_count": 5,
   "metadata": {},
   "outputs": [
    {
     "name": "stdout",
     "output_type": "stream",
     "text": [
      "松,竹,梅\n",
      "松/竹/梅\n",
      "松\t竹\t梅\n",
      "松竹梅\n"
     ]
    },
    {
     "ename": "",
     "evalue": "",
     "output_type": "error",
     "traceback": [
      "\u001b[1;31mThe Kernel crashed while executing code in the the current cell or a previous cell. Please review the code in the cell(s) to identify a possible cause of the failure. Click <a href='https://aka.ms/vscodeJupyterKernelCrash'>here</a> for more info. View Jupyter <a href='command:jupyter.viewOutput'>log</a> for further details."
     ]
    }
   ],
   "source": [
    "let list = ['松','竹','梅'];\n",
    "console.log(list.join());\n",
    "console.log(list.join('/'));\n",
    "console.log(list.join('\\t'));\n",
    "console.log(list.join(''));\n"
   ]
  },
  {
   "cell_type": "markdown",
   "metadata": {},
   "source": [
    "### 5.5.8 Moving array elements"
   ]
  },
  {
   "cell_type": "code",
   "execution_count": 2,
   "metadata": {},
   "outputs": [
    {
     "name": "stdout",
     "output_type": "stream",
     "text": [
      "[\n",
      "  \"い\", \"ろ\",\n",
      "  \"は\", \"は\",\n",
      "  \"に\", \"へ\",\n",
      "  \"と\"\n",
      "]\n"
     ]
    }
   ],
   "source": [
    "let list = ['い','ろ','は','に','ほ','へ','と'];\n",
    "console.log(list.copyWithin(3,2,4));"
   ]
  },
  {
   "cell_type": "markdown",
   "metadata": {},
   "source": [
    "### 5.5.9 Converting Array-like objects into Array"
   ]
  },
  {
   "cell_type": "code",
   "execution_count": 5,
   "metadata": {},
   "outputs": [
    {
     "name": "stdout",
     "output_type": "stream",
     "text": [
      "[\n",
      "  \"T\", \"y\", \"p\", \"e\",\n",
      "  \"S\", \"c\", \"r\", \"i\",\n",
      "  \"p\", \"t\"\n",
      "]\n",
      "1 T\n",
      "2 y\n",
      "3 p\n",
      "4 e\n",
      "5 S\n",
      "6 c\n",
      "7 r\n",
      "8 i\n",
      "9 p\n",
      "10 t\n"
     ]
    }
   ],
   "source": [
    "let str = \"TypeScript\"\n",
    "let ary = Array.from(str);\n",
    "console.log(ary);\n",
    "ary.forEach(function(e, i) {\n",
    "  console.log(`${i+1} ${e}`);\n",
    "});"
   ]
  },
  {
   "cell_type": "code",
   "execution_count": 6,
   "metadata": {},
   "outputs": [
    {
     "name": "stdout",
     "output_type": "stream",
     "text": [
      "[ 0, 10, 20, 30, 40 ]\n"
     ]
    }
   ],
   "source": [
    "let list = Array.from(\n",
    "  { length: 5 },\n",
    "  function(value, index) {\n",
    "    return index * 10;\n",
    "  }\n",
    ");\n",
    "console.log(list);"
   ]
  },
  {
   "cell_type": "code",
   "execution_count": 7,
   "metadata": {},
   "outputs": [
    {
     "name": "stdout",
     "output_type": "stream",
     "text": [
      "[ 10, 13, 16, 19 ]\n"
     ]
    }
   ],
   "source": [
    "const BEGIN = 10;\n",
    "const END = 20;\n",
    "const STEP = 3;\n",
    "\n",
    "let list = Array.from(\n",
    "  { length: (END - BEGIN) / STEP + 1},\n",
    "  function(v, i) {\n",
    "    return BEGIN + (i * STEP);\n",
    "  }\n",
    ");\n",
    "console.log(list);"
   ]
  },
  {
   "cell_type": "markdown",
   "metadata": {},
   "source": [
    "### 5.5.10 copy"
   ]
  },
  {
   "cell_type": "code",
   "execution_count": 8,
   "metadata": {},
   "outputs": [
    {
     "name": "stdout",
     "output_type": "stream",
     "text": [
      "[ 1, 2, 3, 4, 5 ]\n",
      "false\n"
     ]
    },
    {
     "ename": "",
     "evalue": "",
     "output_type": "error",
     "traceback": [
      "\u001b[1;31mThe Kernel crashed while executing code in the the current cell or a previous cell. Please review the code in the cell(s) to identify a possible cause of the failure. Click <a href='https://aka.ms/vscodeJupyterKernelCrash'>here</a> for more info. View Jupyter <a href='command:jupyter.viewOutput'>log</a> for further details."
     ]
    }
   ],
   "source": [
    "let list = [1,2,3,4,5];\n",
    "let copy = Array.from(list);\n",
    "console.log(copy);\n",
    "console.log(list === copy);"
   ]
  },
  {
   "cell_type": "markdown",
   "metadata": {},
   "source": [
    "### 5.5.11 Sorting arrays"
   ]
  },
  {
   "cell_type": "code",
   "execution_count": 1,
   "metadata": {},
   "outputs": [
    {
     "name": "stdout",
     "output_type": "stream",
     "text": [
      "[\n",
      "  \"と\", \"へ\",\n",
      "  \"ほ\", \"に\",\n",
      "  \"は\", \"ろ\",\n",
      "  \"い\"\n",
      "]\n"
     ]
    }
   ],
   "source": [
    "let list = ['い','ろ','は','に','ほ','へ','と'];\n",
    "console.log(list.reverse());\n"
   ]
  },
  {
   "cell_type": "code",
   "execution_count": 2,
   "metadata": {},
   "outputs": [
    {
     "name": "stdout",
     "output_type": "stream",
     "text": [
      "[ 5, 10, 25 ]\n"
     ]
    },
    {
     "ename": "",
     "evalue": "",
     "output_type": "error",
     "traceback": [
      "\u001b[1;31mThe Kernel crashed while executing code in the the current cell or a previous cell. Please review the code in the cell(s) to identify a possible cause of the failure. Click <a href='https://aka.ms/vscodeJupyterKernelCrash'>here</a> for more info. View Jupyter <a href='command:jupyter.viewOutput'>log</a> for further details."
     ]
    }
   ],
   "source": [
    "let list = [5, 25, 10];\n",
    "console.log(list.sort(function(m, n) {\n",
    "  return m - n;\n",
    "}));"
   ]
  },
  {
   "cell_type": "code",
   "execution_count": 1,
   "metadata": {},
   "outputs": [
    {
     "name": "stdout",
     "output_type": "stream",
     "text": [
      "[\n",
      "  { name: \"山田久雄\", clazz: \"部長\" },\n",
      "  { name: \"和田知美\", clazz: \"課長\" },\n",
      "  { name: \"鈴木清子\", clazz: \"主任\" },\n",
      "  { name: \"井上太郎\", clazz: \"担当\" },\n",
      "  { name: \"小森雄太\", clazz: \"担当\" }\n",
      "]\n"
     ]
    }
   ],
   "source": [
    "let classes = ['部長','課長','主任','担当'];\n",
    "let members = [\n",
    "  { name:\"鈴木清子\", clazz:\"主任\" },\n",
    "  { name:\"山田久雄\", clazz:\"部長\" },\n",
    "  { name:\"井上太郎\", clazz:\"担当\" },\n",
    "  { name:\"和田知美\", clazz:\"課長\" },\n",
    "  { name:\"小森雄太\", clazz:\"担当\" },  \n",
    "];\n",
    "console.log(members.sort(function(x, y) {\n",
    "  return classes.indexOf(x.clazz) - classes.indexOf(y.clazz);\n",
    "}));"
   ]
  },
  {
   "cell_type": "code",
   "execution_count": 2,
   "metadata": {},
   "outputs": [
    {
     "name": "stdout",
     "output_type": "stream",
     "text": [
      "[ 10, 42, 73, 8 ]\n"
     ]
    }
   ],
   "source": [
    "let list = [10, 42, null, 73, 8];\n",
    "let result = [];\n",
    "list.forEach(function(value) {\n",
    "  if (value !== null) {\n",
    "    this.push(value);\n",
    "  }\n",
    "}, result);\n",
    "console.log(result);"
   ]
  },
  {
   "cell_type": "markdown",
   "metadata": {},
   "source": [
    "### 5.5.13 map"
   ]
  },
  {
   "cell_type": "code",
   "execution_count": 3,
   "metadata": {},
   "outputs": [
    {
     "name": "stdout",
     "output_type": "stream",
     "text": [
      "[ 4, 9, 16, 25 ]\n"
     ]
    }
   ],
   "source": [
    "let list = [2,3,4,5];\n",
    "let result = list.map(function(value, index, array) {\n",
    "  return value * value;\n",
    "});\n",
    "console.log(result);"
   ]
  },
  {
   "cell_type": "code",
   "execution_count": 6,
   "metadata": {},
   "outputs": [
    {
     "name": "stdout",
     "output_type": "stream",
     "text": [
      "[\n",
      "  1,  2,  1, 2, 4,  4,\n",
      "  3,  6,  9, 4, 8, 16,\n",
      "  5, 10, 25\n",
      "]\n"
     ]
    },
    {
     "ename": "",
     "evalue": "",
     "output_type": "error",
     "traceback": [
      "\u001b[1;31mThe Kernel crashed while executing code in the the current cell or a previous cell. Please review the code in the cell(s) to identify a possible cause of the failure. Click <a href='https://aka.ms/vscodeJupyterKernelCrash'>here</a> for more info. View Jupyter <a href='command:jupyter.viewOutput'>log</a> for further details."
     ]
    }
   ],
   "source": [
    "let list = [1,2,3,4,5];\n",
    "console.log(\n",
    "  list.flatMap(function(value) {\n",
    "    return [value, value * 2, value ** 2];\n",
    "  })\n",
    ");\n"
   ]
  },
  {
   "cell_type": "markdown",
   "metadata": {},
   "source": [
    "### 5.5.14 find"
   ]
  },
  {
   "cell_type": "code",
   "execution_count": 1,
   "metadata": {},
   "outputs": [
    {
     "name": "stdout",
     "output_type": "stream",
     "text": [
      "{ title: \"Bootstrapの教科書\", price: 3828 }\n"
     ]
    },
    {
     "ename": "",
     "evalue": "",
     "output_type": "error",
     "traceback": [
      "\u001b[1;31mThe Kernel crashed while executing code in the the current cell or a previous cell. Please review the code in the cell(s) to identify a possible cause of the failure. Click <a href='https://aka.ms/vscodeJupyterKernelCrash'>here</a> for more info. View Jupyter <a href='command:jupyter.viewOutput'>log</a> for further details."
     ]
    }
   ],
   "source": [
    "let books = [\n",
    "  { title: 'TypeScript入門', price: 2948 },\n",
    "  { title: 'Bootstrapの教科書', price: 3828 },\n",
    "  { title: 'はじめてのAndroidアプリ開発', price: 3520 },\n",
    "  { title: '基礎から学ぶC#の教科書', price: 3190 },\n",
    "  { title: 'これからはじめるVue.js実践入門', price: 3740 },\n",
    "];\n",
    "console.log(books.find(function(book) {\n",
    "  return book.title.includes(\"Bootstrap\");\n",
    "}));"
   ]
  },
  {
   "cell_type": "markdown",
   "metadata": {},
   "source": [
    "### 5.5.16 filter"
   ]
  },
  {
   "cell_type": "code",
   "execution_count": 3,
   "metadata": {},
   "outputs": [
    {
     "name": "stdout",
     "output_type": "stream",
     "text": [
      "[\n",
      "  { title: \"TypeScript入門\", price: 2948 },\n",
      "  { title: \"基礎から学ぶC#の教科書\", price: 3190 }\n",
      "]\n"
     ]
    }
   ],
   "source": [
    "let books = [\n",
    "  { title: 'TypeScript入門', price: 2948 },\n",
    "  { title: 'Bootstrapの教科書', price: 3828 },\n",
    "  { title: 'はじめてのAndroidアプリ開発', price: 3520 },\n",
    "  { title: '基礎から学ぶC#の教科書', price: 3190 },\n",
    "  { title: 'これからはじめるVue.js実践入門', price: 3740 },\n",
    "];\n",
    "console.log(books.filter(function(book) {\n",
    "  return book.price < 3200;\n",
    "}));"
   ]
  },
  {
   "cell_type": "markdown",
   "metadata": {},
   "source": [
    "### 5.5.17 Reduce"
   ]
  },
  {
   "cell_type": "code",
   "execution_count": 4,
   "metadata": {},
   "outputs": [
    {
     "name": "stdout",
     "output_type": "stream",
     "text": [
      "192\n"
     ]
    },
    {
     "ename": "",
     "evalue": "",
     "output_type": "error",
     "traceback": [
      "\u001b[1;31mThe Kernel crashed while executing code in the the current cell or a previous cell. Please review the code in the cell(s) to identify a possible cause of the failure. Click <a href='https://aka.ms/vscodeJupyterKernelCrash'>here</a> for more info. View Jupyter <a href='command:jupyter.viewOutput'>log</a> for further details."
     ]
    }
   ],
   "source": [
    "let list = [4, 2, 8, 3];\n",
    "let r = list.reduce(function(result, value) {\n",
    "  return result * value;\n",
    "});\n",
    "console.log(r);"
   ]
  },
  {
   "cell_type": "code",
   "execution_count": 3,
   "metadata": {},
   "outputs": [
    {
     "name": "stdout",
     "output_type": "stream",
     "text": [
      "[ \"ソロ\", 1, \"デュオ\", 2, \"トリオ\", 3 ]\n",
      "[ \"トリオ\", 3, \"デュオ\", 2, \"ソロ\", 1 ]\n"
     ]
    },
    {
     "ename": "",
     "evalue": "",
     "output_type": "error",
     "traceback": [
      "\u001b[1;31mThe Kernel crashed while executing code in the the current cell or a previous cell. Please review the code in the cell(s) to identify a possible cause of the failure. Click <a href='https://aka.ms/vscodeJupyterKernelCrash'>here</a> for more info. View Jupyter <a href='command:jupyter.viewOutput'>log</a> for further details."
     ]
    }
   ],
   "source": [
    "let list = [\n",
    "  ['ソロ', 1],\n",
    "  ['デュオ', 2],\n",
    "  ['トリオ', 3],\n",
    "];\n",
    "console.log(list.reduce(function (result, value) {\n",
    "  return result.concat(value);\n",
    "}));\n",
    "console.log(list.reduceRight(function (result, value) {\n",
    "  return result.concat(value);\n",
    "}));\n"
   ]
  },
  {
   "cell_type": "markdown",
   "metadata": {},
   "source": [
    "## 5.6 Map"
   ]
  },
  {
   "cell_type": "code",
   "execution_count": 1,
   "metadata": {},
   "outputs": [
    {
     "name": "stdout",
     "output_type": "stream",
     "text": [
      "Map(3) { \"1st\" => \"ファースト\", \"2nd\" => \"セカンド\", \"3rd\" => \"サード\" }\n"
     ]
    },
    {
     "ename": "",
     "evalue": "",
     "output_type": "error",
     "traceback": [
      "\u001b[1;31mThe Kernel crashed while executing code in the the current cell or a previous cell. Please review the code in the cell(s) to identify a possible cause of the failure. Click <a href='https://aka.ms/vscodeJupyterKernelCrash'>here</a> for more info. View Jupyter <a href='command:jupyter.viewOutput'>log</a> for further details."
     ]
    }
   ],
   "source": [
    "let data = new Map([\n",
    "  ['1st', 'ファースト'],\n",
    "  ['2nd', 'セカンド'],\n",
    "  ['3rd', 'サード'],\n",
    "]);\n",
    "console.log(data);"
   ]
  },
  {
   "cell_type": "code",
   "execution_count": 1,
   "metadata": {},
   "outputs": [
    {
     "name": "stdout",
     "output_type": "stream",
     "text": [
      "Map(3) { 1 => \"あ\", 2 => \"い\", 3 => \"う\" }\n",
      "Map(3) { 1 => \"あ\", 2 => \"い\", 3 => \"う\" }\n"
     ]
    }
   ],
   "source": [
    "let keys = [1, 2, 3];\n",
    "let values = ['あ', 'い', 'う'];\n",
    "let data = new Map(\n",
    "  keys.map(function(value, index) {\n",
    "    return [ value, values[index]];\n",
    "  })\n",
    ");\n",
    "console.log(data);\n",
    "let d2 = new Map(\n",
    "  keys.map((v,i) => {       // ES2015 アロー関数\n",
    "    return [ v, values[i]];\n",
    "  })\n",
    ");\n",
    "console.log(d2);\n"
   ]
  },
  {
   "cell_type": "code",
   "execution_count": 5,
   "metadata": {},
   "outputs": [
    {
     "name": "stdout",
     "output_type": "stream",
     "text": [
      "一\n",
      "4\n"
     ]
    },
    {
     "ename": "",
     "evalue": "",
     "output_type": "error",
     "traceback": [
      "\u001b[1;31mThe Kernel crashed while executing code in the the current cell or a previous cell. Please review the code in the cell(s) to identify a possible cause of the failure. Click <a href='https://aka.ms/vscodeJupyterKernelCrash'>here</a> for more info. View Jupyter <a href='command:jupyter.viewOutput'>log</a> for further details."
     ]
    }
   ],
   "source": [
    "let data = new Map();\n",
    "data.set('壱','1')\n",
    "  .set('弐','2')\n",
    "  .set('参','3')\n",
    "  .set('壱','一');\n",
    "console.log(data.get('壱'));\n",
    "console.log(data.has('肆') ? data.get('肆') : '4');"
   ]
  },
  {
   "cell_type": "code",
   "execution_count": 10,
   "metadata": {},
   "outputs": [
    {
     "name": "stdout",
     "output_type": "stream",
     "text": [
      "1st => ファースト\n",
      "2nd => セカンド\n",
      "3rd => サード\n",
      "1st => ファースト\n",
      "2nd => セカンド\n",
      "3rd => サード\n",
      "1st => ファースト\n",
      "2nd => セカンド\n",
      "3rd => サード\n"
     ]
    },
    {
     "ename": "",
     "evalue": "",
     "output_type": "error",
     "traceback": [
      "\u001b[1;31mThe Kernel crashed while executing code in the the current cell or a previous cell. Please review the code in the cell(s) to identify a possible cause of the failure. Click <a href='https://aka.ms/vscodeJupyterKernelCrash'>here</a> for more info. View Jupyter <a href='command:jupyter.viewOutput'>log</a> for further details."
     ]
    }
   ],
   "source": [
    "let data = new Map([\n",
    "  ['1st', 'ファースト'],\n",
    "  ['2nd', 'セカンド'],\n",
    "  ['3rd', 'サード'],\n",
    "]);\n",
    "for (let key of data.keys()) {\n",
    "  console.log(`${key} => ${data.get(key)}`);\n",
    "}\n",
    "for (let [key,value] of data.entries()) {\n",
    "  console.log(`${key} => ${data.get(key)}`);\n",
    "}\n",
    "data.forEach((value, key) => {\n",
    "  console.log(`${key} => ${value}`);\n",
    "});"
   ]
  },
  {
   "cell_type": "code",
   "execution_count": 1,
   "metadata": {},
   "outputs": [
    {
     "name": "stdout",
     "output_type": "stream",
     "text": [
      "Map(3) { \"1st\" => \"ファースト\", \"2nd\" => \"セカンド\", \"3rd\" => \"サード\" }\n",
      "{ \"1st\": \"ファースト\", \"2nd\": \"セカンド\", \"3rd\": \"サード\" }\n"
     ]
    },
    {
     "ename": "",
     "evalue": "",
     "output_type": "error",
     "traceback": [
      "\u001b[1;31mThe Kernel crashed while executing code in the the current cell or a previous cell. Please review the code in the cell(s) to identify a possible cause of the failure. Click <a href='https://aka.ms/vscodeJupyterKernelCrash'>here</a> for more info. View Jupyter <a href='command:jupyter.viewOutput'>log</a> for further details."
     ]
    }
   ],
   "source": [
    "let data = new Map([\n",
    "  ['1st', 'ファースト'],\n",
    "  ['2nd', 'セカンド'],\n",
    "  ['3rd', 'サード'],\n",
    "]);\n",
    "console.log(data);\n",
    "console.log(Object.fromEntries(data));"
   ]
  },
  {
   "cell_type": "code",
   "execution_count": 1,
   "metadata": {},
   "outputs": [
    {
     "name": "stdout",
     "output_type": "stream",
     "text": [
      "Map(3) { \"1st\" => \"ファースト\", \"2nd\" => \"セカンド\", \"3rd\" => \"サード\" }\n"
     ]
    }
   ],
   "source": [
    "let obj = {'1st': 'ファースト', '2nd': 'セカンド', '3rd': 'サード'};\n",
    "let map = new Map(Object.entries(obj));\n",
    "console.log(map);"
   ]
  },
  {
   "cell_type": "markdown",
   "metadata": {},
   "source": [
    "## 5.7 Set"
   ]
  },
  {
   "cell_type": "code",
   "execution_count": 10,
   "metadata": {},
   "outputs": [
    {
     "name": "stdout",
     "output_type": "stream",
     "text": [
      "Set(4) { 10, 5, 100, 50 }\n",
      "10 5 100 50\n",
      "[ 5, 10, 50, 100 ]\n"
     ]
    },
    {
     "ename": "",
     "evalue": "",
     "output_type": "error",
     "traceback": [
      "\u001b[1;31mThe Kernel crashed while executing code in the the current cell or a previous cell. Please review the code in the cell(s) to identify a possible cause of the failure. Click <a href='https://aka.ms/vscodeJupyterKernelCrash'>here</a> for more info. View Jupyter <a href='command:jupyter.viewOutput'>log</a> for further details."
     ]
    }
   ],
   "source": [
    "let data = new Set([10, 5, 100, 10, 50]);\n",
    "console.log(data);\n",
    "console.log(...data);\n",
    "console.log([...data].sort(function(m,n) { return m - n;}));"
   ]
  },
  {
   "cell_type": "code",
   "execution_count": 1,
   "metadata": {},
   "outputs": [
    {
     "name": "stdout",
     "output_type": "stream",
     "text": [
      "Set(3) { \"壱\", \"弐\", \"参\" }\n",
      "Set(2) { \"弐\", \"参\" }\n",
      "Set(0) {}\n"
     ]
    },
    {
     "ename": "",
     "evalue": "",
     "output_type": "error",
     "traceback": [
      "\u001b[1;31mThe Kernel crashed while executing code in the the current cell or a previous cell. Please review the code in the cell(s) to identify a possible cause of the failure. Click <a href='https://aka.ms/vscodeJupyterKernelCrash'>here</a> for more info. View Jupyter <a href='command:jupyter.viewOutput'>log</a> for further details."
     ]
    }
   ],
   "source": [
    "let data = new Set();\n",
    "data.add('壱').add('弐').add('参');\n",
    "console.log(data);\n",
    "data.delete('壱');\n",
    "console.log(data);\n",
    "data.clear();\n",
    "console.log(data);"
   ]
  },
  {
   "cell_type": "code",
   "execution_count": 2,
   "metadata": {},
   "outputs": [
    {
     "name": "stdout",
     "output_type": "stream",
     "text": [
      "true\n",
      "false\n"
     ]
    }
   ],
   "source": [
    "let data = new Set();\n",
    "data.add('壱').add('弐').add('参');\n",
    "console.log(data.has('参'))\n",
    "console.log(data.has('零'))"
   ]
  },
  {
   "cell_type": "code",
   "execution_count": 4,
   "metadata": {},
   "outputs": [
    {
     "name": "stdout",
     "output_type": "stream",
     "text": [
      "value=壱, key=壱, set=[object Set]\n",
      "value=弐, key=弐, set=[object Set]\n",
      "value=参, key=参, set=[object Set]\n"
     ]
    }
   ],
   "source": [
    "let data = new Set(['壱', '弐', '参']);\n",
    "data.forEach(function(value,key,set) {\n",
    "  console.log(`value=${value}, key=${key}, set=${set}`);\n",
    "});"
   ]
  },
  {
   "cell_type": "markdown",
   "metadata": {},
   "source": [
    "## 5.8 RegExp"
   ]
  },
  {
   "cell_type": "code",
   "execution_count": null,
   "metadata": {},
   "outputs": [],
   "source": [
    "// TODO"
   ]
  },
  {
   "cell_type": "code",
   "execution_count": 5,
   "metadata": {},
   "outputs": [],
   "source": [
    "let urlPattern = /http(s)?:\\/\\/([\\w-]+\\.)+[\\w-]+(\\/[\\w- .\\/%&=]*)?/gi;"
   ]
  },
  {
   "cell_type": "code",
   "execution_count": 6,
   "metadata": {},
   "outputs": [
    {
     "name": "stdout",
     "output_type": "stream",
     "text": [
      "/[0-9]{3}-[0-9]{4}/i\n"
     ]
    },
    {
     "ename": "",
     "evalue": "",
     "output_type": "error",
     "traceback": [
      "\u001b[1;31mThe Kernel crashed while executing code in the the current cell or a previous cell. Please review the code in the cell(s) to identify a possible cause of the failure. Click <a href='https://aka.ms/vscodeJupyterKernelCrash'>here</a> for more info. View Jupyter <a href='command:jupyter.viewOutput'>log</a> for further details."
     ]
    }
   ],
   "source": [
    "let org  = /[0-9]{3}-[0-9]{4}/g;\n",
    "let copy = new RegExp(org, 'i');\n",
    "console.log(copy);"
   ]
  },
  {
   "cell_type": "code",
   "execution_count": 3,
   "metadata": {},
   "outputs": [
    {
     "name": "stdout",
     "output_type": "stream",
     "text": [
      "true\n",
      "false\n",
      "5\n",
      "-1\n"
     ]
    }
   ],
   "source": [
    "let re = /[0-9]{3}-[0-9]{4}/;\n",
    "let str1 = '郵便番号は111-0500です';\n",
    "let str2 = '住所は東京都新宿区中落合1-2-3です';\n",
    "console.log(re.test(str1));\n",
    "console.log(re.test(str2));\n",
    "console.log(str1.search(re));\n",
    "console.log(str2.search(re));\n"
   ]
  },
  {
   "cell_type": "markdown",
   "metadata": {},
   "source": [
    "### 5.8.4 getting the group that matched the pattern"
   ]
  },
  {
   "cell_type": "code",
   "execution_count": 1,
   "metadata": {},
   "outputs": [
    {
     "name": "stdout",
     "output_type": "stream",
     "text": [
      "[ \"https://www.example.com/\", \"https://www.web-deli.com/\" ]\n"
     ]
    },
    {
     "ename": "",
     "evalue": "",
     "output_type": "error",
     "traceback": [
      "\u001b[1;31mThe Kernel crashed while executing code in the the current cell or a previous cell. Please review the code in the cell(s) to identify a possible cause of the failure. Click <a href='https://aka.ms/vscodeJupyterKernelCrash'>here</a> for more info. View Jupyter <a href='command:jupyter.viewOutput'>log</a> for further details."
     ]
    }
   ],
   "source": [
    "let re = /http(s)?:\\/\\/([\\w-]+\\.)+[\\w-]+(\\/[\\w- .\\/%&=]*)?/gi;\n",
    "let str = 'サポートサイトはhttps://www.example.com/です。サンプル紹介サイトhttps://www.web-deli.com/もよろしく';\n",
    "\n",
    "let results = str.match(re);\n",
    "console.log(results);\n"
   ]
  },
  {
   "cell_type": "markdown",
   "metadata": {},
   "source": [
    "### 5.8.7 replace by RegExp"
   ]
  },
  {
   "cell_type": "code",
   "execution_count": 1,
   "metadata": {},
   "outputs": [
    {
     "name": "stdout",
     "output_type": "stream",
     "text": [
      "お問い合わせは088(888)8888まで。夜間は088(999)9999で受け付けています。\n"
     ]
    },
    {
     "ename": "",
     "evalue": "",
     "output_type": "error",
     "traceback": [
      "\u001b[1;31mThe Kernel crashed while executing code in the the current cell or a previous cell. Please review the code in the cell(s) to identify a possible cause of the failure. Click <a href='https://aka.ms/vscodeJupyterKernelCrash'>here</a> for more info. View Jupyter <a href='command:jupyter.viewOutput'>log</a> for further details."
     ]
    }
   ],
   "source": [
    "let re = /(0\\d{1,3})-(\\d{2,4})-(\\d{3,4})/g;\n",
    "let str = 'お問い合わせは088-888-8888まで。夜間は088-999-9999で受け付けています。';\n",
    "\n",
    "console.log(str.replace(re, '$1($2)$3'));\n"
   ]
  },
  {
   "cell_type": "code",
   "execution_count": 1,
   "metadata": {},
   "outputs": [
    {
     "name": "stdout",
     "output_type": "stream",
     "text": [
      "サポートサイトは<a href=\"http://www.example.com/\">http://www.example.com/</a>です\n"
     ]
    }
   ],
   "source": [
    "let re =  /http(s)?:\\/\\/([\\w-]+\\.)+[\\w-]+(\\/[\\w- .\\/%&=]*)?/gi;\n",
    "let str = 'サポートサイトはhttp://www.example.com/です'\n",
    "\n",
    "console.log(str.replace(re, '<a href=\"$&\">$&</a>'));"
   ]
  },
  {
   "cell_type": "code",
   "execution_count": null,
   "metadata": {},
   "outputs": [],
   "source": []
  },
  {
   "cell_type": "markdown",
   "metadata": {},
   "source": [
    "### 5.8.8 split by RegExp"
   ]
  },
  {
   "cell_type": "code",
   "execution_count": 3,
   "metadata": {},
   "outputs": [
    {
     "name": "stdout",
     "output_type": "stream",
     "text": [
      "[ \"2022\", \"12\", \"04\" ]\n",
      "[ \"2022\", \"12\", \"04\" ]\n",
      "[ \"2022\", \"12\", \"04\" ]\n"
     ]
    }
   ],
   "source": [
    "let re = /[\\/\\.\\-]/g;\n",
    "console.log('2022/12/04'.split(re));\n",
    "console.log('2022.12.04'.split(re));\n",
    "console.log('2022-12-04'.split(re));"
   ]
  },
  {
   "cell_type": "code",
   "execution_count": null,
   "metadata": {},
   "outputs": [
    {
     "ename": "Expected ident at repl.tsx:1:2\n\n  ### group named\n   ~",
     "evalue": " ",
     "output_type": "error",
     "traceback": []
    },
    {
     "ename": "",
     "evalue": "",
     "output_type": "error",
     "traceback": [
      "\u001b[1;31mThe Kernel crashed while executing code in the the current cell or a previous cell. Please review the code in the cell(s) to identify a possible cause of the failure. Click <a href='https://aka.ms/vscodeJupyterKernelCrash'>here</a> for more info. View Jupyter <a href='command:jupyter.viewOutput'>log</a> for further details."
     ]
    },
    {
     "ename": "",
     "evalue": "",
     "output_type": "error",
     "traceback": [
      "\u001b[1;31mThe Kernel crashed while executing code in the the current cell or a previous cell. Please review the code in the cell(s) to identify a possible cause of the failure. Click <a href='https://aka.ms/vscodeJupyterKernelCrash'>here</a> for more info. View Jupyter <a href='command:jupyter.viewOutput'>log</a> for further details."
     ]
    }
   ],
   "source": [
    "let re = /(?<area>0\\d{1,3})-(?<city>\\d{2,4})-(?<local>\\d{3,4})/;\n",
    "// TypeScriptでは名前付きキャプチャーグループ ?<name> が未サポートなのかな？\n",
    "let str = 'オフィスの電話番号は000-111-3333です';\n",
    "let result = str.match(re);\n",
    "console.log(result);\n",
    "console.log(`\n",
    "市外局番:${result.groups.area}\n",
    "市内局番:${result.groups.city}\n",
    "加入者番号:${result.groups.local}\n",
    "`);"
   ]
  },
  {
   "cell_type": "markdown",
   "metadata": {},
   "source": [
    "## 5.9 Global, JSON, Eval, Symbol"
   ]
  },
  {
   "cell_type": "code",
   "execution_count": null,
   "metadata": {},
   "outputs": [],
   "source": []
  }
 ],
 "metadata": {
  "kernelspec": {
   "display_name": "Deno",
   "language": "typescript",
   "name": "deno"
  },
  "language_info": {
   "file_extension": ".ts",
   "mimetype": "text/x.typescript",
   "name": "typescript",
   "nb_converter": "script",
   "pygments_lexer": "typescript",
   "version": "5.3.3"
  }
 },
 "nbformat": 4,
 "nbformat_minor": 2
}
