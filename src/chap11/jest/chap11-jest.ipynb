{
 "cells": [
  {
   "cell_type": "markdown",
   "metadata": {},
   "source": [
    "\n",
    "# initialzing package.json\n",
    "\n",
    "```\n",
    "$ npm init -y\n",
    "```\n",
    "\n",
    "# installing jest\n",
    "\n",
    "```\n",
    "$ npm install --save-dev jest\n",
    "```\n",
    "\n",
    "# edit the package.json\n",
    "\n",
    "declare `test` to be an alias of `export NODE_OPTION=--experimental-vm-modules && test`\n",
    "\n",
    "\n",
    "# run test\n",
    "\n",
    "```\n",
    "$ npm run test\n",
    "```\n",
    "\n",
    "The `test` sub-command is declared in the package.json"
   ]
  }
 ],
 "metadata": {
  "kernelspec": {
   "display_name": "Deno",
   "language": "typescript",
   "name": "deno"
  },
  "language_info": {
   "file_extension": ".ts",
   "mimetype": "text/x.typescript",
   "name": "typescript",
   "nb_converter": "script",
   "pygments_lexer": "typescript",
   "version": "5.3.3"
  }
 },
 "nbformat": 4,
 "nbformat_minor": 2
}
