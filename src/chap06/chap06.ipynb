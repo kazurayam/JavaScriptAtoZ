{
 "cells": [
  {
   "cell_type": "markdown",
   "metadata": {},
   "source": [
    "## 6.1 Function Basics"
   ]
  },
  {
   "cell_type": "code",
   "execution_count": 2,
   "metadata": {},
   "outputs": [
    {
     "name": "stdout",
     "output_type": "stream",
     "text": [
      "area=6\n"
     ]
    }
   ],
   "source": [
    "function getTriangleArea(base, height) {\n",
    "  return base * height / 2;\n",
    "}\n",
    "\n",
    "let area = getTriangleArea(3,4);\n",
    "console.log(`area=${area}`);"
   ]
  },
  {
   "cell_type": "markdown",
   "metadata": {},
   "source": [
    "### Myth of var"
   ]
  },
  {
   "cell_type": "code",
   "execution_count": 4,
   "metadata": {},
   "outputs": [
    {
     "name": "stdout",
     "output_type": "stream",
     "text": [
      "undefined\n",
      "Block Scope\n",
      "Global Scope\n"
     ]
    }
   ],
   "source": [
    "var scope = 'Global Scope';\n",
    "\n",
    "function getValue() {\n",
    "  console.log(scope);\n",
    "  var scope = 'Block Scope';\n",
    "  return scope;\n",
    "}\n",
    "\n",
    "console.log(getValue());\n",
    "console.log(scope);"
   ]
  },
  {
   "cell_type": "markdown",
   "metadata": {},
   "source": [
    "## 6.4 引数のさまざまな記法"
   ]
  },
  {
   "cell_type": "code",
   "execution_count": 8,
   "metadata": {},
   "outputs": [
    {
     "name": "stdout",
     "output_type": "stream",
     "text": [
      "undefined\n",
      "[Arguments] {}\n",
      "山田\n",
      "[Arguments] { \"0\": \"山田\" }\n",
      "山田\n",
      "[Arguments] { \"0\": \"山田\", \"1\": \"鈴木\" }\n"
     ]
    }
   ],
   "source": [
    "function showMessage(value) {\n",
    "  console.log(value);\n",
    "  console.log(arguments);\n",
    "}\n",
    "\n",
    "showMessage();\n",
    "showMessage('山田');\n",
    "showMessage('山田', '鈴木');"
   ]
  },
  {
   "cell_type": "code",
   "execution_count": 1,
   "metadata": {},
   "outputs": [
    {
     "name": "stdout",
     "output_type": "stream",
     "text": [
      "引数の数がまちがっています: 2\n"
     ]
    }
   ],
   "source": [
    "function showMessage(value) {\n",
    "  if (arguments.length !== 1) {\n",
    "    throw new Error(`引数の数がまちがっています: ${arguments.length}`);\n",
    "  } else {\n",
    "    console.log(value);\n",
    "  }\n",
    "}\n",
    "\n",
    "try {\n",
    "  showMessage('山田', '鈴木');\n",
    "} catch (e) {\n",
    "  console.log(e.message);\n",
    "}"
   ]
  },
  {
   "cell_type": "markdown",
   "metadata": {},
   "source": [
    "### 6.4.2 default value"
   ]
  },
  {
   "cell_type": "code",
   "execution_count": 4,
   "metadata": {},
   "outputs": [
    {
     "name": "stdout",
     "output_type": "stream",
     "text": [
      "25\n",
      "10\n",
      "1\n"
     ]
    }
   ],
   "source": [
    "function getTriangleArea(base = 10, height = 5) {\n",
    "  return base * height / 2;\n",
    "}\n",
    "console.log(getTriangleArea());\n",
    "console.log(getTriangleArea(4));\n",
    "console.log(getTriangleArea(1,2));"
   ]
  },
  {
   "cell_type": "code",
   "execution_count": 6,
   "metadata": {},
   "outputs": [
    {
     "name": "stdout",
     "output_type": "stream",
     "text": [
      "x is required\n"
     ]
    },
    {
     "ename": "",
     "evalue": "",
     "output_type": "error",
     "traceback": [
      "\u001b[1;31mThe Kernel crashed while executing code in the the current cell or a previous cell. Please review the code in the cell(s) to identify a possible cause of the failure. Click <a href='https://aka.ms/vscodeJupyterKernelCrash'>here</a> for more info. View Jupyter <a href='command:jupyter.viewOutput'>log</a> for further details."
     ]
    }
   ],
   "source": [
    "function show(x, y = 1) {\n",
    "  if (x === undefined) {\n",
    "    throw new Error('x is required');\n",
    "  }\n",
    "  console.log(`x=${x}, y=${y}`)\n",
    "}\n",
    "\n",
    "try {\n",
    "  show();\n",
    "} catch (e) {\n",
    "  console.log(e.message);\n",
    "}"
   ]
  },
  {
   "cell_type": "markdown",
   "metadata": {},
   "source": [
    "### 6.4.3 可変長引数を受け取る関数"
   ]
  },
  {
   "cell_type": "code",
   "execution_count": 2,
   "metadata": {},
   "outputs": [
    {
     "name": "stdout",
     "output_type": "stream",
     "text": [
      "25\n"
     ]
    },
    {
     "ename": "",
     "evalue": "",
     "output_type": "error",
     "traceback": [
      "\u001b[1;31mThe Kernel crashed while executing code in the the current cell or a previous cell. Please review the code in the cell(s) to identify a possible cause of the failure. Click <a href='https://aka.ms/vscodeJupyterKernelCrash'>here</a> for more info. View Jupyter <a href='command:jupyter.viewOutput'>log</a> for further details."
     ]
    }
   ],
   "source": [
    "function sum(...nums) {\n",
    "  let result = 0;\n",
    "  for (let num of nums) {\n",
    "    if (typeof num !== 'number') {\n",
    "      throw new Error('指定された値がnumberではありません: ${num}');\n",
    "    }\n",
    "    result += num;\n",
    "  }\n",
    "  return result;\n",
    "}\n",
    "console.log(sum(1,3,5,7,9));"
   ]
  },
  {
   "cell_type": "code",
   "execution_count": 1,
   "metadata": {},
   "outputs": [
    {
     "name": "stdout",
     "output_type": "stream",
     "text": [
      "こんにちは みなさん、わたしは大谷翔平です\n"
     ]
    }
   ],
   "source": [
    "function printf(format, ...args) {\n",
    "  for (let i = 0; i < args.length; i++) {\n",
    "    let pattern = new RegExp(`\\\\{${i}\\\\}`, 'g');\n",
    "    format = format.replaceAll(pattern, args[i])\n",
    "  }\n",
    "  console.log(format);\n",
    "}\n",
    "\n",
    "printf(\"こんにちは {0}さん、わたしは{1}です\",'みな','大谷翔平');"
   ]
  },
  {
   "cell_type": "markdown",
   "metadata": {},
   "source": [
    "### 6.4.5 名前付き引数"
   ]
  },
  {
   "cell_type": "code",
   "execution_count": 1,
   "metadata": {},
   "outputs": [
    {
     "name": "stdout",
     "output_type": "stream",
     "text": [
      "content :ダイアログです\n",
      "title   :My Dialog\n",
      "width   :100\n",
      "height  :100\n",
      "position:center\n",
      "modal   :true\n"
     ]
    },
    {
     "ename": "",
     "evalue": "",
     "output_type": "error",
     "traceback": [
      "\u001b[1;31mThe Kernel crashed while executing code in the the current cell or a previous cell. Please review the code in the cell(s) to identify a possible cause of the failure. Click <a href='https://aka.ms/vscodeJupyterKernelCrash'>here</a> for more info. View Jupyter <a href='command:jupyter.viewOutput'>log</a> for further details."
     ]
    }
   ],
   "source": [
    "function showDialog({\n",
    "  content = '',\n",
    "  title = 'My Dialog',\n",
    "  width = 100,\n",
    "  height = 100,\n",
    "  position = 'center',\n",
    "  modal = false\n",
    "}) {\n",
    "  console.log(`content :${content}`);\n",
    "  console.log(`title   :${title}`);\n",
    "  console.log(`width   :${width}`);\n",
    "  console.log(`height  :${height}`);\n",
    "  console.log(`position:${position}`);\n",
    "  console.log(`modal   :${modal}`);\n",
    "}\n",
    "\n",
    "showDialog({\n",
    "  content: 'ダイアログです',\n",
    "  modal: true\n",
    "});"
   ]
  },
  {
   "cell_type": "code",
   "execution_count": 1,
   "metadata": {},
   "outputs": [
    {
     "name": "stdout",
     "output_type": "stream",
     "text": [
      "大谷翔平\n"
     ]
    }
   ],
   "source": [
    "function show({name}) {\n",
    "  console.log(name);\n",
    "}\n",
    "\n",
    "show({\n",
    "  mid: 'Y0001',\n",
    "  name: '大谷翔平',\n",
    "  address: 'shohei_ohtani@dodgers.com'\n",
    "});"
   ]
  },
  {
   "cell_type": "markdown",
   "metadata": {},
   "source": [
    "## 関数の呼び出しと戻り値"
   ]
  },
  {
   "cell_type": "code",
   "execution_count": 6,
   "metadata": {},
   "outputs": [
    {
     "name": "stdout",
     "output_type": "stream",
     "text": [
      "max=99, min=17\n"
     ]
    }
   ],
   "source": [
    "// returning multiple values, assigning multiple values\n",
    "function getMaxMin(...nums) {\n",
    "  return [Math.max(...nums), Math.min(...nums)];\n",
    "}\n",
    "\n",
    "let [max, min] = getMaxMin(25, 99, 43, 17, 56);\n",
    "console.log(`max=${max}, min=${min}`);"
   ]
  },
  {
   "cell_type": "markdown",
   "metadata": {},
   "source": [
    "### Recursive function"
   ]
  },
  {
   "cell_type": "code",
   "execution_count": 11,
   "metadata": {},
   "outputs": [
    {
     "name": "stdout",
     "output_type": "stream",
     "text": [
      "120\n"
     ]
    }
   ],
   "source": [
    "function factorial(n) {\n",
    "  if (n !== 0) {\n",
    "    return n * factorial(n - 1);\n",
    "  }\n",
    "  return 1;\n",
    "}\n",
    "\n",
    "console.log(factorial(5));"
   ]
  },
  {
   "cell_type": "markdown",
   "metadata": {},
   "source": [
    "### 6.5.3 Higher-order function 高階関数"
   ]
  },
  {
   "cell_type": "code",
   "execution_count": 1,
   "metadata": {},
   "outputs": [
    {
     "name": "stdout",
     "output_type": "stream",
     "text": [
      "1st => ファースト\n",
      "2nd => セカンド\n",
      "3rd => サード\n"
     ]
    }
   ],
   "source": [
    "function mapWalk(data, callback) {\n",
    "  for (let [key, value] of data.entries()) {\n",
    "    callback(value, key);\n",
    "  }\n",
    "}\n",
    "function showElement(value, key) {\n",
    "  console.log(`${key} => ${value}`);\n",
    "}\n",
    "let map = new Map([\n",
    "  ['1st', 'ファースト'],\n",
    "  ['2nd', 'セカンド'],\n",
    "  ['3rd', 'サード']\n",
    "]);\n",
    "\n",
    "mapWalk(map, showElement);"
   ]
  },
  {
   "cell_type": "code",
   "execution_count": 5,
   "metadata": {},
   "outputs": [
    {
     "name": "stdout",
     "output_type": "stream",
     "text": [
      "0 => 1\n",
      "1 => 2\n",
      "2 => 4\n",
      "3 => 8\n",
      "4 => 16\n",
      "result=31\n"
     ]
    }
   ],
   "source": [
    "function arrayWalk(data, callback) {\n",
    "  for (let [key, value] of data.entries()) {\n",
    "    callback(value, key);\n",
    "  }\n",
    "}\n",
    "function showElement(value, key) {\n",
    "  console.log(`${key} => ${value}`);\n",
    "}\n",
    "let list = [1,2,4,8,16];\n",
    "\n",
    "arrayWalk(list, showElement);\n",
    "\n",
    "let result = 0;\n",
    "function sumElement(value, key) {\n",
    "  result += value;\n",
    "}\n",
    "arrayWalk(list, sumElement);\n",
    "console.log(`result=${result}`);\n"
   ]
  },
  {
   "cell_type": "code",
   "execution_count": 7,
   "metadata": {},
   "outputs": [
    {
     "name": "stdout",
     "output_type": "stream",
     "text": [
      "result=31\n"
     ]
    },
    {
     "ename": "",
     "evalue": "",
     "output_type": "error",
     "traceback": [
      "\u001b[1;31mThe Kernel crashed while executing code in the the current cell or a previous cell. Please review the code in the cell(s) to identify a possible cause of the failure. Click <a href='https://aka.ms/vscodeJupyterKernelCrash'>here</a> for more info. View Jupyter <a href='command:jupyter.viewOutput'>log</a> for further details."
     ]
    }
   ],
   "source": [
    "function arrayWalk(data, callback) {\n",
    "  for (let [key, value] of data.entries()) {\n",
    "    callback(value, key);\n",
    "  }\n",
    "}\n",
    "let list = [1,2,4,8,16];\n",
    "\n",
    "let result = 0;\n",
    "arrayWalk(list, (v, k) => { result += v; });\n",
    "console.log(`result=${result}`);"
   ]
  },
  {
   "cell_type": "markdown",
   "metadata": {},
   "source": [
    "## 6.6 Function Advanced topics"
   ]
  },
  {
   "cell_type": "markdown",
   "metadata": {},
   "source": [
    "### 6.6.1 タグ付きテンプレート文字列"
   ]
  },
  {
   "cell_type": "code",
   "execution_count": 1,
   "metadata": {},
   "outputs": [
    {
     "name": "stdout",
     "output_type": "stream",
     "text": [
      "こんにちは &lt;&quot;Mario&quot; &amp; &#39;Luigi&#39;&gt;さん! \n"
     ]
    }
   ],
   "source": [
    "// 与えられた文字列に含まれるHTML構文要素をエスケープする\n",
    "function escapeHTML(str) {\n",
    "  if (!str) { return ''; }\n",
    "  str = str.replaceAll(/&/g, '&amp;');\n",
    "  str = str.replaceAll(/</g, '&lt;');\n",
    "  str = str.replaceAll(/>/g, '&gt;');\n",
    "  str = str.replaceAll(/\"/g, '&quot;');\n",
    "  str = str.replaceAll(/'/g, '&#39;');\n",
    "  return str;\n",
    "}\n",
    "\n",
    "// 分解されたtemplatesとvaluesを順に連結する、ただしvaluesをescapeHTML関数でエスケープしながら\n",
    "function e(templates, ...values) {\n",
    "  let result = '';\n",
    "  for (let [i, temp] of templates.entries()) {\n",
    "    result += temp + escapeHTML(values[i]);\n",
    "  }\n",
    "  return result;\n",
    "}\n",
    "\n",
    "let name = '<\"Mario\" & \\'Luigi\\'>';\n",
    "console.log(e`こんにちは ${name}さん! `);"
   ]
  },
  {
   "cell_type": "markdown",
   "metadata": {},
   "source": [
    "### 6.6.2 Lexical scope"
   ]
  },
  {
   "cell_type": "code",
   "execution_count": 5,
   "metadata": {},
   "outputs": [
    {
     "name": "stdout",
     "output_type": "stream",
     "text": [
      "Global\n",
      "Global\n"
     ]
    }
   ],
   "source": [
    "let data = 'Global';\n",
    "\n",
    "function scope1() {\n",
    "  console.log(data);\n",
    "}\n",
    "\n",
    "function scope2() {\n",
    "  let data = 'Local Scope2';\n",
    "  scope1();\n",
    "}\n",
    "\n",
    "scope1();\n",
    "scope2();"
   ]
  },
  {
   "cell_type": "markdown",
   "metadata": {},
   "source": [
    "### 6.6.3 Closure"
   ]
  },
  {
   "cell_type": "code",
   "execution_count": 9,
   "metadata": {},
   "outputs": [
    {
     "name": "stdout",
     "output_type": "stream",
     "text": [
      "2\n",
      "3\n",
      "4\n",
      "101\n",
      "102\n",
      "103\n"
     ]
    }
   ],
   "source": [
    "function closure(init) {\n",
    "  let counter = init;\n",
    "  return function() {\n",
    "    return ++counter;\n",
    "  }\n",
    "}\n",
    "let myClosure = closure(1);\n",
    "console.log(myClosure());\n",
    "console.log(myClosure());\n",
    "console.log(myClosure());\n",
    "\n",
    "let myClosure2 = closure(100);\n",
    "console.log(myClosure2());\n",
    "console.log(myClosure2());\n",
    "console.log(myClosure2());"
   ]
  }
 ],
 "metadata": {
  "kernelspec": {
   "display_name": "Deno",
   "language": "typescript",
   "name": "deno"
  },
  "language_info": {
   "file_extension": ".ts",
   "mimetype": "text/x.typescript",
   "name": "typescript",
   "nb_converter": "script",
   "pygments_lexer": "typescript",
   "version": "5.3.3"
  }
 },
 "nbformat": 4,
 "nbformat_minor": 2
}
