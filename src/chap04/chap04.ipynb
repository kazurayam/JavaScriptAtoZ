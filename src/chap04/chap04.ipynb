{
 "cells": [
  {
   "cell_type": "code",
   "execution_count": 1,
   "metadata": {},
   "outputs": [
    {
     "name": "stdout",
     "output_type": "stream",
     "text": [
      "x is equal to or greater than 10\n"
     ]
    }
   ],
   "source": [
    "const x = 15;\n",
    "if (x >= 10) {\n",
    "  console.log(\"x is equal to or greater than 10\");\n",
    "} else { \n",
    "  console.log(\"x is less than 10\");\n",
    "}"
   ]
  },
  {
   "cell_type": "code",
   "execution_count": 4,
   "metadata": {},
   "outputs": [
    {
     "name": "stdout",
     "output_type": "stream",
     "text": [
      "x is equal to or grater than 20\n"
     ]
    }
   ],
   "source": [
    "let x = 30;\n",
    "\n",
    "if (x >= 20) {\n",
    "  console.log(\"x is equal to or grater than 20\");\n",
    "} else if (x >= 10) {\n",
    "  console.log(\"x is equal to or greater than 10\");\n",
    "} else { \n",
    "  console.log(\"x is less than 10\");\n",
    "}\n"
   ]
  },
  {
   "cell_type": "code",
   "execution_count": 10,
   "metadata": {},
   "outputs": [
    {
     "name": "stdout",
     "output_type": "stream",
     "text": [
      "Passed!\n"
     ]
    }
   ],
   "source": [
    "let rank = 'B';\n",
    "switch (rank) {\n",
    "    case 'A':\n",
    "    case 'B':\n",
    "    case 'C':\n",
    "      console.log(\"Passed!\");\n",
    "      break;\n",
    "    case 'D':\n",
    "      console.log(\"Failed\");\n",
    "      break;\n",
    "}"
   ]
  },
  {
   "cell_type": "code",
   "execution_count": 2,
   "metadata": {},
   "outputs": [
    {
     "data": {
      "text/plain": [
       "\u001b[33m9\u001b[39m"
      ]
     },
     "execution_count": 2,
     "metadata": {},
     "output_type": "execute_result"
    },
    {
     "name": "stdout",
     "output_type": "stream",
     "text": [
      "i is 5\n",
      "i is 6\n",
      "i is 7\n",
      "i is 8\n",
      "i is 9\n"
     ]
    }
   ],
   "source": [
    "let i = 5;\n",
    "while (i < 10) {\n",
    "  console.log(`i is ${i}`);\n",
    "  i++;\n",
    "}"
   ]
  },
  {
   "cell_type": "code",
   "execution_count": 1,
   "metadata": {},
   "outputs": [
    {
     "data": {
      "text/plain": [
       "\u001b[33m9\u001b[39m"
      ]
     },
     "execution_count": 1,
     "metadata": {},
     "output_type": "execute_result"
    },
    {
     "name": "stdout",
     "output_type": "stream",
     "text": [
      "i is 5\n",
      "i is 6\n",
      "i is 7\n",
      "i is 8\n",
      "i is 9\n"
     ]
    }
   ],
   "source": [
    "let i = 5;\n",
    "do {\n",
    "  console.log(`i is ${i}`);\n",
    "  i++;\n",
    "} while (i < 10);"
   ]
  },
  {
   "cell_type": "code",
   "execution_count": 3,
   "metadata": {},
   "outputs": [
    {
     "name": "stdout",
     "output_type": "stream",
     "text": [
      "i is 5\n",
      "i is 6\n",
      "i is 7\n",
      "i is 8\n",
      "i is 9\n"
     ]
    }
   ],
   "source": [
    "for (let i = 5; i < 10; i++) {\n",
    "  console.log(`i is ${i}`);\n",
    "}"
   ]
  },
  {
   "cell_type": "code",
   "execution_count": 4,
   "metadata": {},
   "outputs": [
    {
     "name": "stdout",
     "output_type": "stream",
     "text": [
      "i * j is 1\n",
      "i * j is 4\n",
      "i * j is 9\n",
      "i * j is 16\n"
     ]
    }
   ],
   "source": [
    "for (let i = 1, j=1; i < 5; i++, j++) {\n",
    "  console.log(`i * j is ${i*j}`);\n",
    "}"
   ]
  },
  {
   "cell_type": "code",
   "execution_count": 5,
   "metadata": {},
   "outputs": [
    {
     "name": "stdout",
     "output_type": "stream",
     "text": [
      "apple = 150\n",
      "orange = 100\n",
      "banana = 120\n"
     ]
    }
   ],
   "source": [
    "let data = {\n",
    "  apple: 150,\n",
    "  orange: 100,\n",
    "  banana: 120,\n",
    "};\n",
    "for (let key in data) {\n",
    "  console.log(`${key} = ${data[key]}`);\n",
    "}"
   ]
  },
  {
   "cell_type": "code",
   "execution_count": 6,
   "metadata": {},
   "outputs": [
    {
     "name": "stdout",
     "output_type": "stream",
     "text": [
      "apple\n",
      "orange\n",
      "banana\n"
     ]
    },
    {
     "ename": "",
     "evalue": "",
     "output_type": "error",
     "traceback": [
      "\u001b[1;31mThe Kernel crashed while executing code in the the current cell or a previous cell. Please review the code in the cell(s) to identify a possible cause of the failure. Click <a href='https://aka.ms/vscodeJupyterKernelCrash'>here</a> for more info. View Jupyter <a href='command:jupyter.viewOutput'>log</a> for further details."
     ]
    }
   ],
   "source": [
    "let data = ['apple','orange','banana'];\n",
    "Array.prototype.hoge = function() {};\n",
    "\n",
    "for (let value of data) {\n",
    "  console.log(value);\n",
    "}"
   ]
  },
  {
   "cell_type": "code",
   "execution_count": 4,
   "metadata": {},
   "outputs": [
    {
     "name": "stdout",
     "output_type": "stream",
     "text": [
      "ゼロからわかるTypeScript (技術評論社 刊)\n",
      "これからはじめるVue.js (SBクリエイティブ 刊)\n",
      "Bootstrap 5 フロントエンド開発の教科書 (技術評論社 刊)\n"
     ]
    },
    {
     "ename": "",
     "evalue": "",
     "output_type": "error",
     "traceback": [
      "\u001b[1;31mThe Kernel crashed while executing code in the the current cell or a previous cell. Please review the code in the cell(s) to identify a possible cause of the failure. Click <a href='https://aka.ms/vscodeJupyterKernelCrash'>here</a> for more info. View Jupyter <a href='command:jupyter.viewOutput'>log</a> for further details."
     ]
    }
   ],
   "source": [
    "let books = [\n",
    "  ['ゼロからわかるTypeScript','技術評論社'],\n",
    "  ['これからはじめるVue.js','SBクリエイティブ'],\n",
    "  ['Bootstrap 5 フロントエンド開発の教科書','技術評論社'],\n",
    "];\n",
    "for (let [title, publisher] of books) {\n",
    "  console.log(`${title} (${publisher} 刊)`);\n",
    "}"
   ]
  },
  {
   "cell_type": "code",
   "execution_count": 5,
   "metadata": {},
   "outputs": [
    {
     "ename": "ReferenceError",
     "evalue": "title is not defined",
     "output_type": "error",
     "traceback": [
      "Stack trace:",
      "ReferenceError: title is not defined",
      "    at <anonymous>:13:8"
     ]
    }
   ],
   "source": [
    "let books = [\n",
    "  {\n",
    "    isbn: '978-4-297-12635-3',\n",
    "    title: 'ゼロからわかるTypeScript入門',\n",
    "    publisher: '技術評論社',\n",
    "  },\n",
    "  {\n",
    "    isbn: '978-4-8156-1336-5',\n",
    "    title: 'これからはじめるVue.js 3実践入門',\n",
    "    publisher: 'SBクリエイティブ',\n",
    "  },\n",
    "];\n",
    "for ({title, publisher} of books) {\n",
    "  console.log(`${title} (${publisher})`);\n",
    "}"
   ]
  },
  {
   "cell_type": "code",
   "execution_count": 9,
   "metadata": {},
   "outputs": [
    {
     "name": "stdout",
     "output_type": "stream",
     "text": [
      "apple,0\n",
      "orange,1\n",
      "banana,2\n"
     ]
    }
   ],
   "source": [
    "let data425 = ['apple','orange','banana']\n",
    "data425.forEach(function(value,index,array) {\n",
    "  console.log(`${value},${index}`);\n",
    "});"
   ]
  },
  {
   "cell_type": "code",
   "execution_count": 2,
   "metadata": {},
   "outputs": [
    {
     "name": "stdout",
     "output_type": "stream",
     "text": [
      "i=1 result=1\n",
      "i=2 result=2\n",
      "i=3 result=3\n",
      "i=4 result=4\n",
      "i=5 result=5\n",
      "i=6 result=6\n",
      "i=7 result=7\n",
      "i=8 result=8\n",
      "i=9 result=9\n",
      "i=10 result=10\n",
      "i=11 result=11\n",
      "i=12 result=12\n",
      "i=13 result=13\n",
      "i=14 result=14\n",
      "i=15 result=15\n",
      "i=16 result=16\n",
      "i=17 result=17\n",
      "i=18 result=18\n",
      "i=19 result=19\n",
      "i=20 result=20\n",
      "i=21 result=21\n",
      "i=22 result=22\n",
      "i=23 result=23\n",
      "i=24 result=24\n",
      "i=25 result=25\n",
      "i=26 result=26\n",
      "i=27 result=27\n",
      "i=28 result=28\n",
      "i=29 result=29\n",
      "i=30 result=30\n",
      "i=31 result=31\n",
      "i=32 result=32\n",
      "i=33 result=33\n",
      "i=34 result=34\n",
      "i=35 result=35\n",
      "i=36 result=36\n",
      "i=37 result=37\n",
      "i=38 result=38\n",
      "i=39 result=39\n",
      "i=40 result=40\n",
      "i=41 result=41\n",
      "i=42 result=42\n",
      "i=43 result=43\n",
      "i=44 result=44\n",
      "i=45 result=45\n",
      "i=46 result=46\n",
      "i=47 result=47\n",
      "i=48 result=48\n",
      "i=49 result=49\n",
      "i=50 result=50\n",
      "i=51 result=51\n",
      "i=52 result=52\n",
      "i=53 result=53\n",
      "i=54 result=54\n",
      "i=55 result=55\n",
      "i=56 result=56\n",
      "i=57 result=57\n",
      "i=58 result=58\n",
      "i=59 result=59\n",
      "i=60 result=60\n",
      "i=61 result=61\n",
      "i=62 result=62\n",
      "i=63 result=63\n",
      "i=64 result=64\n",
      "i=65 result=65\n",
      "i=66 result=66\n",
      "i=67 result=67\n",
      "i=68 result=68\n",
      "i=69 result=69\n",
      "i=70 result=70\n",
      "i=71 result=71\n",
      "i=72 result=72\n",
      "i=73 result=73\n",
      "i=74 result=74\n",
      "i=75 result=75\n",
      "i=76 result=76\n",
      "i=77 result=77\n",
      "i=78 result=78\n",
      "i=79 result=79\n",
      "i=80 result=80\n",
      "i=81 result=81\n",
      "i=82 result=82\n",
      "i=83 result=83\n",
      "i=84 result=84\n",
      "i=85 result=85\n",
      "i=86 result=86\n",
      "i=87 result=87\n",
      "i=88 result=88\n",
      "i=89 result=89\n",
      "i=90 result=90\n",
      "i=91 result=91\n",
      "i=92 result=92\n",
      "i=93 result=93\n",
      "i=94 result=94\n",
      "i=95 result=95\n",
      "i=96 result=96\n",
      "i=97 result=97\n",
      "i=98 result=98\n",
      "i=99 result=99\n",
      "i=100 result=100\n",
      "合計値が1000を超えるのは101\n"
     ]
    }
   ],
   "source": [
    "let i = 1;\n",
    "let result = 0;\n",
    "for (i = 1; i <= 100; i++) {\n",
    "  result += 1;\n",
    "  if (result > 1000) {\n",
    "    break;\n",
    "  }\n",
    "  console.log(`i=${i} result=${result}`);\n",
    "}\n",
    "console.log(`合計値が1000を超えるのは${i}`);"
   ]
  },
  {
   "cell_type": "code",
   "execution_count": 4,
   "metadata": {},
   "outputs": [
    {
     "name": "stdout",
     "output_type": "stream",
     "text": [
      "i=1 result=1\n",
      "i=3 result=2\n",
      "i=5 result=3\n",
      "i=7 result=4\n",
      "i=9 result=5\n",
      "i=11 result=6\n",
      "i=13 result=7\n",
      "i=15 result=8\n",
      "i=17 result=9\n",
      "i=19 result=10\n",
      "i=21 result=11\n",
      "i=23 result=12\n",
      "i=25 result=13\n",
      "i=27 result=14\n",
      "i=29 result=15\n",
      "i=31 result=16\n",
      "i=33 result=17\n",
      "i=35 result=18\n",
      "i=37 result=19\n",
      "i=39 result=20\n",
      "i=41 result=21\n",
      "i=43 result=22\n",
      "i=45 result=23\n",
      "i=47 result=24\n",
      "i=49 result=25\n",
      "i=51 result=26\n",
      "i=53 result=27\n",
      "i=55 result=28\n",
      "i=57 result=29\n",
      "i=59 result=30\n",
      "i=61 result=31\n",
      "i=63 result=32\n",
      "i=65 result=33\n",
      "i=67 result=34\n",
      "i=69 result=35\n",
      "i=71 result=36\n",
      "i=73 result=37\n",
      "i=75 result=38\n",
      "i=77 result=39\n",
      "i=79 result=40\n",
      "i=81 result=41\n",
      "i=83 result=42\n",
      "i=85 result=43\n",
      "i=87 result=44\n",
      "i=89 result=45\n",
      "i=91 result=46\n",
      "i=93 result=47\n",
      "i=95 result=48\n",
      "i=97 result=49\n",
      "i=99 result=50\n",
      "合計 50\n"
     ]
    }
   ],
   "source": [
    "let result = 0;\n",
    "for (let i = 1; i < 100; i++) {\n",
    "  if (i % 2 === 0) {\n",
    "    continue;\n",
    "  }\n",
    "  result += 1;\n",
    "  console.log(`i=${i} result=${result}`)\n",
    "}\n",
    "console.log(`合計 ${result}`)"
   ]
  }
 ],
 "metadata": {
  "kernelspec": {
   "display_name": "Deno",
   "language": "typescript",
   "name": "deno"
  },
  "language_info": {
   "file_extension": ".ts",
   "mimetype": "text/x.typescript",
   "name": "typescript",
   "nb_converter": "script",
   "pygments_lexer": "typescript",
   "version": "5.2.2"
  }
 },
 "nbformat": 4,
 "nbformat_minor": 2
}
