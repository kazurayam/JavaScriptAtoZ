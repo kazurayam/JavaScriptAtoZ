{
 "cells": [
  {
   "cell_type": "markdown",
   "metadata": {},
   "source": [
    "# Path to Regexp\n",
    "\n",
    "See https://github.com/pillarjs/path-to-regexp"
   ]
  },
  {
   "cell_type": "code",
   "execution_count": 2,
   "metadata": {},
   "outputs": [],
   "source": [
    "import { pathToRegexp, match, parse, compile } from \"https://deno.land/x/path_to_regexp@v6.2.1/index.ts\";"
   ]
  },
  {
   "cell_type": "code",
   "execution_count": 4,
   "metadata": {},
   "outputs": [
    {
     "name": "stdout",
     "output_type": "stream",
     "text": [
      "regexp = /^\\/foo(?:\\/([^\\/#\\?]+?))[\\/#\\?]?$/i\n",
      "[\n",
      "  {\n",
      "    name: \"bar\",\n",
      "    prefix: \"/\",\n",
      "    suffix: \"\",\n",
      "    pattern: \"[^\\\\/#\\\\?]+?\",\n",
      "    modifier: \"\"\n",
      "  }\n",
      "]\n"
     ]
    }
   ],
   "source": [
    "const keys = [];\n",
    "const regexp = pathToRegexp(\"/foo/:bar\", keys);\n",
    "// regexp = /^\\/foo(?:\\/([^\\/#\\?]+?))[\\/#\\?]?$/i\n",
    "// keys = [{ name: 'bar', prefix: '/', suffix: '', pattern: '[^\\\\/#\\\\?]+?', modifier: '' }]\n",
    "console.log(`regexp = ${regexp}`);\n",
    "console.log(keys);\n"
   ]
  },
  {
   "cell_type": "markdown",
   "metadata": {},
   "source": [
    "## Named parameters"
   ]
  },
  {
   "cell_type": "code",
   "execution_count": 5,
   "metadata": {},
   "outputs": [
    {
     "name": "stdout",
     "output_type": "stream",
     "text": [
      "/^(?:\\/([^\\/#\\?]+?))(?:\\/([^\\/#\\?]+?))[\\/#\\?]?$/i\n",
      "[\n",
      "  \"/test/route\",\n",
      "  \"test\",\n",
      "  \"route\",\n",
      "  index: 0,\n",
      "  input: \"/test/route\",\n",
      "  groups: undefined\n",
      "]\n"
     ]
    }
   ],
   "source": [
    "const regexp = pathToRegexp(\"/:foo/:bar\");\n",
    "// keys = [{ name: 'foo', prefix: '/', ... }, { name: 'bar', prefix: '/', ... }]\n",
    "console.log(regexp);\n",
    "\n",
    "let result = regexp.exec(\"/test/route\");\n",
    "//=> [ '/test/route', 'test', 'route', index: 0, input: '/test/route', groups: undefined ]\n",
    "console.log(result);"
   ]
  },
  {
   "cell_type": "code",
   "execution_count": 6,
   "metadata": {},
   "outputs": [
    {
     "name": "stdout",
     "output_type": "stream",
     "text": [
      "[\n",
      "  \"/icon-123.png\",\n",
      "  \"123\",\n",
      "  index: 0,\n",
      "  input: \"/icon-123.png\",\n",
      "  groups: undefined\n",
      "]\n",
      "null\n"
     ]
    }
   ],
   "source": [
    "const regexpNumbers = pathToRegexp(\"/icon-:foo(\\\\d+).png\");\n",
    "// keys = [{ name: 'foo', ... }]\n",
    "\n",
    "console.log(regexpNumbers.exec(\"/icon-123.png\"));\n",
    "//=> ['/icon-123.png', '123']\n",
    "\n",
    "console.log(regexpNumbers.exec(\"/icon-abc.png\"));\n",
    "//=> null\n"
   ]
  },
  {
   "cell_type": "code",
   "execution_count": 7,
   "metadata": {},
   "outputs": [
    {
     "name": "stdout",
     "output_type": "stream",
     "text": [
      "[ \"/u\", \"u\", index: 0, input: \"/u\", groups: undefined ]\n",
      "null\n"
     ]
    }
   ],
   "source": [
    "const regexpWord = pathToRegexp(\"/(user|u)\");\n",
    "// keys = [{ name: 0, ... }]\n",
    "\n",
    "console.log(regexpWord.exec(\"/u\"));\n",
    "//=> ['/u', 'u']\n",
    "\n",
    "console.log(regexpWord.exec(\"/users\"));\n",
    "//=> null"
   ]
  },
  {
   "cell_type": "markdown",
   "metadata": {},
   "source": [
    "### Custom Prefix and Suffix"
   ]
  },
  {
   "cell_type": "code",
   "execution_count": 8,
   "metadata": {},
   "outputs": [
    {
     "name": "stdout",
     "output_type": "stream",
     "text": [
      "[\n",
      "  \"/test\",\n",
      "  \"test\",\n",
      "  undefined,\n",
      "  undefined,\n",
      "  index: 0,\n",
      "  input: \"/test\",\n",
      "  groups: undefined\n",
      "]\n",
      "[\n",
      "  \"/test-test\",\n",
      "  \"test\",\n",
      "  \"test\",\n",
      "  undefined,\n",
      "  index: 0,\n",
      "  input: \"/test-test\",\n",
      "  groups: undefined\n",
      "]\n"
     ]
    }
   ],
   "source": [
    "const regexp = pathToRegexp(\"/:attr1?{-:attr2}?{-:attr3}?\");\n",
    "\n",
    "console.log(regexp.exec(\"/test\"));\n",
    "// => ['/test', 'test', undefined, undefined]\n",
    "\n",
    "console.log(regexp.exec(\"/test-test\"));\n",
    "// => ['/test', 'test', 'test', undefined]"
   ]
  },
  {
   "cell_type": "markdown",
   "metadata": {},
   "source": [
    "### Unnamed Parameters"
   ]
  },
  {
   "cell_type": "code",
   "execution_count": 9,
   "metadata": {},
   "outputs": [
    {
     "name": "stdout",
     "output_type": "stream",
     "text": [
      "[\n",
      "  \"/test/route\",\n",
      "  \"test\",\n",
      "  \"route\",\n",
      "  index: 0,\n",
      "  input: \"/test/route\",\n",
      "  groups: undefined\n",
      "]\n"
     ]
    }
   ],
   "source": [
    "const regexp = pathToRegexp(\"/:foo/(.*)\");\n",
    "// keys = [{ name: 'foo', ... }, { name: 0, ... }]\n",
    "\n",
    "console.log(regexp.exec(\"/test/route\"));\n",
    "//=> [ '/test/route', 'test', 'route', index: 0, input: '/test/route', groups: undefined ]"
   ]
  },
  {
   "cell_type": "markdown",
   "metadata": {},
   "source": [
    "### Modifiers"
   ]
  },
  {
   "cell_type": "markdown",
   "metadata": {},
   "source": [
    "#### ? - Optional"
   ]
  },
  {
   "cell_type": "code",
   "execution_count": 10,
   "metadata": {},
   "outputs": [
    {
     "data": {
      "text/plain": [
       "[\n",
       "  \u001b[32m\"/test/route\"\u001b[39m,\n",
       "  \u001b[32m\"test\"\u001b[39m,\n",
       "  \u001b[32m\"route\"\u001b[39m,\n",
       "  index: \u001b[33m0\u001b[39m,\n",
       "  input: \u001b[32m\"/test/route\"\u001b[39m,\n",
       "  groups: \u001b[90mundefined\u001b[39m\n",
       "]"
      ]
     },
     "execution_count": 10,
     "metadata": {},
     "output_type": "execute_result"
    }
   ],
   "source": [
    "const regexp = pathToRegexp(\"/:foo/:bar?\");\n",
    "// keys = [{ name: 'foo', ... }, { name: 'bar', prefix: '/', modifier: '?' }]\n",
    "\n",
    "regexp.exec(\"/test\");\n",
    "//=> [ '/test', 'test', undefined, index: 0, input: '/test', groups: undefined ]\n",
    "\n",
    "regexp.exec(\"/test/route\");\n",
    "//=> [ '/test/route', 'test', 'route', index: 0, input: '/test/route', groups: undefined ]"
   ]
  },
  {
   "cell_type": "code",
   "execution_count": 11,
   "metadata": {},
   "outputs": [
    {
     "data": {
      "text/plain": [
       "\u001b[1mnull\u001b[22m"
      ]
     },
     "execution_count": 11,
     "metadata": {},
     "output_type": "execute_result"
    }
   ],
   "source": [
    "const regexp = pathToRegexp(\"/search/:tableName\\\\?useIndex=true&term=amazing\");\n",
    "\n",
    "regexp.exec(\"/search/people?useIndex=true&term=amazing\");\n",
    "//=> [ '/search/people?useIndex=true&term=amazing', 'people', index: 0, input: '/search/people?useIndex=true&term=amazing', groups: undefined ]\n",
    "\n",
    "// This library does not handle query strings in different orders\n",
    "regexp.exec(\"/search/people?term=amazing&useIndex=true\");\n",
    "//=> null"
   ]
  },
  {
   "cell_type": "markdown",
   "metadata": {},
   "source": [
    "#### Zero or more"
   ]
  },
  {
   "cell_type": "code",
   "execution_count": 12,
   "metadata": {},
   "outputs": [
    {
     "data": {
      "text/plain": [
       "[\n",
       "  \u001b[32m\"/bar/baz\"\u001b[39m,\n",
       "  \u001b[32m\"bar/baz\"\u001b[39m,\n",
       "  index: \u001b[33m0\u001b[39m,\n",
       "  input: \u001b[32m\"/bar/baz\"\u001b[39m,\n",
       "  groups: \u001b[90mundefined\u001b[39m\n",
       "]"
      ]
     },
     "execution_count": 12,
     "metadata": {},
     "output_type": "execute_result"
    }
   ],
   "source": [
    "const regexp = pathToRegexp(\"/:foo*\");\n",
    "// keys = [{ name: 'foo', prefix: '/', modifier: '*' }]\n",
    "\n",
    "regexp.exec(\"/\");\n",
    "//=> [ '/', undefined, index: 0, input: '/', groups: undefined ]\n",
    "\n",
    "regexp.exec(\"/bar/baz\");\n",
    "//=> [ '/bar/baz', 'bar/baz', index: 0, input: '/bar/baz', groups: undefined ]"
   ]
  },
  {
   "cell_type": "code",
   "execution_count": 13,
   "metadata": {},
   "outputs": [
    {
     "name": "stdout",
     "output_type": "stream",
     "text": [
      "[\n",
      "  \"e\",\n",
      "  index: 2,\n",
      "  input: \"The best things in life are free\",\n",
      "  groups: undefined\n",
      "]\n"
     ]
    }
   ],
   "source": [
    "let text = \"The best things in life are free\";\n",
    "let result = /e/.exec(text);\n",
    "console.log(result);"
   ]
  },
  {
   "cell_type": "code",
   "execution_count": 14,
   "metadata": {},
   "outputs": [
    {
     "name": "stdout",
     "output_type": "stream",
     "text": [
      "[\n",
      "  \"Quick Brown Fox Jumps\",\n",
      "  \"Brown\",\n",
      "  \"Jumps\",\n",
      "  index: 4,\n",
      "  input: \"The Quick Brown Fox Jumps Over The Lazy Dog\",\n",
      "  groups: [Object: null prototype] { color: \"Brown\" },\n",
      "  indices: [\n",
      "    [ 4, 25 ],\n",
      "    [ 10, 15 ],\n",
      "    [ 20, 25 ],\n",
      "    groups: [Object: null prototype] { color: [ 10, 15 ] }\n",
      "  ]\n",
      "]\n"
     ]
    }
   ],
   "source": [
    "let re = /quick\\s(?<color>brown).+?(jumps)/dgi;\n",
    "let result = re.exec(\"The Quick Brown Fox Jumps Over The Lazy Dog\");\n",
    "console.log(result);"
   ]
  },
  {
   "cell_type": "code",
   "execution_count": 15,
   "metadata": {},
   "outputs": [
    {
     "name": "stdout",
     "output_type": "stream",
     "text": [
      "[\n",
      "  \"Quick Brown Fox Jumps\",\n",
      "  \"Brown\",\n",
      "  \"Jumps\",\n",
      "  index: 4,\n",
      "  input: \"The Quick Brown Fox Jumps Over The Lazy Dog\",\n",
      "  groups: [Object: null prototype] { color: \"Brown\" },\n",
      "  indices: [\n",
      "    [ 4, 25 ],\n",
      "    [ 10, 15 ],\n",
      "    [ 20, 25 ],\n",
      "    groups: [Object: null prototype] { color: [ 10, 15 ] }\n",
      "  ]\n",
      "]\n"
     ]
    }
   ],
   "source": [
    "let re = /quick\\s(?<color>brown).+?(jumps)/dgi;\n",
    "let results = (\"The Quick Brown Fox Jumps Over The Lazy Dog\").matchAll(re);\n",
    "for (let result of results) {\n",
    "    console.log(result);\n",
    "}"
   ]
  },
  {
   "cell_type": "code",
   "execution_count": 18,
   "metadata": {},
   "outputs": [
    {
     "name": "stdout",
     "output_type": "stream",
     "text": [
      "[\n",
      "  \"http://www.example.com/\",\n",
      "  undefined,\n",
      "  \"example.\",\n",
      "  \"/\",\n",
      "  index: 8,\n",
      "  input: \"サポートサイトはhttp://www.example.com/です。\\n\" +\n",
      "    \"　　　　　　サンプル紹介サイトHTTPs://www.web-deli.com/もよろしく!\",\n",
      "  groups: undefined\n",
      "]\n",
      "[\n",
      "  \"HTTPs://www.web-deli.com/\",\n",
      "  \"s\",\n",
      "  \"web-deli.\",\n",
      "  \"/\",\n",
      "  index: 50,\n",
      "  input: \"サポートサイトはhttp://www.example.com/です。\\n\" +\n",
      "    \"　　　　　　サンプル紹介サイトHTTPs://www.web-deli.com/もよろしく!\",\n",
      "  groups: undefined\n",
      "]\n"
     ]
    },
    {
     "ename": "",
     "evalue": "",
     "output_type": "error",
     "traceback": [
      "\u001b[1;31mThe Kernel crashed while executing code in the the current cell or a previous cell. Please review the code in the cell(s) to identify a possible cause of the failure. Click <a href='https://aka.ms/vscodeJupyterKernelCrash'>here</a> for more info. View Jupyter <a href='command:jupyter.viewOutput'>log</a> for further details."
     ]
    }
   ],
   "source": [
    "let re = /http(s)?:\\/\\/([\\w-]+\\.)+[\\w-]+(\\/[\\w- .\\/?%&=]*)?/gi;\n",
    "let str = `サポートサイトはhttp://www.example.com/です。\n",
    "　　　　　　サンプル紹介サイトHTTPs://www.web-deli.com/もよろしく!`;\n",
    "\n",
    "let results = str.matchAll(re);\n",
    "for (let result of results) {\n",
    "    console.log(result);\n",
    "}"
   ]
  },
  {
   "cell_type": "code",
   "execution_count": 2,
   "metadata": {},
   "outputs": [
    {
     "ename": "ReferenceError",
     "evalue": "match is not defined",
     "output_type": "error",
     "traceback": [
      "Stack trace:",
      "ReferenceError: match is not defined",
      "    at <anonymous>:2:12"
     ]
    }
   ],
   "source": [
    "// Make sure you consistently `decode` segments.\n",
    "const fn = match(\"/user/:id\", { decode: decodeURIComponent });\n",
    "\n",
    "console.log(fn(\"/user/123\")); //=> { path: '/user/123', index: 0, params: { id: '123' } }\n",
    "//console.log(fn(\"/invalid\")); //=> false\n",
    "//console.log(fn(\"/user/caf%C3%A9\")); //=> { path: '/user/caf%C3%A9', index: 0, params: { id: 'café' } }"
   ]
  },
  {
   "cell_type": "code",
   "execution_count": 6,
   "metadata": {},
   "outputs": [
    {
     "name": "stdout",
     "output_type": "stream",
     "text": [
      "{\n",
      "  path: \"/users/1234/photos\",\n",
      "  index: 0,\n",
      "  params: [Object: null prototype] { id: \"1234\", tab: \"photos\" }\n",
      "}\n",
      "{\n",
      "  path: \"/users/1234/bio\",\n",
      "  index: 0,\n",
      "  params: [Object: null prototype] { id: \"1234\", tab: \"bio\" }\n",
      "}\n",
      "false\n"
     ]
    }
   ],
   "source": [
    "const urlMatch = match(\"/users/:id/:tab(home|photos|bio)\", {\n",
    "    decode: decodeURIComponent,\n",
    "  });\n",
    "  \n",
    "  console.log(urlMatch(\"/users/1234/photos\"));\n",
    "  //=> { path: '/users/1234/photos', index: 0, params: { id: '1234', tab: 'photos' } }\n",
    "  \n",
    "  console.log(urlMatch(\"/users/1234/bio\"));\n",
    "  //=> { path: '/users/1234/bio', index: 0, params: { id: '1234', tab: 'bio' } }\n",
    "  \n",
    "  console.log(urlMatch(\"/users/1234/otherstuff\"));\n",
    "  //=> false"
   ]
  },
  {
   "cell_type": "code",
   "execution_count": 7,
   "metadata": {},
   "outputs": [
    {
     "data": {
      "text/plain": [
       "{ path: \u001b[32m\"/caf%C3%A9\"\u001b[39m, index: \u001b[33m0\u001b[39m, params: [Object: null prototype] {} }"
      ]
     },
     "execution_count": 7,
     "metadata": {},
     "output_type": "execute_result"
    }
   ],
   "source": [
    "const fn = match(\"/café\", { encode: encodeURI });\n",
    "\n",
    "fn(\"/caf%C3%A9\"); //=> { path: '/caf%C3%A9', index: 0, params: {} }"
   ]
  },
  {
   "cell_type": "code",
   "execution_count": 8,
   "metadata": {},
   "outputs": [
    {
     "name": "stdout",
     "output_type": "stream",
     "text": [
      "https://mozilla.org/?x=%D1%88%D0%B5%D0%BB%D0%BB%D1%8B\n",
      "https://mozilla.org/?x=шеллы\n"
     ]
    }
   ],
   "source": [
    "const uri = 'https://mozilla.org/?x=шеллы';\n",
    "const encoded = encodeURI(uri);\n",
    "console.log(encoded);\n",
    "// Expected output: \"https://mozilla.org/?x=%D1%88%D0%B5%D0%BB%D0%BB%D1%8B\"\n",
    "\n",
    "try {\n",
    "  console.log(decodeURI(encoded));\n",
    "  // Expected output: \"https://mozilla.org/?x=шеллы\"\n",
    "} catch (e) {\n",
    "  // Catches a malformed URI\n",
    "  console.error(e);\n",
    "}\n"
   ]
  },
  {
   "cell_type": "code",
   "execution_count": 8,
   "metadata": {},
   "outputs": [
    {
     "name": "stdout",
     "output_type": "stream",
     "text": [
      "/^\\/hello(?:\\/([^\\/#\\?]+?))[\\/#\\?]?$/i\n",
      "/hello/dekopin\n",
      "dekopin\n"
     ]
    }
   ],
   "source": [
    "import { pathToRegexp } from \"https://deno.land/x/path_to_regexp@v6.2.1/index.ts\";\n",
    "\n",
    "const re = pathToRegexp('/hello/:name');\n",
    "console.log(re)\n",
    "const results = '/hello/dekopin'.match(re);\n",
    "for (let item of results) {\n",
    "    console.log(item);\n",
    "}"
   ]
  }
 ],
 "metadata": {
  "kernelspec": {
   "display_name": "Deno",
   "language": "typescript",
   "name": "deno"
  },
  "language_info": {
   "file_extension": ".ts",
   "mimetype": "text/x.typescript",
   "name": "typescript",
   "nb_converter": "script",
   "pygments_lexer": "typescript",
   "version": "5.3.3"
  }
 },
 "nbformat": 4,
 "nbformat_minor": 2
}
