{
 "cells": [
  {
   "cell_type": "markdown",
   "metadata": {},
   "source": [
    "# A beginners guide to HTTP server in Deno\n",
    "\n",
    "source: https://medium.com/deno-the-complete-reference/a-beginners-guide-to-http-server-in-deno-7b42bfcbbd0\n"
   ]
  },
  {
   "cell_type": "markdown",
   "metadata": {},
   "source": []
  },
  {
   "cell_type": "markdown",
   "metadata": {},
   "source": [
    "In the Terminal, run the following command to run the server:\n",
    "\n",
    "```\n",
    "$ export AUTH_TOKEN=D@NO\n",
    "$ deno run --allow-net --allow-read --allow-env app.ts\n",
    "```"
   ]
  },
  {
   "cell_type": "markdown",
   "metadata": {},
   "source": [
    "While the app server is running, in another Terminal windown, run the http client\n",
    "\n",
    "```\n",
    "curl -v http://localhost:5001/users/search?userId=1234 -X POST\n",
    "```\n",
    "\n",
    "or\n",
    "\n",
    "```\n",
    "curl -v http://localhost:5001/users/search -H 'Authorization: Bearer D@NO' -X POST -H 'content-type: application/json' -d '{\"userId\": \"1234\"}'\n",
    "```"
   ]
  }
 ],
 "metadata": {
  "kernelspec": {
   "display_name": "Deno",
   "language": "typescript",
   "name": "deno"
  },
  "language_info": {
   "file_extension": ".ts",
   "mimetype": "text/x.typescript",
   "name": "typescript",
   "nb_converter": "script",
   "pygments_lexer": "typescript",
   "version": "5.3.3"
  }
 },
 "nbformat": 4,
 "nbformat_minor": 2
}
