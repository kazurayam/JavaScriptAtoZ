{
 "cells": [
  {
   "cell_type": "code",
   "execution_count": 10,
   "metadata": {},
   "outputs": [
    {
     "name": "stdout",
     "output_type": "stream",
     "text": [
      "Hello from / handler\n",
      "\n"
     ]
    }
   ],
   "source": [
    "const response = await fetch(\"http://localhost:3000/\");\n",
    "const text = await response.text();\n",
    "console.log(text);"
   ]
  },
  {
   "cell_type": "code",
   "execution_count": 12,
   "metadata": {},
   "outputs": [
    {
     "name": "stdout",
     "output_type": "stream",
     "text": [
      "Hello from /users/:userId handler, params=userId,1234\n",
      "\n"
     ]
    }
   ],
   "source": [
    "const response = await fetch(\"http://localhost:3000/users/1234\");\n",
    "const text = await response.text();\n",
    "console.log(text);"
   ]
  },
  {
   "cell_type": "code",
   "execution_count": 14,
   "metadata": {},
   "outputs": [
    {
     "name": "stdout",
     "output_type": "stream",
     "text": [
      "Hello from PUT /users handler\n",
      "\n"
     ]
    }
   ],
   "source": [
    "const response = await fetch(\"http://localhost:3000/users\", { method: 'PUT' });\n",
    "const text = await response.text();\n",
    "console.log(text);"
   ]
  },
  {
   "cell_type": "code",
   "execution_count": 15,
   "metadata": {},
   "outputs": [
    {
     "name": "stdout",
     "output_type": "stream",
     "text": [
      "Hello from PUT /users/:userId/attachments handler, params=userId,1234\n",
      "\n"
     ]
    }
   ],
   "source": [
    "const response = await fetch(\"http://localhost:3000/users/1234/attachments\", { method: 'PUT' });\n",
    "const text = await response.text();\n",
    "console.log(text);"
   ]
  },
  {
   "cell_type": "code",
   "execution_count": 17,
   "metadata": {},
   "outputs": [
    {
     "name": "stdout",
     "output_type": "stream",
     "text": [
      "Hello from /users/:userId handler, params=userId,1234; attachmentId,5678\n",
      "\n"
     ]
    }
   ],
   "source": [
    "const response = await fetch(\"http://localhost:3000/users/1234/attachments/5678\", { method: 'GET' });\n",
    "const text = await response.text();\n",
    "console.log(text);"
   ]
  },
  {
   "cell_type": "code",
   "execution_count": 19,
   "metadata": {},
   "outputs": [
    {
     "name": "stdout",
     "output_type": "stream",
     "text": [
      "Hello from POST /users handler\n",
      "\n"
     ]
    }
   ],
   "source": [
    "const response = await fetch(\"http://localhost:3000/users\", { method: 'POST' });\n",
    "const text = await response.text();\n",
    "console.log(text);"
   ]
  },
  {
   "cell_type": "code",
   "execution_count": 21,
   "metadata": {},
   "outputs": [
    {
     "name": "stdout",
     "output_type": "stream",
     "text": [
      "Hello from PATCH /users handler\n",
      "\n"
     ]
    }
   ],
   "source": [
    "const response = await fetch(\"http://localhost:3000/users/1234\", { method: 'PATCH' });\n",
    "const text = await response.text();\n",
    "console.log(text);"
   ]
  }
 ],
 "metadata": {
  "kernelspec": {
   "display_name": "Deno",
   "language": "typescript",
   "name": "deno"
  },
  "language_info": {
   "file_extension": ".ts",
   "mimetype": "text/x.typescript",
   "name": "typescript",
   "nb_converter": "script",
   "pygments_lexer": "typescript",
   "version": "5.3.3"
  }
 },
 "nbformat": 4,
 "nbformat_minor": 2
}
