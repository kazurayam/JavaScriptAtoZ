{
 "cells": [
  {
   "cell_type": "markdown",
   "metadata": {},
   "source": [
    "Reading a web article: \n",
    "\n",
    "- [A comprehensive guide to making HTTP rquests in Deno](https://medium.com/deno-the-complete-reference/a-comprehensive-guide-to-http-clients-in-deno-ab5589896f2c)"
   ]
  },
  {
   "cell_type": "markdown",
   "metadata": {},
   "source": [
    "## Basics"
   ]
  },
  {
   "cell_type": "markdown",
   "metadata": {},
   "source": [
    "### GET"
   ]
  },
  {
   "cell_type": "code",
   "execution_count": 10,
   "metadata": {},
   "outputs": [
    {
     "name": "stdout",
     "output_type": "stream",
     "text": [
      "Hello, world!\n"
     ]
    }
   ],
   "source": [
    "const resp = await fetch(\"http://localhost:8080/\");\n",
    "const respData = await resp.text();\n",
    "console.log(respData);"
   ]
  },
  {
   "cell_type": "markdown",
   "metadata": {},
   "source": [
    "### POST"
   ]
  },
  {
   "cell_type": "code",
   "execution_count": 24,
   "metadata": {},
   "outputs": [
    {
     "name": "stdout",
     "output_type": "stream",
     "text": [
      "Hello, dekopin\n"
     ]
    }
   ],
   "source": [
    "const formData = new FormData();\n",
    "formData.set(\"name\", \"dekopin\");\n",
    "const resp = await fetch(\"http://localhost:8080/\", {\n",
    "    method: \"POST\",\n",
    "    body: formData,\n",
    "});\n",
    "const respData = await resp.text();\n",
    "console.log(respData);"
   ]
  },
  {
   "cell_type": "code",
   "execution_count": 25,
   "metadata": {},
   "outputs": [
    {
     "name": "stdout",
     "output_type": "stream",
     "text": [
      "Hello, dekopin\n"
     ]
    }
   ],
   "source": [
    "const formData = new FormData();\n",
    "formData.set(\"name\", \"dekopin\");\n",
    "const req = new Request(\"http://localhost:8080/\", {\n",
    "    method: \"POST\",\n",
    "    body: formData,\n",
    "});\n",
    "const resp = await fetch(req);\n",
    "const respData = await resp.text();\n",
    "console.log(respData);"
   ]
  },
  {
   "cell_type": "markdown",
   "metadata": {},
   "source": [
    "## Fetching local files"
   ]
  },
  {
   "cell_type": "markdown",
   "metadata": {},
   "source": [
    "### how to get current working directory"
   ]
  },
  {
   "cell_type": "code",
   "execution_count": 26,
   "metadata": {},
   "outputs": [
    {
     "name": "stdout",
     "output_type": "stream",
     "text": [
      "/Users/kazuakiurayama/github/JavaScriptAtoZ/src/chapX/deno-making-http-request\n"
     ]
    }
   ],
   "source": [
    "console.log(Deno.cwd());"
   ]
  },
  {
   "cell_type": "code",
   "execution_count": 25,
   "metadata": {},
   "outputs": [
    {
     "name": "stdout",
     "output_type": "stream",
     "text": [
      "Le bonheaur est souvent la seule chose qu'on puisse donner sans l'avoir et c'est en le donnant qu'on l'acquiert. (Voltaire)\n",
      "\n"
     ]
    }
   ],
   "source": [
    "const url = `file://${Deno.cwd()}/sample.txt`;\n",
    "const resp = await fetch(url);\n",
    "const respData = await resp.text();\n",
    "console.log(respData);"
   ]
  },
  {
   "cell_type": "markdown",
   "metadata": {},
   "source": [
    "## Advanced options"
   ]
  },
  {
   "cell_type": "markdown",
   "metadata": {},
   "source": [
    "### Timeouts"
   ]
  },
  {
   "cell_type": "code",
   "execution_count": 29,
   "metadata": {},
   "outputs": [],
   "source": [
    "const ac = new AbortController();\n",
    "const id = setTimeout(() => ac.abort(), 1000);\n",
    "const resp = await fetch(\"http://localhost:8080\", \n",
    "    { signal: ac.signal});\n",
    "clearTimeout(id);\n"
   ]
  },
  {
   "cell_type": "code",
   "execution_count": 40,
   "metadata": {},
   "outputs": [
    {
     "name": "stdout",
     "output_type": "stream",
     "text": [
      "503\n"
     ]
    }
   ],
   "source": [
    "const resp = await doFetch(\"http://localhost:8080/\", 5000);\n",
    "console.log(resp.status);\n",
    "\n",
    "export async function doFetch({\n",
    "    url: string,\n",
    "    timeout: number = 10000,\n",
    "}): Promise<Response> {\n",
    "    let res: Response;\n",
    "    try {\n",
    "        const c = new AbortController();\n",
    "        const id = setTimeout(() => c.abort(), timeout);\n",
    "        res = await fetch(url, { signal: c.signal });\n",
    "        clearTimeout(id);\n",
    "        return res;\n",
    "    } catch (err) {\n",
    "        if (err instanceof DOMException && err.name === 'AbortError') {\n",
    "            res = new Response(null, { status: 408 });\n",
    "        } else {\n",
    "            res = new Response(null, { status: 503 });\n",
    "        }\n",
    "    }\n",
    "    return res;\n",
    "}"
   ]
  },
  {
   "cell_type": "markdown",
   "metadata": {},
   "source": [
    "### Proxying"
   ]
  },
  {
   "cell_type": "code",
   "execution_count": null,
   "metadata": {},
   "outputs": [],
   "source": []
  },
  {
   "cell_type": "markdown",
   "metadata": {},
   "source": []
  },
  {
   "cell_type": "markdown",
   "metadata": {},
   "source": [
    "### Custom certificates"
   ]
  },
  {
   "cell_type": "markdown",
   "metadata": {},
   "source": [
    "## Query params & request headers"
   ]
  },
  {
   "cell_type": "markdown",
   "metadata": {},
   "source": [
    "### Query params"
   ]
  },
  {
   "cell_type": "code",
   "execution_count": 41,
   "metadata": {},
   "outputs": [
    {
     "name": "stdout",
     "output_type": "stream",
     "text": [
      "Response {\n",
      "  body: ReadableStream { locked: false },\n",
      "  bodyUsed: false,\n",
      "  headers: Headers {\n",
      "    \"content-length\": \"13\",\n",
      "    \"content-type\": \"text/plain; charset=utf-8\",\n",
      "    date: \"Thu, 28 Dec 2023 02:13:59 GMT\",\n",
      "    vary: \"Accept-Encoding\"\n",
      "  },\n",
      "  ok: true,\n",
      "  redirected: false,\n",
      "  status: 200,\n",
      "  statusText: \"OK\",\n",
      "  url: \"http://localhost:8080/?someText=some+param+with+spaces&someNumber=100&someCurrency=%241000\"\n",
      "}\n"
     ]
    }
   ],
   "source": [
    "const q = new URLSearchParams({\n",
    "    someText: \"some param with spaces\",\n",
    "    someNumber: \"100\",\n",
    "});\n",
    "q.set(\"someCurrency\", \"$1000\");\n",
    "const res = await fetch(\"http://localhost:8080/?\" + q);\n",
    "console.log(res);"
   ]
  },
  {
   "cell_type": "markdown",
   "metadata": {},
   "source": [
    "### Request headers"
   ]
  },
  {
   "cell_type": "code",
   "execution_count": 43,
   "metadata": {},
   "outputs": [
    {
     "name": "stdout",
     "output_type": "stream",
     "text": [
      "Response {\n",
      "  body: ReadableStream { locked: false },\n",
      "  bodyUsed: false,\n",
      "  headers: Headers {\n",
      "    \"content-length\": \"13\",\n",
      "    \"content-type\": \"text/plain; charset=utf-8\",\n",
      "    date: \"Thu, 28 Dec 2023 05:24:03 GMT\",\n",
      "    vary: \"Accept-Encoding\"\n",
      "  },\n",
      "  ok: true,\n",
      "  redirected: false,\n",
      "  status: 200,\n",
      "  statusText: \"OK\",\n",
      "  url: \"http://localhost:8080/\"\n",
      "}\n"
     ]
    }
   ],
   "source": [
    "const res = await fetch(\"http://localhost:8080/\", {\n",
    "    headers: {\n",
    "        someHeader: \"someValue1\",\n",
    "        \"some-custom-header\": \"some-custome-value\",\n",
    "    }\n",
    "});\n",
    "console.log(res);"
   ]
  }
 ],
 "metadata": {
  "kernelspec": {
   "display_name": "Deno",
   "language": "typescript",
   "name": "deno"
  },
  "language_info": {
   "file_extension": ".ts",
   "mimetype": "text/x.typescript",
   "name": "typescript",
   "nb_converter": "script",
   "pygments_lexer": "typescript",
   "version": "5.3.3"
  }
 },
 "nbformat": 4,
 "nbformat_minor": 2
}
