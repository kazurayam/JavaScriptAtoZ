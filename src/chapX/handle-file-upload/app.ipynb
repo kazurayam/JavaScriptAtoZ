{
 "cells": [
  {
   "cell_type": "markdown",
   "metadata": {},
   "source": [
    "# Deno the complete reference\n",
    "## Handle File Updloads in Deno\n",
    "\n",
    "https://medium.com/deno-the-complete-reference/handle-file-uploads-in-deno-ee14bd2b16d9"
   ]
  },
  {
   "cell_type": "code",
   "execution_count": 35,
   "metadata": {},
   "outputs": [
    {
     "name": "stdout",
     "output_type": "stream",
     "text": [
      "saved 87434bef-2f11-4eb0-96cb-2f95f14d3507\n"
     ]
    }
   ],
   "source": [
    "// Equivalent to `curl --request POST --data-binary \"Hello\" http://localhost:8000`\n",
    "await fetch('http://localhost:8000', {\n",
    "    method: 'POST',\n",
    "    body: 'hello',\n",
    "    })\n",
    "    .then(res => res.text())\n",
    "    .then(text => console.log(text));"
   ]
  },
  {
   "cell_type": "code",
   "execution_count": 36,
   "metadata": {},
   "outputs": [
    {
     "name": "stdout",
     "output_type": "stream",
     "text": [
      "saved hello.txt\n"
     ]
    }
   ],
   "source": [
    "// Equivalent to `curl --request POST --data-binary \"Hello\" http://localhost:8000?filename=hello.txt`\n",
    "await fetch('http://localhost:8000?filename=hello.txt', {\n",
    "    method: 'POST',\n",
    "    body: 'hello',\n",
    "    })\n",
    "    .then(res => res.text())\n",
    "    .then(text => console.log(text));"
   ]
  }
 ],
 "metadata": {
  "kernelspec": {
   "display_name": "Deno",
   "language": "typescript",
   "name": "deno"
  },
  "language_info": {
   "file_extension": ".ts",
   "mimetype": "text/x.typescript",
   "name": "typescript",
   "nb_converter": "script",
   "pygments_lexer": "typescript",
   "version": "5.3.3"
  }
 },
 "nbformat": 4,
 "nbformat_minor": 2
}
