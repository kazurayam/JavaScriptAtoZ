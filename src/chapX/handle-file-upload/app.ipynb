{
 "cells": [
  {
   "cell_type": "markdown",
   "metadata": {},
   "source": [
    "# Deno the complete reference\n",
    "## Handle File Updloads in Deno\n",
    "\n",
    "https://medium.com/deno-the-complete-reference/handle-file-uploads-in-deno-ee14bd2b16d9"
   ]
  },
  {
   "cell_type": "code",
   "execution_count": 34,
   "metadata": {},
   "outputs": [
    {
     "ename": "TypeError",
     "evalue": "error sending request for url (http://localhost:8000/): error trying to connect: tcp connect error: Connection refused (os error 61)",
     "output_type": "error",
     "traceback": [
      "Stack trace:",
      "TypeError: error sending request for url (http://localhost:8000/): error trying to connect: tcp connect error: Connection refused (os error 61)",
      "    at async mainFetch (ext:deno_fetch/26_fetch.js:164:12)",
      "    at async fetch (ext:deno_fetch/26_fetch.js:385:7)",
      "    at async <anonymous>:2:1"
     ]
    }
   ],
   "source": [
    "// Equivalent to `curl --request POST --data-binary \"Hello\" http://localhost:8000`\n",
    "await fetch('http://localhost:8000', {\n",
    "    method: 'POST',\n",
    "    body: 'hello',\n",
    "    })\n",
    "    .then(res => res.text())\n",
    "    .then(text => console.log(text));"
   ]
  },
  {
   "cell_type": "code",
   "execution_count": 32,
   "metadata": {},
   "outputs": [
    {
     "name": "stdout",
     "output_type": "stream",
     "text": [
      "saved hello.txt\n"
     ]
    }
   ],
   "source": [
    "// Equivalent to `curl --request POST --data-binary \"Hello\" http://localhost:8000?filename=hello.txt`\n",
    "await fetch('http://localhost:8000?filename=hello.txt', {\n",
    "    method: 'POST',\n",
    "    body: 'hello',\n",
    "    })\n",
    "    .then(res => res.text())\n",
    "    .then(text => console.log(text));"
   ]
  }
 ],
 "metadata": {
  "kernelspec": {
   "display_name": "Deno",
   "language": "typescript",
   "name": "deno"
  },
  "language_info": {
   "file_extension": ".ts",
   "mimetype": "text/x.typescript",
   "name": "typescript",
   "nb_converter": "script",
   "pygments_lexer": "typescript",
   "version": "5.3.3"
  }
 },
 "nbformat": 4,
 "nbformat_minor": 2
}
