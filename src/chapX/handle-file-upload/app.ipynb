{
 "cells": [
  {
   "cell_type": "markdown",
   "metadata": {},
   "source": [
    "# Deno the complete reference\n",
    "## Handle File Updloads in Deno\n",
    "\n",
    "https://medium.com/deno-the-complete-reference/handle-file-uploads-in-deno-ee14bd2b16d9"
   ]
  },
  {
   "cell_type": "code",
   "execution_count": 33,
   "metadata": {},
   "outputs": [
    {
     "name": "stdout",
     "output_type": "stream",
     "text": [
      "saved 880322e4-e0a3-444b-9d49-5679caa9df60\n"
     ]
    }
   ],
   "source": [
    "// Equivalent to `curl --request POST --data-binary \"Hello\" http://localhost:8000`\n",
    "await fetch('http://localhost:8000', {\n",
    "    method: 'POST',\n",
    "    body: 'hello',\n",
    "    })\n",
    "    .then(res => res.text())\n",
    "    .then(text => console.log(text));"
   ]
  },
  {
   "cell_type": "code",
   "execution_count": 32,
   "metadata": {},
   "outputs": [
    {
     "name": "stdout",
     "output_type": "stream",
     "text": [
      "saved hello.txt\n"
     ]
    }
   ],
   "source": [
    "// Equivalent to `curl --request POST --data-binary \"Hello\" http://localhost:8000?filename=hello.txt`\n",
    "await fetch('http://localhost:8000?filename=hello.txt', {\n",
    "    method: 'POST',\n",
    "    body: 'hello',\n",
    "    })\n",
    "    .then(res => res.text())\n",
    "    .then(text => console.log(text));"
   ]
  }
 ],
 "metadata": {
  "kernelspec": {
   "display_name": "Deno",
   "language": "typescript",
   "name": "deno"
  },
  "language_info": {
   "file_extension": ".ts",
   "mimetype": "text/x.typescript",
   "name": "typescript",
   "nb_converter": "script",
   "pygments_lexer": "typescript",
   "version": "5.3.3"
  }
 },
 "nbformat": 4,
 "nbformat_minor": 2
}
