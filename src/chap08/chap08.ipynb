{
 "cells": [
  {
   "cell_type": "markdown",
   "metadata": {},
   "source": [
    "# 8 Object-oriented syntax"
   ]
  },
  {
   "cell_type": "code",
   "execution_count": 2,
   "metadata": {},
   "outputs": [
    {
     "name": "stdout",
     "output_type": "stream",
     "text": [
      "Member {}\n"
     ]
    },
    {
     "ename": "",
     "evalue": "",
     "output_type": "error",
     "traceback": [
      "\u001b[1;31mThe Kernel crashed while executing code in the the current cell or a previous cell. Please review the code in the cell(s) to identify a possible cause of the failure. Click <a href='https://aka.ms/vscodeJupyterKernelCrash'>here</a> for more info. View Jupyter <a href='command:jupyter.viewOutput'>log</a> for further details."
     ]
    }
   ],
   "source": [
    "let Member = class {};\n",
    "let m = new Member();\n",
    "console.log(m);"
   ]
  },
  {
   "cell_type": "code",
   "execution_count": 1,
   "metadata": {},
   "outputs": [
    {
     "name": "stdout",
     "output_type": "stream",
     "text": [
      "Member { name: \"名無権兵衛\", age: 0 }\n"
     ]
    }
   ],
   "source": [
    "let Member = class {\n",
    "  name = '名無権兵衛';\n",
    "  age = 0;\n",
    "};\n",
    "let m = new Member();\n",
    "console.log(m);"
   ]
  },
  {
   "cell_type": "code",
   "execution_count": 3,
   "metadata": {},
   "outputs": [
    {
     "name": "stdout",
     "output_type": "stream",
     "text": [
      "Member { name: \"名無権兵衛\", age: 0, gender: \"male\" }\n",
      "undefined\n"
     ]
    },
    {
     "ename": "",
     "evalue": "",
     "output_type": "error",
     "traceback": [
      "\u001b[1;31mThe Kernel crashed while executing code in the the current cell or a previous cell. Please review the code in the cell(s) to identify a possible cause of the failure. Click <a href='https://aka.ms/vscodeJupyterKernelCrash'>here</a> for more info. View Jupyter <a href='command:jupyter.viewOutput'>log</a> for further details."
     ]
    }
   ],
   "source": [
    "let Member = class {\n",
    "  name = '名無権兵衛';\n",
    "  age = 0;\n",
    "};\n",
    "let m = new Member();\n",
    "m.gender = 'male';\n",
    "console.log(m);\n",
    "\n",
    "console.log(m.address);"
   ]
  },
  {
   "cell_type": "code",
   "execution_count": 2,
   "metadata": {},
   "outputs": [
    {
     "name": "stdout",
     "output_type": "stream",
     "text": [
      "わたしの名前は名無権兵衛、0歳です\n"
     ]
    },
    {
     "ename": "",
     "evalue": "",
     "output_type": "error",
     "traceback": [
      "\u001b[1;31mThe Kernel crashed while executing code in the the current cell or a previous cell. Please review the code in the cell(s) to identify a possible cause of the failure. Click <a href='https://aka.ms/vscodeJupyterKernelCrash'>here</a> for more info. View Jupyter <a href='command:jupyter.viewOutput'>log</a> for further details."
     ]
    }
   ],
   "source": [
    "let Member = class {\n",
    "  name = '名無権兵衛';\n",
    "  age = 0;\n",
    "  show() {\n",
    "    console.log(`わたしの名前は${this.name}、${this.age}歳です`);\n",
    "  }\n",
    "};\n",
    "let m = new Member();\n",
    "m.show();"
   ]
  },
  {
   "cell_type": "markdown",
   "metadata": {},
   "source": [
    "### 8.1.4 Constructor"
   ]
  },
  {
   "cell_type": "code",
   "execution_count": 4,
   "metadata": {},
   "outputs": [
    {
     "name": "stdout",
     "output_type": "stream",
     "text": [
      "わたしの名前は大谷翔平、27歳です\n"
     ]
    }
   ],
   "source": [
    "let Member = class {\n",
    "  constructor(name = '名無権兵衛', age = 0) {\n",
    "    this.name = name;\n",
    "    this.age = age;\n",
    "  }\n",
    "  show() {\n",
    "    console.log(`わたしの名前は${this.name}、${this.age}歳です`);\n",
    "  }\n",
    "};\n",
    "\n",
    "let m = new Member('大谷翔平', 27)\n",
    "m.show();"
   ]
  },
  {
   "cell_type": "code",
   "execution_count": 5,
   "metadata": {},
   "outputs": [
    {
     "name": "stdout",
     "output_type": "stream",
     "text": [
      "わたしの名前は大谷翔平、27歳です\n"
     ]
    }
   ],
   "source": [
    "let Member = class {\n",
    "  constructor(name = '名無権兵衛', age = 0) {\n",
    "    Object.assign(this, { name, age });\n",
    "  }\n",
    "  show() {\n",
    "    console.log(`わたしの名前は${this.name}、${this.age}歳です`);\n",
    "  }\n",
    "};\n",
    "\n",
    "let m = new Member('大谷翔平', 27)\n",
    "m.show();"
   ]
  },
  {
   "cell_type": "markdown",
   "metadata": {},
   "source": [
    "### 8.1.5 Static property, static method"
   ]
  },
  {
   "cell_type": "code",
   "execution_count": 8,
   "metadata": {},
   "outputs": [
    {
     "name": "stdout",
     "output_type": "stream",
     "text": [
      "3.14\n",
      "314\n"
     ]
    },
    {
     "ename": "",
     "evalue": "",
     "output_type": "error",
     "traceback": [
      "\u001b[1;31mThe Kernel crashed while executing code in the the current cell or a previous cell. Please review the code in the cell(s) to identify a possible cause of the failure. Click <a href='https://aka.ms/vscodeJupyterKernelCrash'>here</a> for more info. View Jupyter <a href='command:jupyter.viewOutput'>log</a> for further details."
     ]
    }
   ],
   "source": [
    "let Area = class {\n",
    "  static pi = 3.14;\n",
    "  static circle(radius) {\n",
    "    return (radius**2) * this.pi;\n",
    "  }\n",
    "};\n",
    "console.log(Area.pi);\n",
    "console.log(Area.circle(10));"
   ]
  },
  {
   "cell_type": "code",
   "execution_count": null,
   "metadata": {},
   "outputs": [],
   "source": [
    "let Member = class {\n",
    "  static cache = new Map();\n",
    "\n",
    "  constructor(name) {\n",
    "    this.name = name;\n",
    "  }\n",
    "\n",
    "  static of(name) {\n",
    "    if (this.cache.has(name)) {\n",
    "      return this.cache.get(name);\n",
    "    }\n",
    "    let m = new Member(name);\n",
    "    this.cache.set(name, m);\n",
    "    return m;\n",
    "  }\n",
    "};\n",
    "\n",
    "let m1 = Member.of(\"太宰治\");\n",
    "let m2 = Member.of(\"太宰治\");\n",
    "console.log(m1 === m2);"
   ]
  },
  {
   "cell_type": "markdown",
   "metadata": {},
   "source": [
    "### 8.1.6 this"
   ]
  },
  {
   "cell_type": "code",
   "execution_count": 4,
   "metadata": {},
   "outputs": [
    {
     "name": "stdout",
     "output_type": "stream",
     "text": [
      "こんにちは 小山田 さん\n",
      "こんにちは 小山田 さん\n"
     ]
    },
    {
     "ename": "",
     "evalue": "",
     "output_type": "error",
     "traceback": [
      "\u001b[1;31mThe Kernel crashed while executing code in the the current cell or a previous cell. Please review the code in the cell(s) to identify a possible cause of the failure. Click <a href='https://aka.ms/vscodeJupyterKernelCrash'>here</a> for more info. View Jupyter <a href='command:jupyter.viewOutput'>log</a> for further details."
     ]
    }
   ],
   "source": [
    "globalThis.name = '大山田';\n",
    "\n",
    "let member = {\n",
    "  name: '小山田',\n",
    "  greet() {\n",
    "    console.log(`こんにちは ${this.name} さん`);\n",
    "  }\n",
    "}\n",
    "function myHigher(fn) {\n",
    "  fn();\n",
    "}\n",
    "member.greet();\n",
    "//myHigher(member.greet);\n",
    "myHigher(member.greet.bind(member));"
   ]
  },
  {
   "cell_type": "markdown",
   "metadata": {},
   "source": [
    "## 8.2 Encapsulation"
   ]
  },
  {
   "cell_type": "code",
   "execution_count": 2,
   "metadata": {},
   "outputs": [
    {
     "name": "stdout",
     "output_type": "stream",
     "text": [
      "わたしの名前は大谷翔平 27歳です\n"
     ]
    },
    {
     "data": {
      "text/plain": [
       "\u001b[32m\"わたしの名前は大谷翔平 27歳です\"\u001b[39m"
      ]
     },
     "execution_count": 2,
     "metadata": {},
     "output_type": "execute_result"
    },
    {
     "ename": "",
     "evalue": "",
     "output_type": "error",
     "traceback": [
      "\u001b[1;31mThe Kernel crashed while executing code in the the current cell or a previous cell. Please review the code in the cell(s) to identify a possible cause of the failure. Click <a href='https://aka.ms/vscodeJupyterKernelCrash'>here</a> for more info. View Jupyter <a href='command:jupyter.viewOutput'>log</a> for further details."
     ]
    }
   ],
   "source": [
    "let Member = class {\n",
    "  // private\n",
    "  #name = '';\n",
    "  #age = 0;\n",
    "\n",
    "  constructor(name, age) {\n",
    "    this.#name = name;\n",
    "    this.#age = age;\n",
    "  }\n",
    "\n",
    "  #createMessage() {\n",
    "    return `わたしの名前は${this.#name} ${this.#age}歳です`;\n",
    "  }\n",
    "\n",
    "  show() {\n",
    "    console.log(this.#createMessage());\n",
    "  }\n",
    "};\n",
    "\n",
    "let m = new Member('大谷翔平', 27);\n",
    "m.show();\n",
    "m.#createMessage();"
   ]
  },
  {
   "cell_type": "code",
   "execution_count": 1,
   "metadata": {},
   "outputs": [
    {
     "name": "stdout",
     "output_type": "stream",
     "text": [
      "わたしの名前は大谷翔平 28歳です\n"
     ]
    },
    {
     "ename": "",
     "evalue": "",
     "output_type": "error",
     "traceback": [
      "\u001b[1;31mThe Kernel crashed while executing code in the the current cell or a previous cell. Please review the code in the cell(s) to identify a possible cause of the failure. Click <a href='https://aka.ms/vscodeJupyterKernelCrash'>here</a> for more info. View Jupyter <a href='command:jupyter.viewOutput'>log</a> for further details."
     ]
    }
   ],
   "source": [
    "let Member = class {\n",
    "  // private\n",
    "  #name = '';\n",
    "  #age = 0;\n",
    "\n",
    "  constructor(name, age) {\n",
    "    this.#name = name;\n",
    "    this.#age = age;\n",
    "  }\n",
    "\n",
    "  get name() {\n",
    "    return this.#name;\n",
    "  }\n",
    "\n",
    "  get age() {\n",
    "    return this.#age;\n",
    "  }\n",
    "\n",
    "  set age(value) {\n",
    "    if (typeof(value) !== 'number' || value < 0 || value > 120) {\n",
    "      throw new TypeError(`invalid value of age: ${this.age}`);\n",
    "    }\n",
    "    this.#age = value;\n",
    "  }\n",
    "\n",
    "  #createMessage() {\n",
    "    return `わたしの名前は${this.#name} ${this.#age}歳です`;\n",
    "  }\n",
    "\n",
    "  show() {\n",
    "    console.log(this.#createMessage());\n",
    "  }\n",
    "};\n",
    "\n",
    "let m = new Member('大谷翔平', 27);\n",
    "m.age = 28;\n",
    "m.show();"
   ]
  },
  {
   "cell_type": "markdown",
   "metadata": {},
   "source": [
    "### 8.2.4 Immutable Class"
   ]
  },
  {
   "cell_type": "code",
   "execution_count": 3,
   "metadata": {},
   "outputs": [
    {
     "name": "stdout",
     "output_type": "stream",
     "text": [
      "わたしの名前は大谷翔平 誕生日は2023年12月18日です\n"
     ]
    },
    {
     "ename": "",
     "evalue": "",
     "output_type": "error",
     "traceback": [
      "\u001b[1;31mThe Kernel crashed while executing code in the the current cell or a previous cell. Please review the code in the cell(s) to identify a possible cause of the failure. Click <a href='https://aka.ms/vscodeJupyterKernelCrash'>here</a> for more info. View Jupyter <a href='command:jupyter.viewOutput'>log</a> for further details."
     ]
    }
   ],
   "source": [
    "let Member = class {\n",
    "  // private\n",
    "  #name = '';\n",
    "  #birth = new Date();\n",
    "\n",
    "  constructor(name, birth) {\n",
    "    this.#name = name;\n",
    "    this.#birth = new Date(birth.getTime());  // should copy the value defensively\n",
    "    Object.freeze(this);\n",
    "  }\n",
    "\n",
    "  get name() {\n",
    "    return this.#name;\n",
    "  }\n",
    "\n",
    "  get birth() {\n",
    "    return this.#birth;\n",
    "  }\n",
    "\n",
    "  #createMessage() {\n",
    "    let fmt = new Intl.DateTimeFormat('ja-JP', {\n",
    "      year: 'numeric',\n",
    "      month: 'short',\n",
    "      day: '2-digit'\n",
    "    })\n",
    "    return `わたしの名前は${this.#name} 誕生日は${fmt.format(this.#birth)}です`;\n",
    "  }\n",
    "\n",
    "  withName(name) {\n",
    "    return new Member(name, this.birth);\n",
    "  }\n",
    "\n",
    "  show() {\n",
    "    console.log(this.#createMessage());\n",
    "  }\n",
    "};\n",
    "Object.freeze(Member.prototype);\n",
    "\n",
    "let m = new Member('大谷翔平', new Date());\n",
    "m.show();"
   ]
  },
  {
   "cell_type": "markdown",
   "metadata": {},
   "source": [
    "## 8.3 Inheritance 継承"
   ]
  },
  {
   "cell_type": "code",
   "execution_count": 1,
   "metadata": {},
   "outputs": [
    {
     "name": "stdout",
     "output_type": "stream",
     "text": [
      "こんにちは、坂本龍馬さん\n",
      "坂本龍馬は働いています\n"
     ]
    }
   ],
   "source": [
    "let Member = class {\n",
    "  constructor(name = '名無権兵衛') {\n",
    "    this.name = name;\n",
    "  }\n",
    "  greet() {\n",
    "    return `こんにちは、${this.name}さん`;\n",
    "  }\n",
    "};\n",
    "\n",
    "let BusinessMember = class extends Member {\n",
    "  work() {\n",
    "    return `${this.name}は働いています`\n",
    "  }\n",
    "};\n",
    "\n",
    "let bm = new BusinessMember('坂本龍馬');\n",
    "console.log(bm.greet());\n",
    "console.log(bm.work());"
   ]
  },
  {
   "cell_type": "markdown",
   "metadata": {},
   "source": [
    "### 8.3.4 Delegation 委譲"
   ]
  },
  {
   "cell_type": "code",
   "execution_count": 2,
   "metadata": {},
   "outputs": [
    {
     "name": "stdout",
     "output_type": "stream",
     "text": [
      "10\n",
      "20\n"
     ]
    },
    {
     "ename": "",
     "evalue": "",
     "output_type": "error",
     "traceback": [
      "\u001b[1;31mThe Kernel crashed while executing code in the the current cell or a previous cell. Please review the code in the cell(s) to identify a possible cause of the failure. Click <a href='https://aka.ms/vscodeJupyterKernelCrash'>here</a> for more info. View Jupyter <a href='command:jupyter.viewOutput'>log</a> for further details."
     ]
    }
   ],
   "source": [
    "let Queue = class {\n",
    "  #list = [];\n",
    "\n",
    "  constructor(...data) {\n",
    "    this.#list = data;\n",
    "  }\n",
    "\n",
    "  enqueue(elem) {\n",
    "    this.#list.push(elem);\n",
    "  }\n",
    "\n",
    "  dequeue() {\n",
    "    return this.#list.shift();\n",
    "  }\n",
    "\n",
    "  peek() {\n",
    "    return this.#list[0];\n",
    "  }\n",
    "}\n",
    "\n",
    "let q = new Queue(10, 20, 30);\n",
    "q.enqueue(40);\n",
    "console.log(q.dequeue());\n",
    "console.log(q.peek());"
   ]
  },
  {
   "cell_type": "markdown",
   "metadata": {},
   "source": [
    "### Mix-in"
   ]
  },
  {
   "cell_type": "code",
   "execution_count": 2,
   "metadata": {},
   "outputs": [
    {
     "name": "stdout",
     "output_type": "stream",
     "text": [
      "name:まめ\n",
      "gender:male\n",
      "age:2\n"
     ]
    }
   ],
   "source": [
    "let LogMixIn = {\n",
    "  showProperties() {\n",
    "    for (let [key, value] of Object.entries(this)) {\n",
    "      console.log(`${key}:${value}`);\n",
    "    }\n",
    "  }\n",
    "}\n",
    "\n",
    "let Hamster = class {\n",
    "  name = 'まめ';\n",
    "  gender = 'male';\n",
    "  age = 2;\n",
    "}\n",
    "\n",
    "Object.assign(Hamster.prototype, LogMixIn);    // えーー、こういうやり方するのかあ、なるほどね\n",
    "\n",
    "let m = new Hamster();\n",
    "m.showProperties();"
   ]
  },
  {
   "cell_type": "markdown",
   "metadata": {},
   "source": [
    "### 8.3.6 オブジェクトの型を判定する"
   ]
  },
  {
   "cell_type": "code",
   "execution_count": 9,
   "metadata": {},
   "outputs": [
    {
     "name": "stdout",
     "output_type": "stream",
     "text": [
      "true\n",
      "true\n",
      "false\n",
      "-------------------------\n",
      "true\n",
      "true\n",
      "true\n",
      "-------------------------\n",
      "true\n",
      "true\n",
      "true\n"
     ]
    }
   ],
   "source": [
    "class Animal {}\n",
    "class Hamster extends Animal {}\n",
    "\n",
    "let ani = new Animal();\n",
    "let ham = new Hamster();\n",
    "console.log(ani.constructor === Animal);\n",
    "console.log(ham.constructor === Hamster);\n",
    "console.log(ham.constructor === Animal);\n",
    "console.log(\"-------------------------\");\n",
    "console.log(ani instanceof Animal);\n",
    "console.log(ham instanceof Hamster);\n",
    "console.log(ham instanceof Animal);\n",
    "console.log(\"-------------------------\");\n",
    "console.log(Hamster.prototype.isPrototypeOf(ham));\n",
    "console.log(Animal.prototype.isPrototypeOf(ham));\n",
    "console.log(Object.prototype.isPrototypeOf(ham));\n"
   ]
  },
  {
   "cell_type": "markdown",
   "metadata": {},
   "source": [
    "## 8.4 Module"
   ]
  },
  {
   "cell_type": "code",
   "execution_count": 11,
   "metadata": {},
   "outputs": [
    {
     "ename": "SyntaxError",
     "evalue": "Cannot use 'import.meta' outside a module",
     "output_type": "error",
     "traceback": [
      "Stack trace:",
      "SyntaxError: Cannot use 'import.meta' outside a module"
     ]
    }
   ],
   "source": [
    "import { getTriangleArea, Member } from \"./lib/utils.js\";\n",
    "\n",
    "console.log(getTriangleArea(3, 4));"
   ]
  },
  {
   "cell_type": "code",
   "execution_count": 12,
   "metadata": {},
   "outputs": [
    {
     "name": "stdout",
     "output_type": "stream",
     "text": [
      "6\n"
     ]
    }
   ],
   "source": [
    "import { getTriangleArea as triangle } from \"./lib/utils.js\";\n",
    "\n",
    "console.log(triangle(3, 4));"
   ]
  },
  {
   "cell_type": "code",
   "execution_count": 13,
   "metadata": {},
   "outputs": [
    {
     "name": "stdout",
     "output_type": "stream",
     "text": [
      "314.1592653589793\n"
     ]
    }
   ],
   "source": [
    "import Area from './lib/area.js'\n",
    "\n",
    "console.log(Area.circle(10));"
   ]
  },
  {
   "cell_type": "markdown",
   "metadata": {},
   "source": [
    "### dynamic import"
   ]
  },
  {
   "cell_type": "code",
   "execution_count": 21,
   "metadata": {},
   "outputs": [
    {
     "name": "stdout",
     "output_type": "stream",
     "text": [
      "10\n"
     ]
    },
    {
     "data": {
      "text/plain": [
       "Promise {\n",
       "  \u001b[36m<rejected>\u001b[39m TypeError: m.show is not a function\n",
       "    at <anonymous>:4:5\n",
       "}"
      ]
     },
     "execution_count": 21,
     "metadata": {},
     "output_type": "execute_result"
    }
   ],
   "source": [
    "import('./lib/utils.js').then(util => {\n",
    "  console.log(util.getTriangleArea(10, 2));\n",
    "\n",
    "  let m = new util.Member('坂本龍馬', 25);\n",
    "  m.show();\n",
    "});"
   ]
  },
  {
   "cell_type": "markdown",
   "metadata": {},
   "source": [
    "## 8.5 Iterator, Generator, Proxy, "
   ]
  },
  {
   "cell_type": "markdown",
   "metadata": {},
   "source": [
    "### Iterator"
   ]
  },
  {
   "cell_type": "code",
   "execution_count": 2,
   "metadata": {},
   "outputs": [
    {
     "name": "stdout",
     "output_type": "stream",
     "text": [
      "one\n",
      "two\n",
      "three\n"
     ]
    },
    {
     "ename": "",
     "evalue": "",
     "output_type": "error",
     "traceback": [
      "\u001b[1;31mThe Kernel crashed while executing code in the the current cell or a previous cell. Please review the code in the cell(s) to identify a possible cause of the failure. Click <a href='https://aka.ms/vscodeJupyterKernelCrash'>here</a> for more info. View Jupyter <a href='command:jupyter.viewOutput'>log</a> for further details."
     ]
    }
   ],
   "source": [
    "let MyIterator = class {\n",
    "  constructor(data) {\n",
    "    this.data = data;\n",
    "  }\n",
    "\n",
    "  [Symbol.iterator]() {\n",
    "    let current = 0;\n",
    "    let that = this;\n",
    "    return {\n",
    "      next() {\n",
    "        return current < that.data.length ?\n",
    "          { value: that.data[current++], done: false} :\n",
    "          { done: true };\n",
    "      }\n",
    "    };\n",
    "  }\n",
    "};\n",
    "\n",
    "let iter = new MyIterator(['one', 'two', 'three']);\n",
    "for (let v of iter) {\n",
    "  console.log(v);\n",
    "}"
   ]
  },
  {
   "cell_type": "markdown",
   "metadata": {},
   "source": [
    "### 8.5.2 Generator"
   ]
  },
  {
   "cell_type": "code",
   "execution_count": 1,
   "metadata": {},
   "outputs": [
    {
     "name": "stdout",
     "output_type": "stream",
     "text": [
      "あいうえお\n",
      "かきくけこ\n",
      "さしすせそ\n"
     ]
    }
   ],
   "source": [
    "function* myGenerator() {\n",
    "  yield 'あいうえお';\n",
    "  yield 'かきくけこ';\n",
    "  yield 'さしすせそ';\n",
    "}\n",
    "\n",
    "for (let t of myGenerator()) {\n",
    "  console.log(t);\n",
    "}"
   ]
  },
  {
   "cell_type": "code",
   "execution_count": 2,
   "metadata": {},
   "outputs": [
    {
     "name": "stdout",
     "output_type": "stream",
     "text": [
      "2\n",
      "3\n",
      "4\n",
      "5\n",
      "6\n",
      "7\n",
      "8\n",
      "9\n",
      "11\n",
      "13\n",
      "15\n",
      "17\n",
      "19\n",
      "23\n",
      "25\n",
      "29\n",
      "31\n",
      "35\n",
      "37\n",
      "41\n",
      "43\n",
      "47\n",
      "49\n",
      "53\n",
      "59\n",
      "61\n",
      "67\n",
      "71\n",
      "73\n",
      "79\n",
      "83\n",
      "89\n",
      "97\n"
     ]
    }
   ],
   "source": [
    "// 素数を発生するgenerator関数\n",
    "function* generatePrimes() {\n",
    "  let num = 2;\n",
    "  while (true) {\n",
    "    if (isPrime(num)) { yield num; }\n",
    "    num++;\n",
    "  }\n",
    "}\n",
    "\n",
    "function isPrime(value) {\n",
    "  let prime = true;\n",
    "  for (let i = 2; i < Math.floor(Math.sqrt(value)); i++) {\n",
    "    if (value % i === 0) {\n",
    "      prime = false;\n",
    "      break;\n",
    "    }\n",
    "  }\n",
    "  return prime;\n",
    "}\n",
    "\n",
    "for (let value of generatePrimes()) {\n",
    "  if (value > 100) { break; }\n",
    "  console.log(value);\n",
    "}\n"
   ]
  },
  {
   "cell_type": "markdown",
   "metadata": {},
   "source": [
    "### toString()"
   ]
  },
  {
   "cell_type": "code",
   "execution_count": 4,
   "metadata": {},
   "outputs": [
    {
     "name": "stdout",
     "output_type": "stream",
     "text": [
      "(5, 2)\n",
      "5.385164807134504\n"
     ]
    }
   ],
   "source": [
    "let Coordinate = class {\n",
    "  constructor(x, y) {\n",
    "    this.x = x;\n",
    "    this.y = y;\n",
    "  }\n",
    "\n",
    "  toString() {\n",
    "    return `(${this.x}, ${this.y})`;\n",
    "  }\n",
    "\n",
    "  valueOf() {\n",
    "    return Math.sqrt(this.x ** 2 + this.y ** 2);\n",
    "  }\n",
    "}\n",
    "\n",
    "let c = new Coordinate(5, 2);\n",
    "console.log(c.toString());\n",
    "console.log(c.valueOf());"
   ]
  },
  {
   "cell_type": "markdown",
   "metadata": {},
   "source": [
    "### Proxy"
   ]
  },
  {
   "cell_type": "code",
   "execution_count": 5,
   "metadata": {},
   "outputs": [
    {
     "name": "stdout",
     "output_type": "stream",
     "text": [
      "赤\n",
      "?\n"
     ]
    }
   ],
   "source": [
    "let data = { red: '赤', yellow: '黄' };\n",
    "let proxy = new Proxy(data, {\n",
    "  get(target, prop) {\n",
    "    return prop in target ? target[prop] : '?';\n",
    "  }\n",
    "});\n",
    "\n",
    "console.log(proxy.red);\n",
    "console.log(proxy.blue);\n",
    "\n"
   ]
  }
 ],
 "metadata": {
  "kernelspec": {
   "display_name": "Deno",
   "language": "typescript",
   "name": "deno"
  },
  "language_info": {
   "file_extension": ".ts",
   "mimetype": "text/x.typescript",
   "name": "typescript",
   "nb_converter": "script",
   "pygments_lexer": "typescript",
   "version": "5.3.3"
  }
 },
 "nbformat": 4,
 "nbformat_minor": 2
}
